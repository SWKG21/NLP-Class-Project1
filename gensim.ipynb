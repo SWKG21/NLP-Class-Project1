{
 "cells": [
  {
   "cell_type": "code",
   "execution_count": 1,
   "metadata": {
    "collapsed": true
   },
   "outputs": [],
   "source": [
    "import logging\n",
    "import numpy as np\n",
    "import pandas as pd\n",
    "from collections import defaultdict\n",
    "import gensim\n",
    "from gensim.parsing.preprocessing import STOPWORDS\n",
    "\n",
    "logging.basicConfig(format='%(asctime)s : %(levelname)s : %(message)s', level=logging.INFO)"
   ]
  },
  {
   "cell_type": "code",
   "execution_count": 2,
   "metadata": {},
   "outputs": [
    {
     "data": {
      "text/html": [
       "<div>\n",
       "<style scoped>\n",
       "    .dataframe tbody tr th:only-of-type {\n",
       "        vertical-align: middle;\n",
       "    }\n",
       "\n",
       "    .dataframe tbody tr th {\n",
       "        vertical-align: top;\n",
       "    }\n",
       "\n",
       "    .dataframe thead th {\n",
       "        text-align: right;\n",
       "    }\n",
       "</style>\n",
       "<table border=\"1\" class=\"dataframe\">\n",
       "  <thead>\n",
       "    <tr style=\"text-align: right;\">\n",
       "      <th></th>\n",
       "      <th>id</th>\n",
       "      <th>year</th>\n",
       "      <th>title</th>\n",
       "      <th>authors</th>\n",
       "      <th>journal</th>\n",
       "      <th>abstract</th>\n",
       "    </tr>\n",
       "  </thead>\n",
       "  <tbody>\n",
       "    <tr>\n",
       "      <th>0</th>\n",
       "      <td>1001</td>\n",
       "      <td>2000</td>\n",
       "      <td>compactification geometry and duality</td>\n",
       "      <td>Paul S. Aspinwall</td>\n",
       "      <td>NaN</td>\n",
       "      <td>these are notes based on lectures given at tas...</td>\n",
       "    </tr>\n",
       "    <tr>\n",
       "      <th>1</th>\n",
       "      <td>1002</td>\n",
       "      <td>2000</td>\n",
       "      <td>domain walls and massive gauged supergravity p...</td>\n",
       "      <td>M. Cvetic, H. Lu, C.N. Pope</td>\n",
       "      <td>Class.Quant.Grav.</td>\n",
       "      <td>we point out that massive gauged supergravity ...</td>\n",
       "    </tr>\n",
       "    <tr>\n",
       "      <th>2</th>\n",
       "      <td>1003</td>\n",
       "      <td>2000</td>\n",
       "      <td>comment on metric fluctuations in brane worlds</td>\n",
       "      <td>Y.S. Myung, Gungwon Kang</td>\n",
       "      <td>NaN</td>\n",
       "      <td>recently ivanov and volovich hep-th 9912242 cl...</td>\n",
       "    </tr>\n",
       "    <tr>\n",
       "      <th>3</th>\n",
       "      <td>1004</td>\n",
       "      <td>2000</td>\n",
       "      <td>moving mirrors and thermodynamic paradoxes</td>\n",
       "      <td>Adam D. Helfer</td>\n",
       "      <td>Phys.Rev.</td>\n",
       "      <td>quantum fields responding to moving mirrors ha...</td>\n",
       "    </tr>\n",
       "    <tr>\n",
       "      <th>4</th>\n",
       "      <td>1005</td>\n",
       "      <td>2000</td>\n",
       "      <td>bundles of chiral blocks and boundary conditio...</td>\n",
       "      <td>J. Fuchs, C. Schweigert</td>\n",
       "      <td>NaN</td>\n",
       "      <td>proceedings of lie iii clausthal july 1999 var...</td>\n",
       "    </tr>\n",
       "  </tbody>\n",
       "</table>\n",
       "</div>"
      ],
      "text/plain": [
       "     id  year                                              title  \\\n",
       "0  1001  2000              compactification geometry and duality   \n",
       "1  1002  2000  domain walls and massive gauged supergravity p...   \n",
       "2  1003  2000     comment on metric fluctuations in brane worlds   \n",
       "3  1004  2000         moving mirrors and thermodynamic paradoxes   \n",
       "4  1005  2000  bundles of chiral blocks and boundary conditio...   \n",
       "\n",
       "                       authors            journal  \\\n",
       "0            Paul S. Aspinwall                NaN   \n",
       "1  M. Cvetic, H. Lu, C.N. Pope  Class.Quant.Grav.   \n",
       "2     Y.S. Myung, Gungwon Kang                NaN   \n",
       "3               Adam D. Helfer          Phys.Rev.   \n",
       "4      J. Fuchs, C. Schweigert                NaN   \n",
       "\n",
       "                                            abstract  \n",
       "0  these are notes based on lectures given at tas...  \n",
       "1  we point out that massive gauged supergravity ...  \n",
       "2  recently ivanov and volovich hep-th 9912242 cl...  \n",
       "3  quantum fields responding to moving mirrors ha...  \n",
       "4  proceedings of lie iii clausthal july 1999 var...  "
      ]
     },
     "execution_count": 2,
     "metadata": {},
     "output_type": "execute_result"
    }
   ],
   "source": [
    "node_info = pd.read_csv('data/node_information.csv', header=None)\n",
    "node_info.columns = ['id', 'year', 'title', 'authors', 'journal', 'abstract']\n",
    "node_info.head()"
   ]
  },
  {
   "cell_type": "code",
   "execution_count": 3,
   "metadata": {
    "collapsed": true
   },
   "outputs": [],
   "source": [
    "def tokenizer(line):\n",
    "    return [token for token in line.split() if len(token)>1 and token not in STOPWORDS]"
   ]
  },
  {
   "cell_type": "code",
   "execution_count": 5,
   "metadata": {
    "collapsed": true
   },
   "outputs": [],
   "source": [
    "texts = [tokenizer(node_info.loc[i, 'abstract']) for i in range(len(node_info))]"
   ]
  },
  {
   "cell_type": "code",
   "execution_count": 6,
   "metadata": {
    "collapsed": true
   },
   "outputs": [],
   "source": [
    "frequency = defaultdict(int)\n",
    "for text in texts:\n",
    "    for token in text:\n",
    "        frequency[token] += 1\n",
    "texts = [[token for token in text if frequency[token]>2] for text in texts]"
   ]
  },
  {
   "cell_type": "code",
   "execution_count": 7,
   "metadata": {
    "collapsed": true
   },
   "outputs": [],
   "source": [
    "dictionary = gensim.corpora.Dictionary(texts)\n",
    "dictionary.filter_extremes(no_above=0.6, no_below=5)\n",
    "dictionary.save('gensim/word2id.dict')"
   ]
  },
  {
   "cell_type": "code",
   "execution_count": 8,
   "metadata": {
    "collapsed": true
   },
   "outputs": [],
   "source": [
    "corpus = [dictionary.doc2bow(text) for text in texts]"
   ]
  },
  {
   "cell_type": "code",
   "execution_count": 9,
   "metadata": {
    "scrolled": true
   },
   "outputs": [
    {
     "name": "stdout",
     "output_type": "stream",
     "text": [
      "Dictionary(10009 unique tokens: ['linear', 'rigidly', 'suggests', 'proportional', 'nlie']...)\n"
     ]
    }
   ],
   "source": [
    "print(dictionary)"
   ]
  },
  {
   "cell_type": "code",
   "execution_count": 10,
   "metadata": {
    "collapsed": true
   },
   "outputs": [],
   "source": [
    "tfidf = gensim.models.TfidfModel(corpus, id2word=dictionary)\n",
    "tfidf.save('gensim/model.tfidf')\n",
    "corpus_tfidf = tfidf[corpus]\n",
    "gensim.corpora.MmCorpus.serialize('gensim/corpus_tfidf.mm', corpus_tfidf)"
   ]
  },
  {
   "cell_type": "code",
   "execution_count": 11,
   "metadata": {
    "collapsed": true,
    "scrolled": true
   },
   "outputs": [],
   "source": [
    "lsi = gensim.models.LsiModel(corpus_tfidf, id2word=dictionary, num_topics=4200)\n",
    "lsi.save('gensim/model_4200.lsi')"
   ]
  },
  {
   "cell_type": "code",
   "execution_count": 12,
   "metadata": {},
   "outputs": [
    {
     "data": {
      "text/plain": [
       "(27770, 4200)"
      ]
     },
     "execution_count": 12,
     "metadata": {},
     "output_type": "execute_result"
    }
   ],
   "source": [
    "vecs_tuple = lsi[corpus_tfidf]"
   ]
  },
  {
   "cell_type": "code",
   "execution_count": 27,
   "metadata": {},
   "outputs": [
    {
     "name": "stdout",
     "output_type": "stream",
     "text": [
      "0 rows treated\n",
      "2000 rows treated\n",
      "4000 rows treated\n",
      "6000 rows treated\n",
      "8000 rows treated\n",
      "10000 rows treated\n",
      "12000 rows treated\n",
      "14000 rows treated\n",
      "16000 rows treated\n",
      "18000 rows treated\n",
      "20000 rows treated\n",
      "22000 rows treated\n",
      "24000 rows treated\n",
      "26000 rows treated\n"
     ]
    }
   ],
   "source": [
    "num_topics = 4200\n",
    "docs_vec = np.zeros((len(vecs_tuple), num_topics))\n",
    "for r, tuples in enumerate(vecs_tuple):\n",
    "    for t in tuples:\n",
    "        docs_vec[r, t[0]] = t[1]\n",
    "    if r%2000 == 0:\n",
    "        print('{} rows treated'.format(r))"
   ]
  },
  {
   "cell_type": "code",
   "execution_count": 32,
   "metadata": {
    "collapsed": true
   },
   "outputs": [],
   "source": [
    "np.savetxt('gensim/docs_vec.txt', docs_vec, delimiter=' ')"
   ]
  },
  {
   "cell_type": "markdown",
   "metadata": {},
   "source": [
    "## Playing"
   ]
  },
  {
   "cell_type": "code",
   "execution_count": 44,
   "metadata": {
    "scrolled": true
   },
   "outputs": [
    {
     "data": {
      "text/plain": [
       "[(8, 0.060659075903626285),\n",
       " (12, 0.17703207586624298),\n",
       " (23, 0.04827692459504797),\n",
       " (32, 0.02782021526642745),\n",
       " (33, 0.25496337310366146),\n",
       " (36, 0.09968650576031687),\n",
       " (66, 0.05106095320939458),\n",
       " (146, 0.06178743760211393),\n",
       " (148, 0.029563155984323176),\n",
       " (151, 0.06653842690455128),\n",
       " (182, 0.054663498054397984),\n",
       " (186, 0.04545119925514492),\n",
       " (203, 0.03717496795443163),\n",
       " (210, 0.13238297108258432),\n",
       " (230, 0.03364115374497458),\n",
       " (263, 0.02171137615292644),\n",
       " (330, 0.032150427140223946),\n",
       " (336, 0.042938448511736546),\n",
       " (403, 0.050843468606784105),\n",
       " (406, 0.04781133813894132),\n",
       " (411, 0.04677091482282372),\n",
       " (414, 0.13242485430119386),\n",
       " (448, 0.05216519949618291),\n",
       " (456, 0.047766624430755224),\n",
       " (535, 0.08214432506684421),\n",
       " (541, 0.04475070193644054),\n",
       " (553, 0.06058493441261363),\n",
       " (556, 0.06181401965186967),\n",
       " (557, 0.0514207238272),\n",
       " (573, 0.05818336483019008),\n",
       " (614, 0.047777791275269155),\n",
       " (634, 0.0627166726475041),\n",
       " (638, 0.05212130483251284),\n",
       " (653, 0.05753752194806081),\n",
       " (685, 0.057681119867012416),\n",
       " (688, 0.05499167620868561),\n",
       " (704, 0.06775907610138715),\n",
       " (786, 0.057867638990410204),\n",
       " (841, 0.12594370316347928),\n",
       " (858, 0.06449922757439659),\n",
       " (891, 0.10811875142218663),\n",
       " (906, 0.07840456882198929),\n",
       " (917, 0.05867977335949768),\n",
       " (979, 0.05193245916949253),\n",
       " (1008, 0.20901339119818313),\n",
       " (1015, 0.09655012423894939),\n",
       " (1067, 0.15208687906835672),\n",
       " (1092, 0.0459922253964525),\n",
       " (1144, 0.07145514051015253),\n",
       " (1196, 0.05173152275151933),\n",
       " (1217, 0.06650283794930094),\n",
       " (1275, 0.07555472048859752),\n",
       " (1462, 0.08522483778183888),\n",
       " (1465, 0.0675301783150726),\n",
       " (1551, 0.05603676129924334),\n",
       " (1743, 0.06854634455062374),\n",
       " (1816, 0.10234160401883013),\n",
       " (1828, 0.08568373873407803),\n",
       " (1858, 0.06021924045764443),\n",
       " (2045, 0.06976057557887166),\n",
       " (2086, 0.1003889488611661),\n",
       " (2157, 0.06756810371025711),\n",
       " (2269, 0.2121014297902662),\n",
       " (2335, 0.09954483524230724),\n",
       " (2463, 0.07893247682057293),\n",
       " (2606, 0.06760611823688711),\n",
       " (2683, 0.07833054043814679),\n",
       " (2899, 0.13651769087603902),\n",
       " (3065, 0.07441388305274056),\n",
       " (3069, 0.10709248718240598),\n",
       " (3092, 0.22437795564243124),\n",
       " (3125, 0.08381741365072508),\n",
       " (3215, 0.11218897782121562),\n",
       " (3228, 0.06472059215433777),\n",
       " (3272, 0.08932224265456742),\n",
       " (3683, 0.12401121018027107),\n",
       " (3727, 0.08214432506684421),\n",
       " (3855, 0.07947819708727336),\n",
       " (3861, 0.0859181656437047),\n",
       " (4234, 0.08141311927783032),\n",
       " (4568, 0.3348021745860595),\n",
       " (5834, 0.13946677371476515),\n",
       " (6015, 0.11625403233588871),\n",
       " (6235, 0.10894309447846054),\n",
       " (6501, 0.1299592223490542),\n",
       " (7083, 0.12401121018027107),\n",
       " (7731, 0.1046616464536839),\n",
       " (8044, 0.11874744634820046),\n",
       " (8475, 0.1299592223490542),\n",
       " (8775, 0.12065260740131639),\n",
       " (9389, 0.1299592223490542),\n",
       " (9578, 0.1299592223490542),\n",
       " (9619, 0.13402427686372728),\n",
       " (9714, 0.13946677371476515),\n",
       " (9754, 0.13651769087603902)]"
      ]
     },
     "execution_count": 44,
     "metadata": {},
     "output_type": "execute_result"
    }
   ],
   "source": [
    "corpus_tfidf[13456]"
   ]
  },
  {
   "cell_type": "code",
   "execution_count": 39,
   "metadata": {
    "collapsed": true
   },
   "outputs": [],
   "source": [
    "from scipy.sparse import csr_matrix\n",
    "row = []\n",
    "col = []\n",
    "data = []\n",
    "for cnt, doc in enumerate(corpus_tfidf):\n",
    "    row += [cnt for _ in doc]\n",
    "    col += [t[0] for t in doc]\n",
    "    data += [t[1] for t in doc]\n",
    "row = np.array(row)\n",
    "col = np.array(col)\n",
    "data = np.array(data)"
   ]
  },
  {
   "cell_type": "code",
   "execution_count": 42,
   "metadata": {
    "collapsed": true
   },
   "outputs": [],
   "source": [
    "tfidf_matrix = csr_matrix((data, (row, col)), shape=(len(corpus_tfidf), max(col)+1))"
   ]
  },
  {
   "cell_type": "code",
   "execution_count": 45,
   "metadata": {},
   "outputs": [
    {
     "data": {
      "text/plain": [
       "0.1299592223490542"
      ]
     },
     "execution_count": 45,
     "metadata": {},
     "output_type": "execute_result"
    }
   ],
   "source": [
    "tfidf_matrix[13456, 9578]"
   ]
  },
  {
   "cell_type": "code",
   "execution_count": 49,
   "metadata": {
    "collapsed": true
   },
   "outputs": [],
   "source": [
    "from scipy.sparse.linalg import svds\n",
    "u, s, v = svds(tfidf_matrix, k=min(tfidf_matrix.shape)-1)"
   ]
  },
  {
   "cell_type": "code",
   "execution_count": 50,
   "metadata": {},
   "outputs": [
    {
     "data": {
      "text/plain": [
       "array([0.06334587, 0.09883528, 0.10469659, ..., 0.        , 0.        ,\n",
       "       0.        ])"
      ]
     },
     "execution_count": 50,
     "metadata": {},
     "output_type": "execute_result"
    }
   ],
   "source": [
    "s"
   ]
  },
  {
   "cell_type": "code",
   "execution_count": 84,
   "metadata": {},
   "outputs": [
    {
     "data": {
      "text/plain": [
       "array([0.0040127 , 0.00976841, 0.01096138, ..., 0.        , 0.        ,\n",
       "       0.        ])"
      ]
     },
     "execution_count": 84,
     "metadata": {},
     "output_type": "execute_result"
    }
   ],
   "source": [
    "s_square = s ** 2\n",
    "s_square"
   ]
  },
  {
   "cell_type": "code",
   "execution_count": 85,
   "metadata": {},
   "outputs": [
    {
     "data": {
      "text/plain": [
       "array([551.79804102, 146.29609222, 110.43499595, ...,   0.        ,\n",
       "         0.        ,   0.        ])"
      ]
     },
     "execution_count": 85,
     "metadata": {},
     "output_type": "execute_result"
    }
   ],
   "source": [
    "s_sort = s_square[np.argsort(s_square)[::-1]]\n",
    "s_sort"
   ]
  },
  {
   "cell_type": "code",
   "execution_count": 87,
   "metadata": {},
   "outputs": [
    {
     "data": {
      "text/plain": [
       "array([  1.98702932,   2.51384276,   2.91152009, ..., 100.        ,\n",
       "       100.        , 100.        ])"
      ]
     },
     "execution_count": 87,
     "metadata": {},
     "output_type": "execute_result"
    }
   ],
   "source": [
    "s_cum = s_sort.cumsum()/sum(s_sort) * 100\n",
    "s_cum"
   ]
  },
  {
   "cell_type": "code",
   "execution_count": 115,
   "metadata": {},
   "outputs": [
    {
     "data": {
      "text/plain": [
       "90.0118202597853"
      ]
     },
     "execution_count": 115,
     "metadata": {},
     "output_type": "execute_result"
    }
   ],
   "source": [
    "s_cum[4190]"
   ]
  },
  {
   "cell_type": "code",
   "execution_count": 83,
   "metadata": {},
   "outputs": [
    {
     "data": {
      "text/plain": [
       "12819.48841024983"
      ]
     },
     "execution_count": 83,
     "metadata": {},
     "output_type": "execute_result"
    }
   ],
   "source": [
    "s_sort.sum()"
   ]
  },
  {
   "cell_type": "code",
   "execution_count": 103,
   "metadata": {
    "collapsed": true
   },
   "outputs": [],
   "source": [
    "np.savetxt('gensim/tmp/s.txt', s, delimiter=' ')\n",
    "np.savetxt('gensim/tmp/s_sort.txt', s_sort, delimiter=' ')\n",
    "np.savetxt('gensim/tmp/s_cum.txt', s_cum, delimiter=' ')"
   ]
  },
  {
   "cell_type": "code",
   "execution_count": 123,
   "metadata": {
    "collapsed": true
   },
   "outputs": [],
   "source": [
    "from scipy.sparse import save_npz\n",
    "save_npz('gensim/tmp/tfidf_matrix.npz', tfidf_matrix)"
   ]
  },
  {
   "cell_type": "code",
   "execution_count": null,
   "metadata": {
    "collapsed": true
   },
   "outputs": [],
   "source": []
  }
 ],
 "metadata": {
  "anaconda-cloud": {},
  "kernelspec": {
   "display_name": "Python [default]",
   "language": "python",
   "name": "python3"
  },
  "language_info": {
   "codemirror_mode": {
    "name": "ipython",
    "version": 3
   },
   "file_extension": ".py",
   "mimetype": "text/x-python",
   "name": "python",
   "nbconvert_exporter": "python",
   "pygments_lexer": "ipython3",
   "version": "3.5.4"
  }
 },
 "nbformat": 4,
 "nbformat_minor": 2
}
