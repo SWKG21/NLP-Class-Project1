{
 "cells": [
  {
   "cell_type": "code",
   "execution_count": 1,
   "metadata": {},
   "outputs": [
    {
     "name": "stderr",
     "output_type": "stream",
     "text": [
      "/home/wangsun/anaconda3/lib/python3.5/site-packages/h5py/__init__.py:34: FutureWarning: Conversion of the second argument of issubdtype from `float` to `np.floating` is deprecated. In future, it will be treated as `np.float64 == np.dtype(float).type`.\n",
      "  from ._conv import register_converters as _register_converters\n",
      "Using TensorFlow backend.\n"
     ]
    }
   ],
   "source": [
    "import numpy as np \n",
    "import pandas as pd \n",
    "\n",
    "from sklearn.preprocessing import StandardScaler\n",
    "from sklearn.model_selection import cross_val_score\n",
    "from sklearn.utils import shuffle\n",
    "from sklearn.metrics import f1_score\n",
    "\n",
    "from keras.layers import Dense, Activation, Dropout\n",
    "from keras.models import Sequential\n",
    "from keras.losses import binary_crossentropy\n",
    "from keras.metrics import mean_absolute_error\n",
    "from keras.optimizers import Adam, Adagrad, RMSprop\n",
    "from keras.regularizers import l2"
   ]
  },
  {
   "cell_type": "code",
   "execution_count": 2,
   "metadata": {
    "collapsed": true
   },
   "outputs": [],
   "source": [
    "path = '../../project1/data/'\n",
    "train = pd.read_csv(path + 'train_all2.csv')\n",
    "test = pd.read_csv(path + 'test_all2.csv')\n",
    "X_train = train.drop(['id1', 'id2', 'link', 'rno1', 'rno2', 'pa'], axis=1).values\n",
    "y_train = train['link']\n",
    "X_test = test.drop(['id1', 'id2', 'rno1', 'rno2', 'pa'], axis=1).values\n",
    "\n",
    "scaler = StandardScaler()\n",
    "X_train = scaler.fit_transform(X_train)\n",
    "X_test = scaler.transform(X_test)\n",
    "X_train, y_train = shuffle(X_train, y_train, random_state=0)"
   ]
  },
  {
   "cell_type": "code",
   "execution_count": 3,
   "metadata": {},
   "outputs": [
    {
     "name": "stdout",
     "output_type": "stream",
     "text": [
      "Epoch 1/5\n",
      "615512/615512 [==============================] - 91s - loss: 0.2114 - acc: 0.9538    \n",
      "Epoch 2/5\n",
      "615512/615512 [==============================] - 69s - loss: 0.1735 - acc: 0.9590    \n",
      "Epoch 3/5\n",
      "615512/615512 [==============================] - 56s - loss: 0.1669 - acc: 0.9598    \n",
      "Epoch 4/5\n",
      "615512/615512 [==============================] - 56s - loss: 0.1642 - acc: 0.9599    \n",
      "Epoch 5/5\n",
      "615512/615512 [==============================] - 59s - loss: 0.1612 - acc: 0.9606    \n"
     ]
    },
    {
     "data": {
      "text/plain": [
       "<keras.callbacks.History at 0x7f7610834ba8>"
      ]
     },
     "execution_count": 3,
     "metadata": {},
     "output_type": "execute_result"
    }
   ],
   "source": [
    "dropout = 0.4\n",
    "model = Sequential()\n",
    "model.add(Dense(input_dim=X_train.shape[1], units=50, activation='relu', kernel_regularizer=l2(0.01)))\n",
    "model.add(Dropout(dropout))\n",
    "model.add(Dense(units=30, activation='relu', kernel_regularizer=l2(0.01)))\n",
    "model.add(Dropout(dropout))\n",
    "model.add(Dense(units=15, activation='relu', kernel_regularizer=l2(0.01)))\n",
    "model.add(Dropout(dropout))\n",
    "model.add(Dense(units=5, activation='relu', kernel_regularizer=l2(0.01)))\n",
    "model.add(Dense(units=1, activation='sigmoid'))\n",
    "\n",
    "model.compile(optimizer='adam', loss='binary_crossentropy', metrics=['accuracy'])\n",
    "\n",
    "model.fit(X_train, y_train, epochs=5)"
   ]
  },
  {
   "cell_type": "code",
   "execution_count": 4,
   "metadata": {
    "collapsed": true
   },
   "outputs": [],
   "source": [
    "y_train_pred = model.predict(X_train)"
   ]
  },
  {
   "cell_type": "code",
   "execution_count": 11,
   "metadata": {},
   "outputs": [
    {
     "data": {
      "text/plain": [
       "array([0.02634344, 0.9977798 , 0.02920996, ..., 0.99942493, 0.02290037,\n",
       "       0.01602364], dtype=float32)"
      ]
     },
     "execution_count": 11,
     "metadata": {},
     "output_type": "execute_result"
    }
   ],
   "source": [
    "y_train_pred[:,0]"
   ]
  },
  {
   "cell_type": "code",
   "execution_count": 12,
   "metadata": {},
   "outputs": [
    {
     "name": "stdout",
     "output_type": "stream",
     "text": [
      "0.9752246891411045 0.9658341539104228 0.9705067065647427 0.2721087336540222\n"
     ]
    }
   ],
   "source": [
    "reg_train = np.zeros((len(y_train), 2))\n",
    "reg_train[:, 0] = np.array(y_train)\n",
    "reg_train[:, 1] = y_train_pred[:,0]\n",
    "indice = np.argsort(reg_train[:,1])[::-1]\n",
    "reg_train = reg_train[indice]\n",
    "p_best, r_best, f1_best, ts = 0, 0, 0, 0\n",
    "num_ones = sum(y_train)\n",
    "tp = 0\n",
    "for idx, row in enumerate(reg_train):\n",
    "    if row[0] == 1:\n",
    "        tp += 1\n",
    "    p = tp / (idx + 1)\n",
    "    r = tp / num_ones\n",
    "    f1 = 2 * p * r / (p + r)\n",
    "    if f1 > f1_best:\n",
    "        p_best, r_best, f1_best = p, r, f1\n",
    "        ts = row[1]\n",
    "print (p_best, r_best, f1_best, ts)"
   ]
  },
  {
   "cell_type": "code",
   "execution_count": null,
   "metadata": {
    "collapsed": true
   },
   "outputs": [],
   "source": [
    "y_test_pred = model.predict(X_test)\n",
    "y_test_pred = y_test_pred > ts\n",
    "y_test_pred = y_test_pred.astype(int)\n",
    "df = pd.DataFrame(y_test_pred, columns=['category'])\n",
    "df.index.name = 'id'\n",
    "df.to_csv('../../project1/result/nn2_test_pred.csv', index=True, header=True)"
   ]
  },
  {
   "cell_type": "code",
   "execution_count": null,
   "metadata": {
    "collapsed": true
   },
   "outputs": [],
   "source": []
  },
  {
   "cell_type": "code",
   "execution_count": null,
   "metadata": {
    "collapsed": true
   },
   "outputs": [],
   "source": []
  },
  {
   "cell_type": "code",
   "execution_count": null,
   "metadata": {
    "collapsed": true
   },
   "outputs": [],
   "source": []
  },
  {
   "cell_type": "code",
   "execution_count": null,
   "metadata": {
    "collapsed": true
   },
   "outputs": [],
   "source": []
  },
  {
   "cell_type": "code",
   "execution_count": null,
   "metadata": {
    "collapsed": true
   },
   "outputs": [],
   "source": []
  },
  {
   "cell_type": "code",
   "execution_count": null,
   "metadata": {
    "collapsed": true
   },
   "outputs": [],
   "source": []
  },
  {
   "cell_type": "code",
   "execution_count": null,
   "metadata": {
    "collapsed": true
   },
   "outputs": [],
   "source": []
  }
 ],
 "metadata": {
  "anaconda-cloud": {},
  "kernelspec": {
   "display_name": "Python [default]",
   "language": "python",
   "name": "python3"
  },
  "language_info": {
   "codemirror_mode": {
    "name": "ipython",
    "version": 3
   },
   "file_extension": ".py",
   "mimetype": "text/x-python",
   "name": "python",
   "nbconvert_exporter": "python",
   "pygments_lexer": "ipython3",
   "version": "3.5.4"
  }
 },
 "nbformat": 4,
 "nbformat_minor": 2
}
