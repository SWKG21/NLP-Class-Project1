{
 "cells": [
  {
   "cell_type": "code",
   "execution_count": 1,
   "metadata": {
    "collapsed": true
   },
   "outputs": [],
   "source": [
    "import random\n",
    "import numpy as np\n",
    "import seaborn as sns\n",
    "# import igraph\n",
    "from sklearn import svm\n",
    "from sklearn.feature_extraction.text import TfidfVectorizer\n",
    "from sklearn.metrics.pairwise import linear_kernel, cosine_similarity\n",
    "from sklearn import preprocessing\n",
    "import nltk\n",
    "import csv\n",
    "import scipy\n",
    "import pandas as pd"
   ]
  },
  {
   "cell_type": "markdown",
   "metadata": {},
   "source": [
    "### prepare abstracts as features"
   ]
  },
  {
   "cell_type": "code",
   "execution_count": null,
   "metadata": {
    "collapsed": true
   },
   "outputs": [],
   "source": [
    "with open(\"data/node_information.csv\", \"r\") as f:\n",
    "    reader = csv.reader(f)\n",
    "    node_info  = list(reader)\n",
    "\n",
    "IDs = [element[0] for element in node_info]"
   ]
  },
  {
   "cell_type": "code",
   "execution_count": null,
   "metadata": {
    "collapsed": true
   },
   "outputs": [],
   "source": [
    "# compute TFIDF vector of each paper\n",
    "corpus = np.array(df.iloc[:,5])\n",
    "# corpus = [element[5] for element in node_info]\n",
    "vectorizer = TfidfVectorizer(stop_words=\"english\")\n",
    "# each row is a node in the order of node_info\n",
    "features_TFIDF = vectorizer.fit_transform(corpus)\n",
    "features_TFIDF = features_TFIDF.toarray()\n",
    "print (\"feature matrix shape : \", features_TFIDF.shape)"
   ]
  },
  {
   "cell_type": "code",
   "execution_count": null,
   "metadata": {
    "collapsed": true
   },
   "outputs": [],
   "source": [
    "# choose k to dimensionality reduction\n",
    "for k in range(1,25042):\n",
    "    U,S,V = scipy.sparse.linalg.svds(features_TFIDF, k=k) # np.linalg.svd doesn't work\n",
    "    print (\"U shape : \", U.shape)\n",
    "    print (\"S shape : \", S.shape)\n",
    "    print (\"V shape : \", V.shape)\n",
    "    features_TFIDF_reduced = np.dot(features_TFIDF, V.T)\n",
    "    print ('shape after dimensionality reduction : ', features_TFIDF_reduced.shape)\n",
    "    # reconstruct\n",
    "    features_TFIDF_reconstruct = np.dot(features_TFIDF_reduced, V)\n",
    "    del features_TFIDF_reduced\n",
    "    tmp = features_TFIDF_reconstruct-features_TFIDF\n",
    "    retained = np.sum(tmp ** 2)/np.sum(features_TFIDF ** 2)\n",
    "    del tmp\n",
    "    print (\"retained percentage : \", retained)\n",
    "    if retained>0.95:\n",
    "        break"
   ]
  },
  {
   "cell_type": "code",
   "execution_count": null,
   "metadata": {
    "collapsed": true
   },
   "outputs": [],
   "source": []
  },
  {
   "cell_type": "code",
   "execution_count": null,
   "metadata": {
    "collapsed": true
   },
   "outputs": [],
   "source": []
  },
  {
   "cell_type": "code",
   "execution_count": null,
   "metadata": {
    "collapsed": true
   },
   "outputs": [],
   "source": []
  },
  {
   "cell_type": "code",
   "execution_count": null,
   "metadata": {
    "collapsed": true
   },
   "outputs": [],
   "source": []
  },
  {
   "cell_type": "code",
   "execution_count": null,
   "metadata": {
    "collapsed": true
   },
   "outputs": [],
   "source": []
  }
 ],
 "metadata": {
  "anaconda-cloud": {},
  "kernelspec": {
   "display_name": "Python [default]",
   "language": "python",
   "name": "python3"
  },
  "language_info": {
   "codemirror_mode": {
    "name": "ipython",
    "version": 3
   },
   "file_extension": ".py",
   "mimetype": "text/x-python",
   "name": "python",
   "nbconvert_exporter": "python",
   "pygments_lexer": "ipython3",
   "version": "3.5.4"
  }
 },
 "nbformat": 4,
 "nbformat_minor": 2
}
