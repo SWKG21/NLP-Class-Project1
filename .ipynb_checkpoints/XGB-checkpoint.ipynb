{
 "cells": [
  {
   "cell_type": "code",
   "execution_count": 27,
   "metadata": {
    "collapsed": true
   },
   "outputs": [],
   "source": [
    "import pandas as pd\n",
    "import numpy as np\n",
    "import matplotlib.pyplot as plt\n",
    "\n",
    "from sklearn.model_selection import cross_val_score, train_test_split, GridSearchCV\n",
    "from sklearn.utils import shuffle\n",
    "from sklearn.preprocessing import PolynomialFeatures, MinMaxScaler\n",
    "from sklearn.metrics import f1_score\n",
    "from xgboost import XGBClassifier"
   ]
  },
  {
   "cell_type": "markdown",
   "metadata": {},
   "source": [
    "### CV for old features"
   ]
  },
  {
   "cell_type": "code",
   "execution_count": 14,
   "metadata": {
    "collapsed": true
   },
   "outputs": [],
   "source": [
    "train_set = pd.read_csv('data/train_nx_ig_v3.csv')\n",
    "X = train_set.iloc[:,2:-1]\n",
    "y = train_set.iloc[:,-1]"
   ]
  },
  {
   "cell_type": "code",
   "execution_count": null,
   "metadata": {
    "collapsed": true
   },
   "outputs": [],
   "source": [
    "X, y = shuffle(X, y, random_state=0)\n",
    "X.head()"
   ]
  },
  {
   "cell_type": "code",
   "execution_count": 15,
   "metadata": {
    "collapsed": true
   },
   "outputs": [],
   "source": [
    "X_train, X_valid, y_train, y_valid = train_test_split(X, y, test_size=0.3, random_state=0, shuffle=True)"
   ]
  },
  {
   "cell_type": "code",
   "execution_count": 19,
   "metadata": {},
   "outputs": [
    {
     "name": "stderr",
     "output_type": "stream",
     "text": [
      "/home/wangsun/anaconda3/lib/python3.5/site-packages/sklearn/preprocessing/label.py:151: DeprecationWarning: The truth value of an empty array is ambiguous. Returning False, but in future this will result in an error. Use `array.size > 0` to check that an array is not empty.\n",
      "  if diff:\n",
      "/home/wangsun/anaconda3/lib/python3.5/site-packages/sklearn/preprocessing/label.py:151: DeprecationWarning: The truth value of an empty array is ambiguous. Returning False, but in future this will result in an error. Use `array.size > 0` to check that an array is not empty.\n",
      "  if diff:\n",
      "/home/wangsun/anaconda3/lib/python3.5/site-packages/sklearn/preprocessing/label.py:151: DeprecationWarning: The truth value of an empty array is ambiguous. Returning False, but in future this will result in an error. Use `array.size > 0` to check that an array is not empty.\n",
      "  if diff:\n",
      "/home/wangsun/anaconda3/lib/python3.5/site-packages/sklearn/preprocessing/label.py:151: DeprecationWarning: The truth value of an empty array is ambiguous. Returning False, but in future this will result in an error. Use `array.size > 0` to check that an array is not empty.\n",
      "  if diff:\n",
      "/home/wangsun/anaconda3/lib/python3.5/site-packages/sklearn/preprocessing/label.py:151: DeprecationWarning: The truth value of an empty array is ambiguous. Returning False, but in future this will result in an error. Use `array.size > 0` to check that an array is not empty.\n",
      "  if diff:\n"
     ]
    },
    {
     "data": {
      "text/plain": [
       "0.99532123013673"
      ]
     },
     "execution_count": 19,
     "metadata": {},
     "output_type": "execute_result"
    }
   ],
   "source": [
    "clf_xgb = XGBClassifier(    \n",
    "                        n_estimators=200,\n",
    "                        max_depth=3,\n",
    "                        objective=\"binary:logistic\",\n",
    "                        learning_rate=.3, \n",
    "                        subsample=.8,\n",
    "                        min_child_weight=6,\n",
    "                        colsample_bytree=.8,\n",
    "                        scale_pos_weight=1.6,\n",
    "                        gamma=5,\n",
    "                        reg_alpha=2,\n",
    "                        reg_lambda=500,\n",
    "                     )\n",
    "np.mean(cross_val_score(clf_xgb, X_train, y_train, cv=5, scoring='f1'))"
   ]
  },
  {
   "cell_type": "markdown",
   "metadata": {},
   "source": [
    "This result is overfitting because of jaccard coefficient"
   ]
  },
  {
   "cell_type": "code",
   "execution_count": 20,
   "metadata": {
    "scrolled": true
   },
   "outputs": [
    {
     "name": "stdout",
     "output_type": "stream",
     "text": [
      "[0]\tvalidation_0-logloss:0.471532\n",
      "Will train until validation_0-logloss hasn't improved in 5 rounds.\n",
      "[1]\tvalidation_0-logloss:0.326991\n",
      "[2]\tvalidation_0-logloss:0.237644\n",
      "[3]\tvalidation_0-logloss:0.187202\n",
      "[4]\tvalidation_0-logloss:0.152868\n",
      "[5]\tvalidation_0-logloss:0.128762\n",
      "[6]\tvalidation_0-logloss:0.101147\n",
      "[7]\tvalidation_0-logloss:0.082165\n",
      "[8]\tvalidation_0-logloss:0.067896\n",
      "[9]\tvalidation_0-logloss:0.058138\n",
      "[10]\tvalidation_0-logloss:0.05059\n",
      "[11]\tvalidation_0-logloss:0.045376\n",
      "[12]\tvalidation_0-logloss:0.041136\n",
      "[13]\tvalidation_0-logloss:0.039062\n",
      "[14]\tvalidation_0-logloss:0.03721\n",
      "[15]\tvalidation_0-logloss:0.03402\n",
      "[16]\tvalidation_0-logloss:0.031813\n",
      "[17]\tvalidation_0-logloss:0.031123\n",
      "[18]\tvalidation_0-logloss:0.029569\n",
      "[19]\tvalidation_0-logloss:0.029001\n",
      "[20]\tvalidation_0-logloss:0.027655\n",
      "[21]\tvalidation_0-logloss:0.026595\n",
      "[22]\tvalidation_0-logloss:0.025749\n",
      "[23]\tvalidation_0-logloss:0.024974\n",
      "[24]\tvalidation_0-logloss:0.024335\n",
      "[25]\tvalidation_0-logloss:0.02364\n",
      "[26]\tvalidation_0-logloss:0.023218\n",
      "[27]\tvalidation_0-logloss:0.02303\n",
      "[28]\tvalidation_0-logloss:0.02254\n",
      "[29]\tvalidation_0-logloss:0.022425\n",
      "[30]\tvalidation_0-logloss:0.022261\n",
      "[31]\tvalidation_0-logloss:0.022028\n",
      "[32]\tvalidation_0-logloss:0.021717\n",
      "[33]\tvalidation_0-logloss:0.021572\n",
      "[34]\tvalidation_0-logloss:0.021391\n",
      "[35]\tvalidation_0-logloss:0.021153\n",
      "[36]\tvalidation_0-logloss:0.021119\n",
      "[37]\tvalidation_0-logloss:0.021031\n",
      "[38]\tvalidation_0-logloss:0.02095\n",
      "[39]\tvalidation_0-logloss:0.020683\n",
      "[40]\tvalidation_0-logloss:0.020461\n",
      "[41]\tvalidation_0-logloss:0.020423\n",
      "[42]\tvalidation_0-logloss:0.020281\n",
      "[43]\tvalidation_0-logloss:0.020108\n",
      "[44]\tvalidation_0-logloss:0.019958\n",
      "[45]\tvalidation_0-logloss:0.019931\n",
      "[46]\tvalidation_0-logloss:0.019787\n",
      "[47]\tvalidation_0-logloss:0.01976\n",
      "[48]\tvalidation_0-logloss:0.019655\n",
      "[49]\tvalidation_0-logloss:0.019559\n",
      "[50]\tvalidation_0-logloss:0.01957\n",
      "[51]\tvalidation_0-logloss:0.019533\n",
      "[52]\tvalidation_0-logloss:0.019447\n",
      "[53]\tvalidation_0-logloss:0.019461\n",
      "[54]\tvalidation_0-logloss:0.019391\n",
      "[55]\tvalidation_0-logloss:0.019297\n",
      "[56]\tvalidation_0-logloss:0.019277\n",
      "[57]\tvalidation_0-logloss:0.019192\n",
      "[58]\tvalidation_0-logloss:0.019119\n",
      "[59]\tvalidation_0-logloss:0.019057\n",
      "[60]\tvalidation_0-logloss:0.019023\n",
      "[61]\tvalidation_0-logloss:0.018995\n",
      "[62]\tvalidation_0-logloss:0.018915\n",
      "[63]\tvalidation_0-logloss:0.018895\n",
      "[64]\tvalidation_0-logloss:0.018916\n",
      "[65]\tvalidation_0-logloss:0.018851\n",
      "[66]\tvalidation_0-logloss:0.018872\n",
      "[67]\tvalidation_0-logloss:0.018867\n",
      "[68]\tvalidation_0-logloss:0.0188\n",
      "[69]\tvalidation_0-logloss:0.018817\n",
      "[70]\tvalidation_0-logloss:0.01878\n",
      "[71]\tvalidation_0-logloss:0.018798\n",
      "[72]\tvalidation_0-logloss:0.018694\n",
      "[73]\tvalidation_0-logloss:0.018608\n",
      "[74]\tvalidation_0-logloss:0.018601\n",
      "[75]\tvalidation_0-logloss:0.018555\n",
      "[76]\tvalidation_0-logloss:0.018543\n",
      "[77]\tvalidation_0-logloss:0.018529\n",
      "[78]\tvalidation_0-logloss:0.018551\n",
      "[79]\tvalidation_0-logloss:0.018511\n",
      "[80]\tvalidation_0-logloss:0.018489\n",
      "[81]\tvalidation_0-logloss:0.018467\n",
      "[82]\tvalidation_0-logloss:0.018448\n",
      "[83]\tvalidation_0-logloss:0.018409\n",
      "[84]\tvalidation_0-logloss:0.018373\n",
      "[85]\tvalidation_0-logloss:0.018386\n",
      "[86]\tvalidation_0-logloss:0.018335\n",
      "[87]\tvalidation_0-logloss:0.018312\n",
      "[88]\tvalidation_0-logloss:0.018329\n",
      "[89]\tvalidation_0-logloss:0.018272\n",
      "[90]\tvalidation_0-logloss:0.018253\n",
      "[91]\tvalidation_0-logloss:0.018245\n",
      "[92]\tvalidation_0-logloss:0.018218\n",
      "[93]\tvalidation_0-logloss:0.018207\n",
      "[94]\tvalidation_0-logloss:0.018231\n",
      "[95]\tvalidation_0-logloss:0.018192\n",
      "[96]\tvalidation_0-logloss:0.01816\n",
      "[97]\tvalidation_0-logloss:0.018176\n",
      "[98]\tvalidation_0-logloss:0.018187\n",
      "[99]\tvalidation_0-logloss:0.018187\n",
      "[100]\tvalidation_0-logloss:0.018165\n",
      "[101]\tvalidation_0-logloss:0.018162\n",
      "Stopping. Best iteration:\n",
      "[96]\tvalidation_0-logloss:0.01816\n",
      "\n"
     ]
    },
    {
     "data": {
      "text/plain": [
       "XGBClassifier(base_score=0.5, booster='gbtree', colsample_bylevel=1,\n",
       "       colsample_bytree=0.8, gamma=5, learning_rate=0.3, max_delta_step=0,\n",
       "       max_depth=3, min_child_weight=6, missing=None, n_estimators=200,\n",
       "       n_jobs=1, nthread=None, objective='binary:logistic', random_state=0,\n",
       "       reg_alpha=2, reg_lambda=500, scale_pos_weight=1.6, seed=None,\n",
       "       silent=True, subsample=0.8)"
      ]
     },
     "execution_count": 20,
     "metadata": {},
     "output_type": "execute_result"
    }
   ],
   "source": [
    "clf_xgb.fit(X_train, y_train, eval_metric='logloss', eval_set=[(X_valid,y_valid)], early_stopping_rounds=5)"
   ]
  },
  {
   "cell_type": "markdown",
   "metadata": {},
   "source": [
    "### Train, predict and output"
   ]
  },
  {
   "cell_type": "code",
   "execution_count": 21,
   "metadata": {},
   "outputs": [
    {
     "name": "stderr",
     "output_type": "stream",
     "text": [
      "/home/wangsun/anaconda3/lib/python3.5/site-packages/sklearn/preprocessing/label.py:151: DeprecationWarning: The truth value of an empty array is ambiguous. Returning False, but in future this will result in an error. Use `array.size > 0` to check that an array is not empty.\n",
      "  if diff:\n"
     ]
    }
   ],
   "source": [
    "test_set = pd.read_csv('data/test_nx_ig_v3.csv')\n",
    "X_test = test_set.iloc[:,2:]\n",
    "y_test = clf_xgb.predict(X_test)"
   ]
  },
  {
   "cell_type": "code",
   "execution_count": 22,
   "metadata": {
    "collapsed": true
   },
   "outputs": [],
   "source": [
    "df = pd.DataFrame(y_test, columns=['category'])\n",
    "df.index.name = 'id'\n",
    "df.to_csv('result/xgb3.csv', index=True, header=True)"
   ]
  },
  {
   "cell_type": "markdown",
   "metadata": {
    "collapsed": true
   },
   "source": [
    "### with new features of Shiwen"
   ]
  },
  {
   "cell_type": "code",
   "execution_count": 2,
   "metadata": {},
   "outputs": [
    {
     "data": {
      "text/html": [
       "<div>\n",
       "<style>\n",
       "    .dataframe thead tr:only-child th {\n",
       "        text-align: right;\n",
       "    }\n",
       "\n",
       "    .dataframe thead th {\n",
       "        text-align: left;\n",
       "    }\n",
       "\n",
       "    .dataframe tbody tr th {\n",
       "        vertical-align: top;\n",
       "    }\n",
       "</style>\n",
       "<table border=\"1\" class=\"dataframe\">\n",
       "  <thead>\n",
       "    <tr style=\"text-align: right;\">\n",
       "      <th></th>\n",
       "      <th>id1</th>\n",
       "      <th>id2</th>\n",
       "      <th>link</th>\n",
       "      <th>rno1</th>\n",
       "      <th>rno2</th>\n",
       "      <th>sim</th>\n",
       "      <th>year1</th>\n",
       "      <th>year2</th>\n",
       "      <th>year_diff</th>\n",
       "      <th>common_authors</th>\n",
       "      <th>cn</th>\n",
       "      <th>aai</th>\n",
       "      <th>title_overlap</th>\n",
       "    </tr>\n",
       "  </thead>\n",
       "  <tbody>\n",
       "    <tr>\n",
       "      <th>0</th>\n",
       "      <td>9510123</td>\n",
       "      <td>9502114</td>\n",
       "      <td>1</td>\n",
       "      <td>16827</td>\n",
       "      <td>15446</td>\n",
       "      <td>0.064373</td>\n",
       "      <td>1995</td>\n",
       "      <td>1995</td>\n",
       "      <td>0</td>\n",
       "      <td>0</td>\n",
       "      <td>1</td>\n",
       "      <td>0.513898</td>\n",
       "      <td>2</td>\n",
       "    </tr>\n",
       "    <tr>\n",
       "      <th>1</th>\n",
       "      <td>9707075</td>\n",
       "      <td>9604178</td>\n",
       "      <td>1</td>\n",
       "      <td>21154</td>\n",
       "      <td>18059</td>\n",
       "      <td>0.021211</td>\n",
       "      <td>1997</td>\n",
       "      <td>1996</td>\n",
       "      <td>1</td>\n",
       "      <td>0</td>\n",
       "      <td>20</td>\n",
       "      <td>4.320366</td>\n",
       "      <td>1</td>\n",
       "    </tr>\n",
       "    <tr>\n",
       "      <th>2</th>\n",
       "      <td>9312155</td>\n",
       "      <td>9506142</td>\n",
       "      <td>0</td>\n",
       "      <td>13074</td>\n",
       "      <td>16171</td>\n",
       "      <td>0.017202</td>\n",
       "      <td>1993</td>\n",
       "      <td>1995</td>\n",
       "      <td>-2</td>\n",
       "      <td>0</td>\n",
       "      <td>0</td>\n",
       "      <td>0.000000</td>\n",
       "      <td>0</td>\n",
       "    </tr>\n",
       "    <tr>\n",
       "      <th>3</th>\n",
       "      <td>9911255</td>\n",
       "      <td>302165</td>\n",
       "      <td>0</td>\n",
       "      <td>27486</td>\n",
       "      <td>9702</td>\n",
       "      <td>0.012634</td>\n",
       "      <td>1999</td>\n",
       "      <td>2003</td>\n",
       "      <td>-4</td>\n",
       "      <td>0</td>\n",
       "      <td>0</td>\n",
       "      <td>0.000000</td>\n",
       "      <td>0</td>\n",
       "    </tr>\n",
       "    <tr>\n",
       "      <th>4</th>\n",
       "      <td>9701033</td>\n",
       "      <td>209076</td>\n",
       "      <td>0</td>\n",
       "      <td>19856</td>\n",
       "      <td>8212</td>\n",
       "      <td>0.059588</td>\n",
       "      <td>1997</td>\n",
       "      <td>2002</td>\n",
       "      <td>-5</td>\n",
       "      <td>0</td>\n",
       "      <td>0</td>\n",
       "      <td>0.000000</td>\n",
       "      <td>0</td>\n",
       "    </tr>\n",
       "  </tbody>\n",
       "</table>\n",
       "</div>"
      ],
      "text/plain": [
       "       id1      id2  link   rno1   rno2       sim  year1  year2  year_diff  \\\n",
       "0  9510123  9502114     1  16827  15446  0.064373   1995   1995          0   \n",
       "1  9707075  9604178     1  21154  18059  0.021211   1997   1996          1   \n",
       "2  9312155  9506142     0  13074  16171  0.017202   1993   1995         -2   \n",
       "3  9911255   302165     0  27486   9702  0.012634   1999   2003         -4   \n",
       "4  9701033   209076     0  19856   8212  0.059588   1997   2002         -5   \n",
       "\n",
       "   common_authors  cn       aai  title_overlap  \n",
       "0               0   1  0.513898              2  \n",
       "1               0  20  4.320366              1  \n",
       "2               0   0  0.000000              0  \n",
       "3               0   0  0.000000              0  \n",
       "4               0   0  0.000000              0  "
      ]
     },
     "execution_count": 2,
     "metadata": {},
     "output_type": "execute_result"
    }
   ],
   "source": [
    "train_set = pd.read_csv('data/train_treated.csv')\n",
    "train_set.head()"
   ]
  },
  {
   "cell_type": "code",
   "execution_count": 3,
   "metadata": {},
   "outputs": [
    {
     "data": {
      "text/html": [
       "<div>\n",
       "<style>\n",
       "    .dataframe thead tr:only-child th {\n",
       "        text-align: right;\n",
       "    }\n",
       "\n",
       "    .dataframe thead th {\n",
       "        text-align: left;\n",
       "    }\n",
       "\n",
       "    .dataframe tbody tr th {\n",
       "        vertical-align: top;\n",
       "    }\n",
       "</style>\n",
       "<table border=\"1\" class=\"dataframe\">\n",
       "  <thead>\n",
       "    <tr style=\"text-align: right;\">\n",
       "      <th></th>\n",
       "      <th>sim</th>\n",
       "      <th>year_diff</th>\n",
       "      <th>common_authors</th>\n",
       "      <th>cn</th>\n",
       "      <th>aai</th>\n",
       "      <th>title_overlap</th>\n",
       "    </tr>\n",
       "  </thead>\n",
       "  <tbody>\n",
       "    <tr>\n",
       "      <th>0</th>\n",
       "      <td>0.064373</td>\n",
       "      <td>0</td>\n",
       "      <td>0</td>\n",
       "      <td>1</td>\n",
       "      <td>0.513898</td>\n",
       "      <td>2</td>\n",
       "    </tr>\n",
       "    <tr>\n",
       "      <th>1</th>\n",
       "      <td>0.021211</td>\n",
       "      <td>1</td>\n",
       "      <td>0</td>\n",
       "      <td>20</td>\n",
       "      <td>4.320366</td>\n",
       "      <td>1</td>\n",
       "    </tr>\n",
       "    <tr>\n",
       "      <th>2</th>\n",
       "      <td>0.017202</td>\n",
       "      <td>-2</td>\n",
       "      <td>0</td>\n",
       "      <td>0</td>\n",
       "      <td>0.000000</td>\n",
       "      <td>0</td>\n",
       "    </tr>\n",
       "    <tr>\n",
       "      <th>3</th>\n",
       "      <td>0.012634</td>\n",
       "      <td>-4</td>\n",
       "      <td>0</td>\n",
       "      <td>0</td>\n",
       "      <td>0.000000</td>\n",
       "      <td>0</td>\n",
       "    </tr>\n",
       "    <tr>\n",
       "      <th>4</th>\n",
       "      <td>0.059588</td>\n",
       "      <td>-5</td>\n",
       "      <td>0</td>\n",
       "      <td>0</td>\n",
       "      <td>0.000000</td>\n",
       "      <td>0</td>\n",
       "    </tr>\n",
       "  </tbody>\n",
       "</table>\n",
       "</div>"
      ],
      "text/plain": [
       "        sim  year_diff  common_authors  cn       aai  title_overlap\n",
       "0  0.064373          0               0   1  0.513898              2\n",
       "1  0.021211          1               0  20  4.320366              1\n",
       "2  0.017202         -2               0   0  0.000000              0\n",
       "3  0.012634         -4               0   0  0.000000              0\n",
       "4  0.059588         -5               0   0  0.000000              0"
      ]
     },
     "execution_count": 3,
     "metadata": {},
     "output_type": "execute_result"
    }
   ],
   "source": [
    "X = train_set.loc[:,['sim', 'year_diff', 'common_authors', 'cn', 'aai', 'title_overlap']]\n",
    "y = train_set.loc[:,'link']\n",
    "X.head()"
   ]
  },
  {
   "cell_type": "code",
   "execution_count": 4,
   "metadata": {},
   "outputs": [
    {
     "data": {
      "text/html": [
       "<div>\n",
       "<style>\n",
       "    .dataframe thead tr:only-child th {\n",
       "        text-align: right;\n",
       "    }\n",
       "\n",
       "    .dataframe thead th {\n",
       "        text-align: left;\n",
       "    }\n",
       "\n",
       "    .dataframe tbody tr th {\n",
       "        vertical-align: top;\n",
       "    }\n",
       "</style>\n",
       "<table border=\"1\" class=\"dataframe\">\n",
       "  <thead>\n",
       "    <tr style=\"text-align: right;\">\n",
       "      <th></th>\n",
       "      <th>sim</th>\n",
       "      <th>year_diff</th>\n",
       "      <th>common_authors</th>\n",
       "      <th>cn</th>\n",
       "      <th>aai</th>\n",
       "      <th>title_overlap</th>\n",
       "    </tr>\n",
       "  </thead>\n",
       "  <tbody>\n",
       "    <tr>\n",
       "      <th>206307</th>\n",
       "      <td>0.057576</td>\n",
       "      <td>-1</td>\n",
       "      <td>0</td>\n",
       "      <td>0</td>\n",
       "      <td>0.000000</td>\n",
       "      <td>1</td>\n",
       "    </tr>\n",
       "    <tr>\n",
       "      <th>545369</th>\n",
       "      <td>0.064932</td>\n",
       "      <td>6</td>\n",
       "      <td>0</td>\n",
       "      <td>15</td>\n",
       "      <td>3.795183</td>\n",
       "      <td>0</td>\n",
       "    </tr>\n",
       "    <tr>\n",
       "      <th>304493</th>\n",
       "      <td>0.009646</td>\n",
       "      <td>0</td>\n",
       "      <td>0</td>\n",
       "      <td>0</td>\n",
       "      <td>0.000000</td>\n",
       "      <td>0</td>\n",
       "    </tr>\n",
       "    <tr>\n",
       "      <th>42171</th>\n",
       "      <td>0.002130</td>\n",
       "      <td>-2</td>\n",
       "      <td>0</td>\n",
       "      <td>0</td>\n",
       "      <td>0.000000</td>\n",
       "      <td>0</td>\n",
       "    </tr>\n",
       "    <tr>\n",
       "      <th>268996</th>\n",
       "      <td>0.095356</td>\n",
       "      <td>0</td>\n",
       "      <td>0</td>\n",
       "      <td>0</td>\n",
       "      <td>0.000000</td>\n",
       "      <td>0</td>\n",
       "    </tr>\n",
       "  </tbody>\n",
       "</table>\n",
       "</div>"
      ],
      "text/plain": [
       "             sim  year_diff  common_authors  cn       aai  title_overlap\n",
       "206307  0.057576         -1               0   0  0.000000              1\n",
       "545369  0.064932          6               0  15  3.795183              0\n",
       "304493  0.009646          0               0   0  0.000000              0\n",
       "42171   0.002130         -2               0   0  0.000000              0\n",
       "268996  0.095356          0               0   0  0.000000              0"
      ]
     },
     "execution_count": 4,
     "metadata": {},
     "output_type": "execute_result"
    }
   ],
   "source": [
    "X, y = shuffle(X, y, random_state=0)\n",
    "X.head()"
   ]
  },
  {
   "cell_type": "code",
   "execution_count": 5,
   "metadata": {
    "collapsed": true
   },
   "outputs": [],
   "source": [
    "X_train, X_valid, y_train, y_valid = train_test_split(X, y, test_size=0.3, random_state=0, shuffle=True)"
   ]
  },
  {
   "cell_type": "code",
   "execution_count": 11,
   "metadata": {
    "scrolled": false
   },
   "outputs": [
    {
     "name": "stderr",
     "output_type": "stream",
     "text": [
      "/home/wangsun/anaconda3/lib/python3.5/site-packages/sklearn/preprocessing/label.py:151: DeprecationWarning: The truth value of an empty array is ambiguous. Returning False, but in future this will result in an error. Use `array.size > 0` to check that an array is not empty.\n",
      "  if diff:\n",
      "/home/wangsun/anaconda3/lib/python3.5/site-packages/sklearn/preprocessing/label.py:151: DeprecationWarning: The truth value of an empty array is ambiguous. Returning False, but in future this will result in an error. Use `array.size > 0` to check that an array is not empty.\n",
      "  if diff:\n",
      "/home/wangsun/anaconda3/lib/python3.5/site-packages/sklearn/preprocessing/label.py:151: DeprecationWarning: The truth value of an empty array is ambiguous. Returning False, but in future this will result in an error. Use `array.size > 0` to check that an array is not empty.\n",
      "  if diff:\n",
      "/home/wangsun/anaconda3/lib/python3.5/site-packages/sklearn/preprocessing/label.py:151: DeprecationWarning: The truth value of an empty array is ambiguous. Returning False, but in future this will result in an error. Use `array.size > 0` to check that an array is not empty.\n",
      "  if diff:\n",
      "/home/wangsun/anaconda3/lib/python3.5/site-packages/sklearn/preprocessing/label.py:151: DeprecationWarning: The truth value of an empty array is ambiguous. Returning False, but in future this will result in an error. Use `array.size > 0` to check that an array is not empty.\n",
      "  if diff:\n"
     ]
    },
    {
     "name": "stdout",
     "output_type": "stream",
     "text": [
      "0.9734158687953569\n"
     ]
    },
    {
     "name": "stderr",
     "output_type": "stream",
     "text": [
      "/home/wangsun/anaconda3/lib/python3.5/site-packages/sklearn/preprocessing/label.py:151: DeprecationWarning: The truth value of an empty array is ambiguous. Returning False, but in future this will result in an error. Use `array.size > 0` to check that an array is not empty.\n",
      "  if diff:\n",
      "/home/wangsun/anaconda3/lib/python3.5/site-packages/sklearn/preprocessing/label.py:151: DeprecationWarning: The truth value of an empty array is ambiguous. Returning False, but in future this will result in an error. Use `array.size > 0` to check that an array is not empty.\n",
      "  if diff:\n",
      "/home/wangsun/anaconda3/lib/python3.5/site-packages/sklearn/preprocessing/label.py:151: DeprecationWarning: The truth value of an empty array is ambiguous. Returning False, but in future this will result in an error. Use `array.size > 0` to check that an array is not empty.\n",
      "  if diff:\n",
      "/home/wangsun/anaconda3/lib/python3.5/site-packages/sklearn/preprocessing/label.py:151: DeprecationWarning: The truth value of an empty array is ambiguous. Returning False, but in future this will result in an error. Use `array.size > 0` to check that an array is not empty.\n",
      "  if diff:\n"
     ]
    },
    {
     "name": "stdout",
     "output_type": "stream",
     "text": [
      "0.9735239789593948\n"
     ]
    },
    {
     "name": "stderr",
     "output_type": "stream",
     "text": [
      "/home/wangsun/anaconda3/lib/python3.5/site-packages/sklearn/preprocessing/label.py:151: DeprecationWarning: The truth value of an empty array is ambiguous. Returning False, but in future this will result in an error. Use `array.size > 0` to check that an array is not empty.\n",
      "  if diff:\n"
     ]
    }
   ],
   "source": [
    "clf_xgb = XGBClassifier(    \n",
    "                        n_estimators=300,\n",
    "                        max_depth=4,\n",
    "                        booster='gbtree',\n",
    "                        objective=\"binary:logistic\",\n",
    "                        learning_rate=.2, \n",
    "                        subsample=1,\n",
    "                        colsample_bytree=1,\n",
    "                        colsample_bylevel=1,\n",
    "                        gamma=0,\n",
    "                        random_state=0\n",
    "                     )\n",
    "print (cross_val_score(clf_xgb, X_train, y_train, cv=5, scoring='f1').mean())\n",
    "print (cross_val_score(clf_xgb, X, y, cv=5, scoring='f1').mean())"
   ]
  },
  {
   "cell_type": "markdown",
   "metadata": {},
   "source": [
    "This result is not overfitting."
   ]
  },
  {
   "cell_type": "markdown",
   "metadata": {},
   "source": [
    "### replace 5 old features with 5 new ones"
   ]
  },
  {
   "cell_type": "code",
   "execution_count": 10,
   "metadata": {},
   "outputs": [
    {
     "data": {
      "text/html": [
       "<div>\n",
       "<style>\n",
       "    .dataframe thead tr:only-child th {\n",
       "        text-align: right;\n",
       "    }\n",
       "\n",
       "    .dataframe thead th {\n",
       "        text-align: left;\n",
       "    }\n",
       "\n",
       "    .dataframe tbody tr th {\n",
       "        vertical-align: top;\n",
       "    }\n",
       "</style>\n",
       "<table border=\"1\" class=\"dataframe\">\n",
       "  <thead>\n",
       "    <tr style=\"text-align: right;\">\n",
       "      <th></th>\n",
       "      <th>id1</th>\n",
       "      <th>id2</th>\n",
       "      <th>link</th>\n",
       "      <th>rno1</th>\n",
       "      <th>rno2</th>\n",
       "      <th>sim</th>\n",
       "      <th>year1</th>\n",
       "      <th>year2</th>\n",
       "      <th>year_diff</th>\n",
       "      <th>common_authors</th>\n",
       "      <th>cn</th>\n",
       "      <th>aai</th>\n",
       "      <th>title_overlap</th>\n",
       "    </tr>\n",
       "  </thead>\n",
       "  <tbody>\n",
       "    <tr>\n",
       "      <th>0</th>\n",
       "      <td>9510123</td>\n",
       "      <td>9502114</td>\n",
       "      <td>1</td>\n",
       "      <td>16827</td>\n",
       "      <td>15446</td>\n",
       "      <td>0.064373</td>\n",
       "      <td>1995</td>\n",
       "      <td>1995</td>\n",
       "      <td>0</td>\n",
       "      <td>0</td>\n",
       "      <td>1</td>\n",
       "      <td>0.513898</td>\n",
       "      <td>2</td>\n",
       "    </tr>\n",
       "    <tr>\n",
       "      <th>1</th>\n",
       "      <td>9707075</td>\n",
       "      <td>9604178</td>\n",
       "      <td>1</td>\n",
       "      <td>21154</td>\n",
       "      <td>18059</td>\n",
       "      <td>0.021211</td>\n",
       "      <td>1997</td>\n",
       "      <td>1996</td>\n",
       "      <td>1</td>\n",
       "      <td>0</td>\n",
       "      <td>20</td>\n",
       "      <td>4.320366</td>\n",
       "      <td>1</td>\n",
       "    </tr>\n",
       "    <tr>\n",
       "      <th>2</th>\n",
       "      <td>9312155</td>\n",
       "      <td>9506142</td>\n",
       "      <td>0</td>\n",
       "      <td>13074</td>\n",
       "      <td>16171</td>\n",
       "      <td>0.017202</td>\n",
       "      <td>1993</td>\n",
       "      <td>1995</td>\n",
       "      <td>-2</td>\n",
       "      <td>0</td>\n",
       "      <td>0</td>\n",
       "      <td>0.000000</td>\n",
       "      <td>0</td>\n",
       "    </tr>\n",
       "    <tr>\n",
       "      <th>3</th>\n",
       "      <td>9911255</td>\n",
       "      <td>302165</td>\n",
       "      <td>0</td>\n",
       "      <td>27486</td>\n",
       "      <td>9702</td>\n",
       "      <td>0.012634</td>\n",
       "      <td>1999</td>\n",
       "      <td>2003</td>\n",
       "      <td>-4</td>\n",
       "      <td>0</td>\n",
       "      <td>0</td>\n",
       "      <td>0.000000</td>\n",
       "      <td>0</td>\n",
       "    </tr>\n",
       "    <tr>\n",
       "      <th>4</th>\n",
       "      <td>9701033</td>\n",
       "      <td>209076</td>\n",
       "      <td>0</td>\n",
       "      <td>19856</td>\n",
       "      <td>8212</td>\n",
       "      <td>0.059588</td>\n",
       "      <td>1997</td>\n",
       "      <td>2002</td>\n",
       "      <td>-5</td>\n",
       "      <td>0</td>\n",
       "      <td>0</td>\n",
       "      <td>0.000000</td>\n",
       "      <td>0</td>\n",
       "    </tr>\n",
       "  </tbody>\n",
       "</table>\n",
       "</div>"
      ],
      "text/plain": [
       "       id1      id2  link   rno1   rno2       sim  year1  year2  year_diff  \\\n",
       "0  9510123  9502114     1  16827  15446  0.064373   1995   1995          0   \n",
       "1  9707075  9604178     1  21154  18059  0.021211   1997   1996          1   \n",
       "2  9312155  9506142     0  13074  16171  0.017202   1993   1995         -2   \n",
       "3  9911255   302165     0  27486   9702  0.012634   1999   2003         -4   \n",
       "4  9701033   209076     0  19856   8212  0.059588   1997   2002         -5   \n",
       "\n",
       "   common_authors  cn       aai  title_overlap  \n",
       "0               0   1  0.513898              2  \n",
       "1               0  20  4.320366              1  \n",
       "2               0   0  0.000000              0  \n",
       "3               0   0  0.000000              0  \n",
       "4               0   0  0.000000              0  "
      ]
     },
     "execution_count": 10,
     "metadata": {},
     "output_type": "execute_result"
    }
   ],
   "source": [
    "train1 = pd.read_csv('data/train_treated.csv')\n",
    "train1.head()"
   ]
  },
  {
   "cell_type": "code",
   "execution_count": 11,
   "metadata": {},
   "outputs": [
    {
     "data": {
      "text/html": [
       "<div>\n",
       "<style>\n",
       "    .dataframe thead tr:only-child th {\n",
       "        text-align: right;\n",
       "    }\n",
       "\n",
       "    .dataframe thead th {\n",
       "        text-align: left;\n",
       "    }\n",
       "\n",
       "    .dataframe tbody tr th {\n",
       "        vertical-align: top;\n",
       "    }\n",
       "</style>\n",
       "<table border=\"1\" class=\"dataframe\">\n",
       "  <thead>\n",
       "    <tr style=\"text-align: right;\">\n",
       "      <th></th>\n",
       "      <th>id1</th>\n",
       "      <th>id2</th>\n",
       "      <th>res_allo_ind</th>\n",
       "      <th>overlap_title</th>\n",
       "      <th>temp_diff</th>\n",
       "      <th>comm_auth</th>\n",
       "      <th>reduced_tfidf_sim</th>\n",
       "      <th>jaccard_coeff</th>\n",
       "      <th>tgt_citation</th>\n",
       "      <th>labels</th>\n",
       "    </tr>\n",
       "  </thead>\n",
       "  <tbody>\n",
       "    <tr>\n",
       "      <th>0</th>\n",
       "      <td>9510123</td>\n",
       "      <td>9502114</td>\n",
       "      <td>0.142857</td>\n",
       "      <td>2</td>\n",
       "      <td>0</td>\n",
       "      <td>0</td>\n",
       "      <td>0.242161</td>\n",
       "      <td>0.176471</td>\n",
       "      <td>8</td>\n",
       "      <td>1</td>\n",
       "    </tr>\n",
       "    <tr>\n",
       "      <th>1</th>\n",
       "      <td>9707075</td>\n",
       "      <td>9604178</td>\n",
       "      <td>0.226401</td>\n",
       "      <td>1</td>\n",
       "      <td>1</td>\n",
       "      <td>0</td>\n",
       "      <td>0.116740</td>\n",
       "      <td>0.106796</td>\n",
       "      <td>124</td>\n",
       "      <td>1</td>\n",
       "    </tr>\n",
       "    <tr>\n",
       "      <th>2</th>\n",
       "      <td>9312155</td>\n",
       "      <td>9506142</td>\n",
       "      <td>0.000000</td>\n",
       "      <td>0</td>\n",
       "      <td>-2</td>\n",
       "      <td>0</td>\n",
       "      <td>0.067705</td>\n",
       "      <td>0.000000</td>\n",
       "      <td>2</td>\n",
       "      <td>0</td>\n",
       "    </tr>\n",
       "    <tr>\n",
       "      <th>3</th>\n",
       "      <td>9911255</td>\n",
       "      <td>302165</td>\n",
       "      <td>0.000000</td>\n",
       "      <td>0</td>\n",
       "      <td>-4</td>\n",
       "      <td>0</td>\n",
       "      <td>0.054771</td>\n",
       "      <td>0.000000</td>\n",
       "      <td>2</td>\n",
       "      <td>0</td>\n",
       "    </tr>\n",
       "    <tr>\n",
       "      <th>4</th>\n",
       "      <td>9701033</td>\n",
       "      <td>209076</td>\n",
       "      <td>0.000000</td>\n",
       "      <td>0</td>\n",
       "      <td>-5</td>\n",
       "      <td>0</td>\n",
       "      <td>0.220903</td>\n",
       "      <td>0.000000</td>\n",
       "      <td>2</td>\n",
       "      <td>0</td>\n",
       "    </tr>\n",
       "  </tbody>\n",
       "</table>\n",
       "</div>"
      ],
      "text/plain": [
       "       id1      id2  res_allo_ind  overlap_title  temp_diff  comm_auth  \\\n",
       "0  9510123  9502114      0.142857              2          0          0   \n",
       "1  9707075  9604178      0.226401              1          1          0   \n",
       "2  9312155  9506142      0.000000              0         -2          0   \n",
       "3  9911255   302165      0.000000              0         -4          0   \n",
       "4  9701033   209076      0.000000              0         -5          0   \n",
       "\n",
       "   reduced_tfidf_sim  jaccard_coeff  tgt_citation  labels  \n",
       "0           0.242161       0.176471             8       1  \n",
       "1           0.116740       0.106796           124       1  \n",
       "2           0.067705       0.000000             2       0  \n",
       "3           0.054771       0.000000             2       0  \n",
       "4           0.220903       0.000000             2       0  "
      ]
     },
     "execution_count": 11,
     "metadata": {},
     "output_type": "execute_result"
    }
   ],
   "source": [
    "train2 = pd.read_csv('data/train_nx_ig_v3.csv')\n",
    "train2.head()"
   ]
  },
  {
   "cell_type": "code",
   "execution_count": 12,
   "metadata": {},
   "outputs": [
    {
     "data": {
      "text/html": [
       "<div>\n",
       "<style>\n",
       "    .dataframe thead tr:only-child th {\n",
       "        text-align: right;\n",
       "    }\n",
       "\n",
       "    .dataframe thead th {\n",
       "        text-align: left;\n",
       "    }\n",
       "\n",
       "    .dataframe tbody tr th {\n",
       "        vertical-align: top;\n",
       "    }\n",
       "</style>\n",
       "<table border=\"1\" class=\"dataframe\">\n",
       "  <thead>\n",
       "    <tr style=\"text-align: right;\">\n",
       "      <th></th>\n",
       "      <th>title_overlap</th>\n",
       "      <th>year_diff</th>\n",
       "      <th>common_authors</th>\n",
       "      <th>sim</th>\n",
       "      <th>cn</th>\n",
       "      <th>aai</th>\n",
       "      <th>jaccard_coeff</th>\n",
       "      <th>tgt_citation</th>\n",
       "    </tr>\n",
       "  </thead>\n",
       "  <tbody>\n",
       "    <tr>\n",
       "      <th>0</th>\n",
       "      <td>2</td>\n",
       "      <td>0</td>\n",
       "      <td>0</td>\n",
       "      <td>0.064373</td>\n",
       "      <td>1</td>\n",
       "      <td>0.513898</td>\n",
       "      <td>0.176471</td>\n",
       "      <td>8</td>\n",
       "    </tr>\n",
       "    <tr>\n",
       "      <th>1</th>\n",
       "      <td>1</td>\n",
       "      <td>1</td>\n",
       "      <td>0</td>\n",
       "      <td>0.021211</td>\n",
       "      <td>20</td>\n",
       "      <td>4.320366</td>\n",
       "      <td>0.106796</td>\n",
       "      <td>124</td>\n",
       "    </tr>\n",
       "    <tr>\n",
       "      <th>2</th>\n",
       "      <td>0</td>\n",
       "      <td>-2</td>\n",
       "      <td>0</td>\n",
       "      <td>0.017202</td>\n",
       "      <td>0</td>\n",
       "      <td>0.000000</td>\n",
       "      <td>0.000000</td>\n",
       "      <td>2</td>\n",
       "    </tr>\n",
       "    <tr>\n",
       "      <th>3</th>\n",
       "      <td>0</td>\n",
       "      <td>-4</td>\n",
       "      <td>0</td>\n",
       "      <td>0.012634</td>\n",
       "      <td>0</td>\n",
       "      <td>0.000000</td>\n",
       "      <td>0.000000</td>\n",
       "      <td>2</td>\n",
       "    </tr>\n",
       "    <tr>\n",
       "      <th>4</th>\n",
       "      <td>0</td>\n",
       "      <td>-5</td>\n",
       "      <td>0</td>\n",
       "      <td>0.059588</td>\n",
       "      <td>0</td>\n",
       "      <td>0.000000</td>\n",
       "      <td>0.000000</td>\n",
       "      <td>2</td>\n",
       "    </tr>\n",
       "  </tbody>\n",
       "</table>\n",
       "</div>"
      ],
      "text/plain": [
       "   title_overlap  year_diff  common_authors       sim  cn       aai  \\\n",
       "0              2          0               0  0.064373   1  0.513898   \n",
       "1              1          1               0  0.021211  20  4.320366   \n",
       "2              0         -2               0  0.017202   0  0.000000   \n",
       "3              0         -4               0  0.012634   0  0.000000   \n",
       "4              0         -5               0  0.059588   0  0.000000   \n",
       "\n",
       "   jaccard_coeff  tgt_citation  \n",
       "0       0.176471             8  \n",
       "1       0.106796           124  \n",
       "2       0.000000             2  \n",
       "3       0.000000             2  \n",
       "4       0.000000             2  "
      ]
     },
     "execution_count": 12,
     "metadata": {},
     "output_type": "execute_result"
    }
   ],
   "source": [
    "X = pd.concat([train1.loc[:,['title_overlap', 'year_diff','common_authors','sim','cn','aai']], train2.loc[:,['jaccard_coeff','tgt_citation']]], axis=1)\n",
    "y = train1.loc[:,'link']\n",
    "X.head()"
   ]
  },
  {
   "cell_type": "code",
   "execution_count": 13,
   "metadata": {},
   "outputs": [
    {
     "data": {
      "text/html": [
       "<div>\n",
       "<style>\n",
       "    .dataframe thead tr:only-child th {\n",
       "        text-align: right;\n",
       "    }\n",
       "\n",
       "    .dataframe thead th {\n",
       "        text-align: left;\n",
       "    }\n",
       "\n",
       "    .dataframe tbody tr th {\n",
       "        vertical-align: top;\n",
       "    }\n",
       "</style>\n",
       "<table border=\"1\" class=\"dataframe\">\n",
       "  <thead>\n",
       "    <tr style=\"text-align: right;\">\n",
       "      <th></th>\n",
       "      <th>title_overlap</th>\n",
       "      <th>year_diff</th>\n",
       "      <th>common_authors</th>\n",
       "      <th>sim</th>\n",
       "      <th>cn</th>\n",
       "      <th>aai</th>\n",
       "      <th>jaccard_coeff</th>\n",
       "      <th>tgt_citation</th>\n",
       "    </tr>\n",
       "  </thead>\n",
       "  <tbody>\n",
       "    <tr>\n",
       "      <th>206307</th>\n",
       "      <td>1</td>\n",
       "      <td>-1</td>\n",
       "      <td>0</td>\n",
       "      <td>0.057576</td>\n",
       "      <td>0</td>\n",
       "      <td>0.000000</td>\n",
       "      <td>0.000000</td>\n",
       "      <td>8</td>\n",
       "    </tr>\n",
       "    <tr>\n",
       "      <th>545369</th>\n",
       "      <td>0</td>\n",
       "      <td>6</td>\n",
       "      <td>0</td>\n",
       "      <td>0.064932</td>\n",
       "      <td>15</td>\n",
       "      <td>3.795183</td>\n",
       "      <td>0.079439</td>\n",
       "      <td>164</td>\n",
       "    </tr>\n",
       "    <tr>\n",
       "      <th>304493</th>\n",
       "      <td>0</td>\n",
       "      <td>0</td>\n",
       "      <td>0</td>\n",
       "      <td>0.009646</td>\n",
       "      <td>0</td>\n",
       "      <td>0.000000</td>\n",
       "      <td>0.000000</td>\n",
       "      <td>0</td>\n",
       "    </tr>\n",
       "    <tr>\n",
       "      <th>42171</th>\n",
       "      <td>0</td>\n",
       "      <td>-2</td>\n",
       "      <td>0</td>\n",
       "      <td>0.002130</td>\n",
       "      <td>0</td>\n",
       "      <td>0.000000</td>\n",
       "      <td>0.000000</td>\n",
       "      <td>2</td>\n",
       "    </tr>\n",
       "    <tr>\n",
       "      <th>268996</th>\n",
       "      <td>0</td>\n",
       "      <td>0</td>\n",
       "      <td>0</td>\n",
       "      <td>0.095356</td>\n",
       "      <td>0</td>\n",
       "      <td>0.000000</td>\n",
       "      <td>0.030303</td>\n",
       "      <td>14</td>\n",
       "    </tr>\n",
       "  </tbody>\n",
       "</table>\n",
       "</div>"
      ],
      "text/plain": [
       "        title_overlap  year_diff  common_authors       sim  cn       aai  \\\n",
       "206307              1         -1               0  0.057576   0  0.000000   \n",
       "545369              0          6               0  0.064932  15  3.795183   \n",
       "304493              0          0               0  0.009646   0  0.000000   \n",
       "42171               0         -2               0  0.002130   0  0.000000   \n",
       "268996              0          0               0  0.095356   0  0.000000   \n",
       "\n",
       "        jaccard_coeff  tgt_citation  \n",
       "206307       0.000000             8  \n",
       "545369       0.079439           164  \n",
       "304493       0.000000             0  \n",
       "42171        0.000000             2  \n",
       "268996       0.030303            14  "
      ]
     },
     "execution_count": 13,
     "metadata": {},
     "output_type": "execute_result"
    }
   ],
   "source": [
    "X, y = shuffle(X, y, random_state=0)\n",
    "X.head()"
   ]
  },
  {
   "cell_type": "code",
   "execution_count": 14,
   "metadata": {
    "collapsed": true
   },
   "outputs": [],
   "source": [
    "X_train, X_valid, y_train, y_valid = train_test_split(X, y, test_size=0.3, random_state=0, shuffle=True)"
   ]
  },
  {
   "cell_type": "code",
   "execution_count": 15,
   "metadata": {},
   "outputs": [
    {
     "name": "stderr",
     "output_type": "stream",
     "text": [
      "/home/wangsun/anaconda3/lib/python3.5/site-packages/sklearn/preprocessing/label.py:151: DeprecationWarning: The truth value of an empty array is ambiguous. Returning False, but in future this will result in an error. Use `array.size > 0` to check that an array is not empty.\n",
      "  if diff:\n",
      "/home/wangsun/anaconda3/lib/python3.5/site-packages/sklearn/preprocessing/label.py:151: DeprecationWarning: The truth value of an empty array is ambiguous. Returning False, but in future this will result in an error. Use `array.size > 0` to check that an array is not empty.\n",
      "  if diff:\n",
      "/home/wangsun/anaconda3/lib/python3.5/site-packages/sklearn/preprocessing/label.py:151: DeprecationWarning: The truth value of an empty array is ambiguous. Returning False, but in future this will result in an error. Use `array.size > 0` to check that an array is not empty.\n",
      "  if diff:\n",
      "/home/wangsun/anaconda3/lib/python3.5/site-packages/sklearn/preprocessing/label.py:151: DeprecationWarning: The truth value of an empty array is ambiguous. Returning False, but in future this will result in an error. Use `array.size > 0` to check that an array is not empty.\n",
      "  if diff:\n",
      "/home/wangsun/anaconda3/lib/python3.5/site-packages/sklearn/preprocessing/label.py:151: DeprecationWarning: The truth value of an empty array is ambiguous. Returning False, but in future this will result in an error. Use `array.size > 0` to check that an array is not empty.\n",
      "  if diff:\n"
     ]
    },
    {
     "data": {
      "text/plain": [
       "0.9960641509156408"
      ]
     },
     "execution_count": 15,
     "metadata": {},
     "output_type": "execute_result"
    }
   ],
   "source": [
    "clf_xgb = XGBClassifier(    \n",
    "                        n_estimators=200,\n",
    "                        max_depth=3,\n",
    "                        objective=\"binary:logistic\",\n",
    "                        learning_rate=.3, \n",
    "                        subsample=.8,\n",
    "                        min_child_weight=6,\n",
    "                        colsample_bytree=.8,\n",
    "                        scale_pos_weight=1.6,\n",
    "                        gamma=5,\n",
    "                        reg_alpha=2,\n",
    "                        reg_lambda=5,\n",
    "                     )\n",
    "np.mean(cross_val_score(clf_xgb, X_train, y_train, cv=5, scoring='f1'))"
   ]
  },
  {
   "cell_type": "markdown",
   "metadata": {
    "collapsed": true
   },
   "source": [
    "This result is overfitting because of jaccard coefficient"
   ]
  },
  {
   "cell_type": "markdown",
   "metadata": {
    "collapsed": true
   },
   "source": [
    "### Trials of features"
   ]
  },
  {
   "cell_type": "markdown",
   "metadata": {},
   "source": [
    "#### 6 new features + tgt citation"
   ]
  },
  {
   "cell_type": "code",
   "execution_count": 12,
   "metadata": {
    "collapsed": true
   },
   "outputs": [],
   "source": [
    "train1 = pd.read_csv('data/train_treated.csv')\n",
    "train2 = pd.read_csv('data/train_nx_ig_v2.csv')\n",
    "X = pd.concat([train1.loc[:,['title_overlap', 'year_diff','common_authors','sim','cn','aai']], train2.loc[:,['tgt_citation']]], axis=1)\n",
    "y = train1.loc[:,'link']\n",
    "X, y = shuffle(X, y, random_state=0)\n",
    "X_train, X_valid, y_train, y_valid = train_test_split(X, y, test_size=0.3, random_state=0, shuffle=True)"
   ]
  },
  {
   "cell_type": "code",
   "execution_count": null,
   "metadata": {
    "collapsed": true
   },
   "outputs": [],
   "source": [
    "params_range = {'n_estimators':[100,200,300,400,500,600], 'max_depth':[3,4], 'learning_rate':[0.1,0.2,0.3,0.4], 'subsample':[0.6,0.7,0.8,0.9,1]}\n",
    "clf_xgb = XGBClassifier(booster='gbtree',objective=\"binary:logistic\",random_state=0)\n",
    "clf = GridSearchCV(clf_xgb, param_grid=params_range, scoring='f1',cv=5)\n",
    "clf.fit(X,y)"
   ]
  },
  {
   "cell_type": "code",
   "execution_count": 18,
   "metadata": {
    "scrolled": true
   },
   "outputs": [
    {
     "name": "stderr",
     "output_type": "stream",
     "text": [
      "/home/wangsun/anaconda3/lib/python3.5/site-packages/sklearn/preprocessing/label.py:151: DeprecationWarning: The truth value of an empty array is ambiguous. Returning False, but in future this will result in an error. Use `array.size > 0` to check that an array is not empty.\n",
      "  if diff:\n",
      "/home/wangsun/anaconda3/lib/python3.5/site-packages/sklearn/preprocessing/label.py:151: DeprecationWarning: The truth value of an empty array is ambiguous. Returning False, but in future this will result in an error. Use `array.size > 0` to check that an array is not empty.\n",
      "  if diff:\n",
      "/home/wangsun/anaconda3/lib/python3.5/site-packages/sklearn/preprocessing/label.py:151: DeprecationWarning: The truth value of an empty array is ambiguous. Returning False, but in future this will result in an error. Use `array.size > 0` to check that an array is not empty.\n",
      "  if diff:\n",
      "/home/wangsun/anaconda3/lib/python3.5/site-packages/sklearn/preprocessing/label.py:151: DeprecationWarning: The truth value of an empty array is ambiguous. Returning False, but in future this will result in an error. Use `array.size > 0` to check that an array is not empty.\n",
      "  if diff:\n",
      "/home/wangsun/anaconda3/lib/python3.5/site-packages/sklearn/preprocessing/label.py:151: DeprecationWarning: The truth value of an empty array is ambiguous. Returning False, but in future this will result in an error. Use `array.size > 0` to check that an array is not empty.\n",
      "  if diff:\n"
     ]
    },
    {
     "name": "stdout",
     "output_type": "stream",
     "text": [
      "0.9750323735926031\n"
     ]
    },
    {
     "name": "stderr",
     "output_type": "stream",
     "text": [
      "/home/wangsun/anaconda3/lib/python3.5/site-packages/sklearn/preprocessing/label.py:151: DeprecationWarning: The truth value of an empty array is ambiguous. Returning False, but in future this will result in an error. Use `array.size > 0` to check that an array is not empty.\n",
      "  if diff:\n",
      "/home/wangsun/anaconda3/lib/python3.5/site-packages/sklearn/preprocessing/label.py:151: DeprecationWarning: The truth value of an empty array is ambiguous. Returning False, but in future this will result in an error. Use `array.size > 0` to check that an array is not empty.\n",
      "  if diff:\n",
      "/home/wangsun/anaconda3/lib/python3.5/site-packages/sklearn/preprocessing/label.py:151: DeprecationWarning: The truth value of an empty array is ambiguous. Returning False, but in future this will result in an error. Use `array.size > 0` to check that an array is not empty.\n",
      "  if diff:\n",
      "/home/wangsun/anaconda3/lib/python3.5/site-packages/sklearn/preprocessing/label.py:151: DeprecationWarning: The truth value of an empty array is ambiguous. Returning False, but in future this will result in an error. Use `array.size > 0` to check that an array is not empty.\n",
      "  if diff:\n"
     ]
    },
    {
     "name": "stdout",
     "output_type": "stream",
     "text": [
      "0.9751365966722221\n"
     ]
    },
    {
     "name": "stderr",
     "output_type": "stream",
     "text": [
      "/home/wangsun/anaconda3/lib/python3.5/site-packages/sklearn/preprocessing/label.py:151: DeprecationWarning: The truth value of an empty array is ambiguous. Returning False, but in future this will result in an error. Use `array.size > 0` to check that an array is not empty.\n",
      "  if diff:\n"
     ]
    }
   ],
   "source": [
    "clf_xgb = XGBClassifier(    \n",
    "                        n_estimators=300,\n",
    "                        max_depth=4,\n",
    "                        booster='gbtree',\n",
    "                        objective=\"binary:logistic\",\n",
    "                        learning_rate=.4, \n",
    "                        subsample=1,\n",
    "                        colsample_bytree=1,\n",
    "                        colsample_bylevel=1,\n",
    "                        gamma=0,\n",
    "                        random_state=0\n",
    "                     )\n",
    "print (cross_val_score(clf_xgb, X_train, y_train, cv=5, scoring='f1').mean())\n",
    "print (cross_val_score(clf_xgb, X, y, cv=5, scoring='f1').mean())"
   ]
  },
  {
   "cell_type": "code",
   "execution_count": 19,
   "metadata": {
    "scrolled": true
   },
   "outputs": [
    {
     "name": "stderr",
     "output_type": "stream",
     "text": [
      "/home/wangsun/anaconda3/lib/python3.5/site-packages/sklearn/preprocessing/label.py:151: DeprecationWarning: The truth value of an empty array is ambiguous. Returning False, but in future this will result in an error. Use `array.size > 0` to check that an array is not empty.\n",
      "  if diff:\n",
      "/home/wangsun/anaconda3/lib/python3.5/site-packages/sklearn/preprocessing/label.py:151: DeprecationWarning: The truth value of an empty array is ambiguous. Returning False, but in future this will result in an error. Use `array.size > 0` to check that an array is not empty.\n",
      "  if diff:\n",
      "/home/wangsun/anaconda3/lib/python3.5/site-packages/sklearn/preprocessing/label.py:151: DeprecationWarning: The truth value of an empty array is ambiguous. Returning False, but in future this will result in an error. Use `array.size > 0` to check that an array is not empty.\n",
      "  if diff:\n",
      "/home/wangsun/anaconda3/lib/python3.5/site-packages/sklearn/preprocessing/label.py:151: DeprecationWarning: The truth value of an empty array is ambiguous. Returning False, but in future this will result in an error. Use `array.size > 0` to check that an array is not empty.\n",
      "  if diff:\n",
      "/home/wangsun/anaconda3/lib/python3.5/site-packages/sklearn/preprocessing/label.py:151: DeprecationWarning: The truth value of an empty array is ambiguous. Returning False, but in future this will result in an error. Use `array.size > 0` to check that an array is not empty.\n",
      "  if diff:\n"
     ]
    },
    {
     "name": "stdout",
     "output_type": "stream",
     "text": [
      "0.9752286153844733\n"
     ]
    },
    {
     "name": "stderr",
     "output_type": "stream",
     "text": [
      "/home/wangsun/anaconda3/lib/python3.5/site-packages/sklearn/preprocessing/label.py:151: DeprecationWarning: The truth value of an empty array is ambiguous. Returning False, but in future this will result in an error. Use `array.size > 0` to check that an array is not empty.\n",
      "  if diff:\n",
      "/home/wangsun/anaconda3/lib/python3.5/site-packages/sklearn/preprocessing/label.py:151: DeprecationWarning: The truth value of an empty array is ambiguous. Returning False, but in future this will result in an error. Use `array.size > 0` to check that an array is not empty.\n",
      "  if diff:\n",
      "/home/wangsun/anaconda3/lib/python3.5/site-packages/sklearn/preprocessing/label.py:151: DeprecationWarning: The truth value of an empty array is ambiguous. Returning False, but in future this will result in an error. Use `array.size > 0` to check that an array is not empty.\n",
      "  if diff:\n",
      "/home/wangsun/anaconda3/lib/python3.5/site-packages/sklearn/preprocessing/label.py:151: DeprecationWarning: The truth value of an empty array is ambiguous. Returning False, but in future this will result in an error. Use `array.size > 0` to check that an array is not empty.\n",
      "  if diff:\n"
     ]
    },
    {
     "name": "stdout",
     "output_type": "stream",
     "text": [
      "0.9753423131238748\n"
     ]
    },
    {
     "name": "stderr",
     "output_type": "stream",
     "text": [
      "/home/wangsun/anaconda3/lib/python3.5/site-packages/sklearn/preprocessing/label.py:151: DeprecationWarning: The truth value of an empty array is ambiguous. Returning False, but in future this will result in an error. Use `array.size > 0` to check that an array is not empty.\n",
      "  if diff:\n"
     ]
    }
   ],
   "source": [
    "clf_xgb = XGBClassifier(    \n",
    "                        n_estimators=300,\n",
    "                        max_depth=4,\n",
    "                        booster='gbtree',\n",
    "                        objective=\"binary:logistic\",\n",
    "                        learning_rate=.3, \n",
    "                        subsample=1,\n",
    "                        colsample_bytree=1,\n",
    "                        colsample_bylevel=1,\n",
    "                        gamma=0,\n",
    "                        random_state=0\n",
    "                     )\n",
    "print (cross_val_score(clf_xgb, X_train, y_train, cv=5, scoring='f1').mean())\n",
    "print (cross_val_score(clf_xgb, X, y, cv=5, scoring='f1').mean())"
   ]
  },
  {
   "cell_type": "code",
   "execution_count": 20,
   "metadata": {
    "scrolled": true
   },
   "outputs": [
    {
     "name": "stderr",
     "output_type": "stream",
     "text": [
      "/home/wangsun/anaconda3/lib/python3.5/site-packages/sklearn/preprocessing/label.py:151: DeprecationWarning: The truth value of an empty array is ambiguous. Returning False, but in future this will result in an error. Use `array.size > 0` to check that an array is not empty.\n",
      "  if diff:\n",
      "/home/wangsun/anaconda3/lib/python3.5/site-packages/sklearn/preprocessing/label.py:151: DeprecationWarning: The truth value of an empty array is ambiguous. Returning False, but in future this will result in an error. Use `array.size > 0` to check that an array is not empty.\n",
      "  if diff:\n",
      "/home/wangsun/anaconda3/lib/python3.5/site-packages/sklearn/preprocessing/label.py:151: DeprecationWarning: The truth value of an empty array is ambiguous. Returning False, but in future this will result in an error. Use `array.size > 0` to check that an array is not empty.\n",
      "  if diff:\n",
      "/home/wangsun/anaconda3/lib/python3.5/site-packages/sklearn/preprocessing/label.py:151: DeprecationWarning: The truth value of an empty array is ambiguous. Returning False, but in future this will result in an error. Use `array.size > 0` to check that an array is not empty.\n",
      "  if diff:\n",
      "/home/wangsun/anaconda3/lib/python3.5/site-packages/sklearn/preprocessing/label.py:151: DeprecationWarning: The truth value of an empty array is ambiguous. Returning False, but in future this will result in an error. Use `array.size > 0` to check that an array is not empty.\n",
      "  if diff:\n"
     ]
    },
    {
     "name": "stdout",
     "output_type": "stream",
     "text": [
      "0.9752185936849571\n"
     ]
    },
    {
     "name": "stderr",
     "output_type": "stream",
     "text": [
      "/home/wangsun/anaconda3/lib/python3.5/site-packages/sklearn/preprocessing/label.py:151: DeprecationWarning: The truth value of an empty array is ambiguous. Returning False, but in future this will result in an error. Use `array.size > 0` to check that an array is not empty.\n",
      "  if diff:\n",
      "/home/wangsun/anaconda3/lib/python3.5/site-packages/sklearn/preprocessing/label.py:151: DeprecationWarning: The truth value of an empty array is ambiguous. Returning False, but in future this will result in an error. Use `array.size > 0` to check that an array is not empty.\n",
      "  if diff:\n",
      "/home/wangsun/anaconda3/lib/python3.5/site-packages/sklearn/preprocessing/label.py:151: DeprecationWarning: The truth value of an empty array is ambiguous. Returning False, but in future this will result in an error. Use `array.size > 0` to check that an array is not empty.\n",
      "  if diff:\n",
      "/home/wangsun/anaconda3/lib/python3.5/site-packages/sklearn/preprocessing/label.py:151: DeprecationWarning: The truth value of an empty array is ambiguous. Returning False, but in future this will result in an error. Use `array.size > 0` to check that an array is not empty.\n",
      "  if diff:\n"
     ]
    },
    {
     "name": "stdout",
     "output_type": "stream",
     "text": [
      "0.9753518900772937\n"
     ]
    },
    {
     "name": "stderr",
     "output_type": "stream",
     "text": [
      "/home/wangsun/anaconda3/lib/python3.5/site-packages/sklearn/preprocessing/label.py:151: DeprecationWarning: The truth value of an empty array is ambiguous. Returning False, but in future this will result in an error. Use `array.size > 0` to check that an array is not empty.\n",
      "  if diff:\n"
     ]
    }
   ],
   "source": [
    "clf_xgb = XGBClassifier(    \n",
    "                        n_estimators=300,\n",
    "                        max_depth=4,\n",
    "                        booster='gbtree',\n",
    "                        objective=\"binary:logistic\",\n",
    "                        learning_rate=.2, \n",
    "                        subsample=1,\n",
    "                        colsample_bytree=1,\n",
    "                        colsample_bylevel=1,\n",
    "                        gamma=0,\n",
    "                        random_state=0\n",
    "                     )\n",
    "print (cross_val_score(clf_xgb, X_train, y_train, cv=5, scoring='f1').mean())\n",
    "print (cross_val_score(clf_xgb, X, y, cv=5, scoring='f1').mean())"
   ]
  },
  {
   "cell_type": "code",
   "execution_count": 21,
   "metadata": {
    "scrolled": true
   },
   "outputs": [
    {
     "name": "stderr",
     "output_type": "stream",
     "text": [
      "/home/wangsun/anaconda3/lib/python3.5/site-packages/sklearn/preprocessing/label.py:151: DeprecationWarning: The truth value of an empty array is ambiguous. Returning False, but in future this will result in an error. Use `array.size > 0` to check that an array is not empty.\n",
      "  if diff:\n",
      "/home/wangsun/anaconda3/lib/python3.5/site-packages/sklearn/preprocessing/label.py:151: DeprecationWarning: The truth value of an empty array is ambiguous. Returning False, but in future this will result in an error. Use `array.size > 0` to check that an array is not empty.\n",
      "  if diff:\n",
      "/home/wangsun/anaconda3/lib/python3.5/site-packages/sklearn/preprocessing/label.py:151: DeprecationWarning: The truth value of an empty array is ambiguous. Returning False, but in future this will result in an error. Use `array.size > 0` to check that an array is not empty.\n",
      "  if diff:\n",
      "/home/wangsun/anaconda3/lib/python3.5/site-packages/sklearn/preprocessing/label.py:151: DeprecationWarning: The truth value of an empty array is ambiguous. Returning False, but in future this will result in an error. Use `array.size > 0` to check that an array is not empty.\n",
      "  if diff:\n",
      "/home/wangsun/anaconda3/lib/python3.5/site-packages/sklearn/preprocessing/label.py:151: DeprecationWarning: The truth value of an empty array is ambiguous. Returning False, but in future this will result in an error. Use `array.size > 0` to check that an array is not empty.\n",
      "  if diff:\n"
     ]
    },
    {
     "name": "stdout",
     "output_type": "stream",
     "text": [
      "0.9752188923960535\n"
     ]
    },
    {
     "name": "stderr",
     "output_type": "stream",
     "text": [
      "/home/wangsun/anaconda3/lib/python3.5/site-packages/sklearn/preprocessing/label.py:151: DeprecationWarning: The truth value of an empty array is ambiguous. Returning False, but in future this will result in an error. Use `array.size > 0` to check that an array is not empty.\n",
      "  if diff:\n",
      "/home/wangsun/anaconda3/lib/python3.5/site-packages/sklearn/preprocessing/label.py:151: DeprecationWarning: The truth value of an empty array is ambiguous. Returning False, but in future this will result in an error. Use `array.size > 0` to check that an array is not empty.\n",
      "  if diff:\n",
      "/home/wangsun/anaconda3/lib/python3.5/site-packages/sklearn/preprocessing/label.py:151: DeprecationWarning: The truth value of an empty array is ambiguous. Returning False, but in future this will result in an error. Use `array.size > 0` to check that an array is not empty.\n",
      "  if diff:\n",
      "/home/wangsun/anaconda3/lib/python3.5/site-packages/sklearn/preprocessing/label.py:151: DeprecationWarning: The truth value of an empty array is ambiguous. Returning False, but in future this will result in an error. Use `array.size > 0` to check that an array is not empty.\n",
      "  if diff:\n"
     ]
    },
    {
     "name": "stdout",
     "output_type": "stream",
     "text": [
      "0.9753581259631107\n"
     ]
    },
    {
     "name": "stderr",
     "output_type": "stream",
     "text": [
      "/home/wangsun/anaconda3/lib/python3.5/site-packages/sklearn/preprocessing/label.py:151: DeprecationWarning: The truth value of an empty array is ambiguous. Returning False, but in future this will result in an error. Use `array.size > 0` to check that an array is not empty.\n",
      "  if diff:\n"
     ]
    }
   ],
   "source": [
    "clf_xgb = XGBClassifier(    \n",
    "                        n_estimators=300,\n",
    "                        max_depth=4,\n",
    "                        booster='gbtree',\n",
    "                        objective=\"binary:logistic\",\n",
    "                        learning_rate=.1, \n",
    "                        subsample=1,\n",
    "                        colsample_bytree=1,\n",
    "                        colsample_bylevel=1,\n",
    "                        gamma=0,\n",
    "                        random_state=0\n",
    "                     )\n",
    "print (cross_val_score(clf_xgb, X_train, y_train, cv=5, scoring='f1').mean())\n",
    "print (cross_val_score(clf_xgb, X, y, cv=5, scoring='f1').mean())"
   ]
  },
  {
   "cell_type": "markdown",
   "metadata": {},
   "source": [
    "lower learning rate is better"
   ]
  },
  {
   "cell_type": "code",
   "execution_count": 22,
   "metadata": {
    "scrolled": true
   },
   "outputs": [
    {
     "name": "stderr",
     "output_type": "stream",
     "text": [
      "/home/wangsun/anaconda3/lib/python3.5/site-packages/sklearn/preprocessing/label.py:151: DeprecationWarning: The truth value of an empty array is ambiguous. Returning False, but in future this will result in an error. Use `array.size > 0` to check that an array is not empty.\n",
      "  if diff:\n",
      "/home/wangsun/anaconda3/lib/python3.5/site-packages/sklearn/preprocessing/label.py:151: DeprecationWarning: The truth value of an empty array is ambiguous. Returning False, but in future this will result in an error. Use `array.size > 0` to check that an array is not empty.\n",
      "  if diff:\n",
      "/home/wangsun/anaconda3/lib/python3.5/site-packages/sklearn/preprocessing/label.py:151: DeprecationWarning: The truth value of an empty array is ambiguous. Returning False, but in future this will result in an error. Use `array.size > 0` to check that an array is not empty.\n",
      "  if diff:\n",
      "/home/wangsun/anaconda3/lib/python3.5/site-packages/sklearn/preprocessing/label.py:151: DeprecationWarning: The truth value of an empty array is ambiguous. Returning False, but in future this will result in an error. Use `array.size > 0` to check that an array is not empty.\n",
      "  if diff:\n",
      "/home/wangsun/anaconda3/lib/python3.5/site-packages/sklearn/preprocessing/label.py:151: DeprecationWarning: The truth value of an empty array is ambiguous. Returning False, but in future this will result in an error. Use `array.size > 0` to check that an array is not empty.\n",
      "  if diff:\n"
     ]
    },
    {
     "name": "stdout",
     "output_type": "stream",
     "text": [
      "0.9751720296182228\n"
     ]
    },
    {
     "name": "stderr",
     "output_type": "stream",
     "text": [
      "/home/wangsun/anaconda3/lib/python3.5/site-packages/sklearn/preprocessing/label.py:151: DeprecationWarning: The truth value of an empty array is ambiguous. Returning False, but in future this will result in an error. Use `array.size > 0` to check that an array is not empty.\n",
      "  if diff:\n",
      "/home/wangsun/anaconda3/lib/python3.5/site-packages/sklearn/preprocessing/label.py:151: DeprecationWarning: The truth value of an empty array is ambiguous. Returning False, but in future this will result in an error. Use `array.size > 0` to check that an array is not empty.\n",
      "  if diff:\n",
      "/home/wangsun/anaconda3/lib/python3.5/site-packages/sklearn/preprocessing/label.py:151: DeprecationWarning: The truth value of an empty array is ambiguous. Returning False, but in future this will result in an error. Use `array.size > 0` to check that an array is not empty.\n",
      "  if diff:\n",
      "/home/wangsun/anaconda3/lib/python3.5/site-packages/sklearn/preprocessing/label.py:151: DeprecationWarning: The truth value of an empty array is ambiguous. Returning False, but in future this will result in an error. Use `array.size > 0` to check that an array is not empty.\n",
      "  if diff:\n"
     ]
    },
    {
     "name": "stdout",
     "output_type": "stream",
     "text": [
      "0.9753447668489581\n"
     ]
    },
    {
     "name": "stderr",
     "output_type": "stream",
     "text": [
      "/home/wangsun/anaconda3/lib/python3.5/site-packages/sklearn/preprocessing/label.py:151: DeprecationWarning: The truth value of an empty array is ambiguous. Returning False, but in future this will result in an error. Use `array.size > 0` to check that an array is not empty.\n",
      "  if diff:\n"
     ]
    }
   ],
   "source": [
    "clf_xgb = XGBClassifier(    \n",
    "                        n_estimators=300,\n",
    "                        max_depth=4,\n",
    "                        booster='gbtree',\n",
    "                        objective=\"binary:logistic\",\n",
    "                        learning_rate=.1, \n",
    "                        subsample=.8,\n",
    "                        colsample_bytree=1,\n",
    "                        colsample_bylevel=1,\n",
    "                        gamma=0,\n",
    "                        random_state=0\n",
    "                     )\n",
    "print (cross_val_score(clf_xgb, X_train, y_train, cv=5, scoring='f1').mean())\n",
    "print (cross_val_score(clf_xgb, X, y, cv=5, scoring='f1').mean())"
   ]
  },
  {
   "cell_type": "code",
   "execution_count": 16,
   "metadata": {
    "scrolled": true
   },
   "outputs": [
    {
     "name": "stderr",
     "output_type": "stream",
     "text": [
      "/home/wangsun/anaconda3/lib/python3.5/site-packages/sklearn/preprocessing/label.py:151: DeprecationWarning: The truth value of an empty array is ambiguous. Returning False, but in future this will result in an error. Use `array.size > 0` to check that an array is not empty.\n",
      "  if diff:\n",
      "/home/wangsun/anaconda3/lib/python3.5/site-packages/sklearn/preprocessing/label.py:151: DeprecationWarning: The truth value of an empty array is ambiguous. Returning False, but in future this will result in an error. Use `array.size > 0` to check that an array is not empty.\n",
      "  if diff:\n",
      "/home/wangsun/anaconda3/lib/python3.5/site-packages/sklearn/preprocessing/label.py:151: DeprecationWarning: The truth value of an empty array is ambiguous. Returning False, but in future this will result in an error. Use `array.size > 0` to check that an array is not empty.\n",
      "  if diff:\n",
      "/home/wangsun/anaconda3/lib/python3.5/site-packages/sklearn/preprocessing/label.py:151: DeprecationWarning: The truth value of an empty array is ambiguous. Returning False, but in future this will result in an error. Use `array.size > 0` to check that an array is not empty.\n",
      "  if diff:\n",
      "/home/wangsun/anaconda3/lib/python3.5/site-packages/sklearn/preprocessing/label.py:151: DeprecationWarning: The truth value of an empty array is ambiguous. Returning False, but in future this will result in an error. Use `array.size > 0` to check that an array is not empty.\n",
      "  if diff:\n"
     ]
    },
    {
     "name": "stdout",
     "output_type": "stream",
     "text": [
      "0.9751846764675779\n"
     ]
    },
    {
     "name": "stderr",
     "output_type": "stream",
     "text": [
      "/home/wangsun/anaconda3/lib/python3.5/site-packages/sklearn/preprocessing/label.py:151: DeprecationWarning: The truth value of an empty array is ambiguous. Returning False, but in future this will result in an error. Use `array.size > 0` to check that an array is not empty.\n",
      "  if diff:\n",
      "/home/wangsun/anaconda3/lib/python3.5/site-packages/sklearn/preprocessing/label.py:151: DeprecationWarning: The truth value of an empty array is ambiguous. Returning False, but in future this will result in an error. Use `array.size > 0` to check that an array is not empty.\n",
      "  if diff:\n",
      "/home/wangsun/anaconda3/lib/python3.5/site-packages/sklearn/preprocessing/label.py:151: DeprecationWarning: The truth value of an empty array is ambiguous. Returning False, but in future this will result in an error. Use `array.size > 0` to check that an array is not empty.\n",
      "  if diff:\n",
      "/home/wangsun/anaconda3/lib/python3.5/site-packages/sklearn/preprocessing/label.py:151: DeprecationWarning: The truth value of an empty array is ambiguous. Returning False, but in future this will result in an error. Use `array.size > 0` to check that an array is not empty.\n",
      "  if diff:\n"
     ]
    },
    {
     "name": "stdout",
     "output_type": "stream",
     "text": [
      "0.975384521653423\n"
     ]
    },
    {
     "name": "stderr",
     "output_type": "stream",
     "text": [
      "/home/wangsun/anaconda3/lib/python3.5/site-packages/sklearn/preprocessing/label.py:151: DeprecationWarning: The truth value of an empty array is ambiguous. Returning False, but in future this will result in an error. Use `array.size > 0` to check that an array is not empty.\n",
      "  if diff:\n"
     ]
    }
   ],
   "source": [
    "clf_xgb = XGBClassifier(    \n",
    "                        n_estimators=300,\n",
    "                        max_depth=4,\n",
    "                        booster='gbtree',\n",
    "                        objective=\"binary:logistic\",\n",
    "                        learning_rate=.2, \n",
    "                        subsample=.8,\n",
    "                        colsample_bytree=1,\n",
    "                        colsample_bylevel=1,\n",
    "                        gamma=0,\n",
    "                        random_state=0\n",
    "                     )\n",
    "print (cross_val_score(clf_xgb, X_train, y_train, cv=5, scoring='f1').mean())\n",
    "print (cross_val_score(clf_xgb, X, y, cv=5, scoring='f1').mean())"
   ]
  },
  {
   "cell_type": "code",
   "execution_count": 23,
   "metadata": {
    "scrolled": true
   },
   "outputs": [
    {
     "name": "stderr",
     "output_type": "stream",
     "text": [
      "/home/wangsun/anaconda3/lib/python3.5/site-packages/sklearn/preprocessing/label.py:151: DeprecationWarning: The truth value of an empty array is ambiguous. Returning False, but in future this will result in an error. Use `array.size > 0` to check that an array is not empty.\n",
      "  if diff:\n",
      "/home/wangsun/anaconda3/lib/python3.5/site-packages/sklearn/preprocessing/label.py:151: DeprecationWarning: The truth value of an empty array is ambiguous. Returning False, but in future this will result in an error. Use `array.size > 0` to check that an array is not empty.\n",
      "  if diff:\n",
      "/home/wangsun/anaconda3/lib/python3.5/site-packages/sklearn/preprocessing/label.py:151: DeprecationWarning: The truth value of an empty array is ambiguous. Returning False, but in future this will result in an error. Use `array.size > 0` to check that an array is not empty.\n",
      "  if diff:\n",
      "/home/wangsun/anaconda3/lib/python3.5/site-packages/sklearn/preprocessing/label.py:151: DeprecationWarning: The truth value of an empty array is ambiguous. Returning False, but in future this will result in an error. Use `array.size > 0` to check that an array is not empty.\n",
      "  if diff:\n",
      "/home/wangsun/anaconda3/lib/python3.5/site-packages/sklearn/preprocessing/label.py:151: DeprecationWarning: The truth value of an empty array is ambiguous. Returning False, but in future this will result in an error. Use `array.size > 0` to check that an array is not empty.\n",
      "  if diff:\n"
     ]
    },
    {
     "name": "stdout",
     "output_type": "stream",
     "text": [
      "0.975158204280947\n"
     ]
    },
    {
     "name": "stderr",
     "output_type": "stream",
     "text": [
      "/home/wangsun/anaconda3/lib/python3.5/site-packages/sklearn/preprocessing/label.py:151: DeprecationWarning: The truth value of an empty array is ambiguous. Returning False, but in future this will result in an error. Use `array.size > 0` to check that an array is not empty.\n",
      "  if diff:\n",
      "/home/wangsun/anaconda3/lib/python3.5/site-packages/sklearn/preprocessing/label.py:151: DeprecationWarning: The truth value of an empty array is ambiguous. Returning False, but in future this will result in an error. Use `array.size > 0` to check that an array is not empty.\n",
      "  if diff:\n",
      "/home/wangsun/anaconda3/lib/python3.5/site-packages/sklearn/preprocessing/label.py:151: DeprecationWarning: The truth value of an empty array is ambiguous. Returning False, but in future this will result in an error. Use `array.size > 0` to check that an array is not empty.\n",
      "  if diff:\n",
      "/home/wangsun/anaconda3/lib/python3.5/site-packages/sklearn/preprocessing/label.py:151: DeprecationWarning: The truth value of an empty array is ambiguous. Returning False, but in future this will result in an error. Use `array.size > 0` to check that an array is not empty.\n",
      "  if diff:\n"
     ]
    },
    {
     "name": "stdout",
     "output_type": "stream",
     "text": [
      "0.9753528063249759\n"
     ]
    },
    {
     "name": "stderr",
     "output_type": "stream",
     "text": [
      "/home/wangsun/anaconda3/lib/python3.5/site-packages/sklearn/preprocessing/label.py:151: DeprecationWarning: The truth value of an empty array is ambiguous. Returning False, but in future this will result in an error. Use `array.size > 0` to check that an array is not empty.\n",
      "  if diff:\n"
     ]
    }
   ],
   "source": [
    "clf_xgb = XGBClassifier(    \n",
    "                        n_estimators=300,\n",
    "                        max_depth=4,\n",
    "                        booster='gbtree',\n",
    "                        objective=\"binary:logistic\",\n",
    "                        learning_rate=.2, \n",
    "                        subsample=.8,\n",
    "                        colsample_bytree=.8,\n",
    "                        colsample_bylevel=.8,\n",
    "                        gamma=0,\n",
    "                        random_state=0\n",
    "                     )\n",
    "print (cross_val_score(clf_xgb, X_train, y_train, cv=5, scoring='f1').mean())\n",
    "print (cross_val_score(clf_xgb, X, y, cv=5, scoring='f1').mean())"
   ]
  },
  {
   "cell_type": "code",
   "execution_count": 17,
   "metadata": {
    "scrolled": true
   },
   "outputs": [
    {
     "name": "stderr",
     "output_type": "stream",
     "text": [
      "/home/wangsun/anaconda3/lib/python3.5/site-packages/sklearn/preprocessing/label.py:151: DeprecationWarning: The truth value of an empty array is ambiguous. Returning False, but in future this will result in an error. Use `array.size > 0` to check that an array is not empty.\n",
      "  if diff:\n",
      "/home/wangsun/anaconda3/lib/python3.5/site-packages/sklearn/preprocessing/label.py:151: DeprecationWarning: The truth value of an empty array is ambiguous. Returning False, but in future this will result in an error. Use `array.size > 0` to check that an array is not empty.\n",
      "  if diff:\n",
      "/home/wangsun/anaconda3/lib/python3.5/site-packages/sklearn/preprocessing/label.py:151: DeprecationWarning: The truth value of an empty array is ambiguous. Returning False, but in future this will result in an error. Use `array.size > 0` to check that an array is not empty.\n",
      "  if diff:\n",
      "/home/wangsun/anaconda3/lib/python3.5/site-packages/sklearn/preprocessing/label.py:151: DeprecationWarning: The truth value of an empty array is ambiguous. Returning False, but in future this will result in an error. Use `array.size > 0` to check that an array is not empty.\n",
      "  if diff:\n",
      "/home/wangsun/anaconda3/lib/python3.5/site-packages/sklearn/preprocessing/label.py:151: DeprecationWarning: The truth value of an empty array is ambiguous. Returning False, but in future this will result in an error. Use `array.size > 0` to check that an array is not empty.\n",
      "  if diff:\n"
     ]
    },
    {
     "name": "stdout",
     "output_type": "stream",
     "text": [
      "0.9751780846533524\n"
     ]
    },
    {
     "name": "stderr",
     "output_type": "stream",
     "text": [
      "/home/wangsun/anaconda3/lib/python3.5/site-packages/sklearn/preprocessing/label.py:151: DeprecationWarning: The truth value of an empty array is ambiguous. Returning False, but in future this will result in an error. Use `array.size > 0` to check that an array is not empty.\n",
      "  if diff:\n",
      "/home/wangsun/anaconda3/lib/python3.5/site-packages/sklearn/preprocessing/label.py:151: DeprecationWarning: The truth value of an empty array is ambiguous. Returning False, but in future this will result in an error. Use `array.size > 0` to check that an array is not empty.\n",
      "  if diff:\n",
      "/home/wangsun/anaconda3/lib/python3.5/site-packages/sklearn/preprocessing/label.py:151: DeprecationWarning: The truth value of an empty array is ambiguous. Returning False, but in future this will result in an error. Use `array.size > 0` to check that an array is not empty.\n",
      "  if diff:\n",
      "/home/wangsun/anaconda3/lib/python3.5/site-packages/sklearn/preprocessing/label.py:151: DeprecationWarning: The truth value of an empty array is ambiguous. Returning False, but in future this will result in an error. Use `array.size > 0` to check that an array is not empty.\n",
      "  if diff:\n"
     ]
    },
    {
     "name": "stdout",
     "output_type": "stream",
     "text": [
      "0.9753319678716019\n"
     ]
    },
    {
     "name": "stderr",
     "output_type": "stream",
     "text": [
      "/home/wangsun/anaconda3/lib/python3.5/site-packages/sklearn/preprocessing/label.py:151: DeprecationWarning: The truth value of an empty array is ambiguous. Returning False, but in future this will result in an error. Use `array.size > 0` to check that an array is not empty.\n",
      "  if diff:\n"
     ]
    }
   ],
   "source": [
    "clf_xgb = XGBClassifier(    \n",
    "                        n_estimators=300,\n",
    "                        max_depth=4,\n",
    "                        booster='gbtree',\n",
    "                        objective=\"binary:logistic\",\n",
    "                        learning_rate=.3, \n",
    "                        subsample=.8,\n",
    "                        colsample_bytree=.8,\n",
    "                        colsample_bylevel=.8,\n",
    "                        gamma=0,\n",
    "                        random_state=0\n",
    "                     )\n",
    "print (cross_val_score(clf_xgb, X_train, y_train, cv=5, scoring='f1').mean())\n",
    "print (cross_val_score(clf_xgb, X, y, cv=5, scoring='f1').mean())"
   ]
  },
  {
   "cell_type": "code",
   "execution_count": 26,
   "metadata": {
    "scrolled": true
   },
   "outputs": [
    {
     "name": "stderr",
     "output_type": "stream",
     "text": [
      "/home/wangsun/anaconda3/lib/python3.5/site-packages/sklearn/preprocessing/label.py:151: DeprecationWarning: The truth value of an empty array is ambiguous. Returning False, but in future this will result in an error. Use `array.size > 0` to check that an array is not empty.\n",
      "  if diff:\n",
      "/home/wangsun/anaconda3/lib/python3.5/site-packages/sklearn/preprocessing/label.py:151: DeprecationWarning: The truth value of an empty array is ambiguous. Returning False, but in future this will result in an error. Use `array.size > 0` to check that an array is not empty.\n",
      "  if diff:\n",
      "/home/wangsun/anaconda3/lib/python3.5/site-packages/sklearn/preprocessing/label.py:151: DeprecationWarning: The truth value of an empty array is ambiguous. Returning False, but in future this will result in an error. Use `array.size > 0` to check that an array is not empty.\n",
      "  if diff:\n",
      "/home/wangsun/anaconda3/lib/python3.5/site-packages/sklearn/preprocessing/label.py:151: DeprecationWarning: The truth value of an empty array is ambiguous. Returning False, but in future this will result in an error. Use `array.size > 0` to check that an array is not empty.\n",
      "  if diff:\n",
      "/home/wangsun/anaconda3/lib/python3.5/site-packages/sklearn/preprocessing/label.py:151: DeprecationWarning: The truth value of an empty array is ambiguous. Returning False, but in future this will result in an error. Use `array.size > 0` to check that an array is not empty.\n",
      "  if diff:\n"
     ]
    },
    {
     "name": "stdout",
     "output_type": "stream",
     "text": [
      "0.9751650045688935\n"
     ]
    },
    {
     "name": "stderr",
     "output_type": "stream",
     "text": [
      "/home/wangsun/anaconda3/lib/python3.5/site-packages/sklearn/preprocessing/label.py:151: DeprecationWarning: The truth value of an empty array is ambiguous. Returning False, but in future this will result in an error. Use `array.size > 0` to check that an array is not empty.\n",
      "  if diff:\n",
      "/home/wangsun/anaconda3/lib/python3.5/site-packages/sklearn/preprocessing/label.py:151: DeprecationWarning: The truth value of an empty array is ambiguous. Returning False, but in future this will result in an error. Use `array.size > 0` to check that an array is not empty.\n",
      "  if diff:\n",
      "/home/wangsun/anaconda3/lib/python3.5/site-packages/sklearn/preprocessing/label.py:151: DeprecationWarning: The truth value of an empty array is ambiguous. Returning False, but in future this will result in an error. Use `array.size > 0` to check that an array is not empty.\n",
      "  if diff:\n",
      "/home/wangsun/anaconda3/lib/python3.5/site-packages/sklearn/preprocessing/label.py:151: DeprecationWarning: The truth value of an empty array is ambiguous. Returning False, but in future this will result in an error. Use `array.size > 0` to check that an array is not empty.\n",
      "  if diff:\n"
     ]
    },
    {
     "name": "stdout",
     "output_type": "stream",
     "text": [
      "0.9753250775885473\n"
     ]
    },
    {
     "name": "stderr",
     "output_type": "stream",
     "text": [
      "/home/wangsun/anaconda3/lib/python3.5/site-packages/sklearn/preprocessing/label.py:151: DeprecationWarning: The truth value of an empty array is ambiguous. Returning False, but in future this will result in an error. Use `array.size > 0` to check that an array is not empty.\n",
      "  if diff:\n"
     ]
    }
   ],
   "source": [
    "clf_xgb = XGBClassifier(    \n",
    "                        n_estimators=500,\n",
    "                        max_depth=4,\n",
    "                        booster='gbtree',\n",
    "                        objective=\"binary:logistic\",\n",
    "                        learning_rate=.2, \n",
    "                        subsample=.8,\n",
    "                        colsample_bytree=1,\n",
    "                        colsample_bylevel=1,\n",
    "                        gamma=0,\n",
    "                        random_state=0\n",
    "                     )\n",
    "print (cross_val_score(clf_xgb, X_train, y_train, cv=5, scoring='f1').mean())\n",
    "print (cross_val_score(clf_xgb, X, y, cv=5, scoring='f1').mean())"
   ]
  },
  {
   "cell_type": "code",
   "execution_count": 24,
   "metadata": {
    "scrolled": true
   },
   "outputs": [
    {
     "name": "stdout",
     "output_type": "stream",
     "text": [
      "[0]\tvalidation_0-logloss:0.531966\n",
      "Will train until validation_0-logloss hasn't improved in 50 rounds.\n",
      "[1]\tvalidation_0-logloss:0.423995\n",
      "[2]\tvalidation_0-logloss:0.346683\n",
      "[3]\tvalidation_0-logloss:0.289713\n",
      "[4]\tvalidation_0-logloss:0.246416\n",
      "[5]\tvalidation_0-logloss:0.213085\n",
      "[6]\tvalidation_0-logloss:0.187241\n",
      "[7]\tvalidation_0-logloss:0.166972\n",
      "[8]\tvalidation_0-logloss:0.150982\n",
      "[9]\tvalidation_0-logloss:0.138248\n",
      "[10]\tvalidation_0-logloss:0.127881\n",
      "[11]\tvalidation_0-logloss:0.119555\n",
      "[12]\tvalidation_0-logloss:0.112934\n",
      "[13]\tvalidation_0-logloss:0.107539\n",
      "[14]\tvalidation_0-logloss:0.103228\n",
      "[15]\tvalidation_0-logloss:0.099596\n",
      "[16]\tvalidation_0-logloss:0.096725\n",
      "[17]\tvalidation_0-logloss:0.09433\n",
      "[18]\tvalidation_0-logloss:0.092427\n",
      "[19]\tvalidation_0-logloss:0.090796\n",
      "[20]\tvalidation_0-logloss:0.089465\n",
      "[21]\tvalidation_0-logloss:0.088102\n",
      "[22]\tvalidation_0-logloss:0.087161\n",
      "[23]\tvalidation_0-logloss:0.086252\n",
      "[24]\tvalidation_0-logloss:0.085604\n",
      "[25]\tvalidation_0-logloss:0.085008\n",
      "[26]\tvalidation_0-logloss:0.084497\n",
      "[27]\tvalidation_0-logloss:0.084051\n",
      "[28]\tvalidation_0-logloss:0.08369\n",
      "[29]\tvalidation_0-logloss:0.083401\n",
      "[30]\tvalidation_0-logloss:0.083141\n",
      "[31]\tvalidation_0-logloss:0.082914\n",
      "[32]\tvalidation_0-logloss:0.082672\n",
      "[33]\tvalidation_0-logloss:0.082504\n",
      "[34]\tvalidation_0-logloss:0.082278\n",
      "[35]\tvalidation_0-logloss:0.082096\n",
      "[36]\tvalidation_0-logloss:0.081991\n",
      "[37]\tvalidation_0-logloss:0.081894\n",
      "[38]\tvalidation_0-logloss:0.081766\n",
      "[39]\tvalidation_0-logloss:0.081697\n",
      "[40]\tvalidation_0-logloss:0.08159\n",
      "[41]\tvalidation_0-logloss:0.081428\n",
      "[42]\tvalidation_0-logloss:0.08137\n",
      "[43]\tvalidation_0-logloss:0.081237\n",
      "[44]\tvalidation_0-logloss:0.081102\n",
      "[45]\tvalidation_0-logloss:0.081073\n",
      "[46]\tvalidation_0-logloss:0.08093\n",
      "[47]\tvalidation_0-logloss:0.080904\n",
      "[48]\tvalidation_0-logloss:0.080865\n",
      "[49]\tvalidation_0-logloss:0.080822\n",
      "[50]\tvalidation_0-logloss:0.080688\n",
      "[51]\tvalidation_0-logloss:0.080606\n",
      "[52]\tvalidation_0-logloss:0.080525\n",
      "[53]\tvalidation_0-logloss:0.080497\n",
      "[54]\tvalidation_0-logloss:0.08048\n",
      "[55]\tvalidation_0-logloss:0.080464\n",
      "[56]\tvalidation_0-logloss:0.080406\n",
      "[57]\tvalidation_0-logloss:0.080404\n",
      "[58]\tvalidation_0-logloss:0.080342\n",
      "[59]\tvalidation_0-logloss:0.080331\n",
      "[60]\tvalidation_0-logloss:0.0803\n",
      "[61]\tvalidation_0-logloss:0.080238\n",
      "[62]\tvalidation_0-logloss:0.08023\n",
      "[63]\tvalidation_0-logloss:0.080213\n",
      "[64]\tvalidation_0-logloss:0.08021\n",
      "[65]\tvalidation_0-logloss:0.080206\n",
      "[66]\tvalidation_0-logloss:0.080152\n",
      "[67]\tvalidation_0-logloss:0.080112\n",
      "[68]\tvalidation_0-logloss:0.080052\n",
      "[69]\tvalidation_0-logloss:0.08005\n",
      "[70]\tvalidation_0-logloss:0.080027\n",
      "[71]\tvalidation_0-logloss:0.08002\n",
      "[72]\tvalidation_0-logloss:0.080005\n",
      "[73]\tvalidation_0-logloss:0.079988\n",
      "[74]\tvalidation_0-logloss:0.079972\n",
      "[75]\tvalidation_0-logloss:0.079945\n",
      "[76]\tvalidation_0-logloss:0.079944\n",
      "[77]\tvalidation_0-logloss:0.079921\n",
      "[78]\tvalidation_0-logloss:0.07991\n",
      "[79]\tvalidation_0-logloss:0.07991\n",
      "[80]\tvalidation_0-logloss:0.0799\n",
      "[81]\tvalidation_0-logloss:0.079858\n",
      "[82]\tvalidation_0-logloss:0.079836\n",
      "[83]\tvalidation_0-logloss:0.079837\n",
      "[84]\tvalidation_0-logloss:0.079813\n",
      "[85]\tvalidation_0-logloss:0.079814\n",
      "[86]\tvalidation_0-logloss:0.079814\n",
      "[87]\tvalidation_0-logloss:0.079815\n",
      "[88]\tvalidation_0-logloss:0.079804\n",
      "[89]\tvalidation_0-logloss:0.079805\n",
      "[90]\tvalidation_0-logloss:0.079813\n",
      "[91]\tvalidation_0-logloss:0.079803\n",
      "[92]\tvalidation_0-logloss:0.079799\n",
      "[93]\tvalidation_0-logloss:0.079793\n",
      "[94]\tvalidation_0-logloss:0.079797\n",
      "[95]\tvalidation_0-logloss:0.07979\n",
      "[96]\tvalidation_0-logloss:0.079778\n",
      "[97]\tvalidation_0-logloss:0.07978\n",
      "[98]\tvalidation_0-logloss:0.079784\n",
      "[99]\tvalidation_0-logloss:0.079779\n",
      "[100]\tvalidation_0-logloss:0.079767\n",
      "[101]\tvalidation_0-logloss:0.079773\n",
      "[102]\tvalidation_0-logloss:0.079767\n",
      "[103]\tvalidation_0-logloss:0.07977\n",
      "[104]\tvalidation_0-logloss:0.079759\n",
      "[105]\tvalidation_0-logloss:0.079758\n",
      "[106]\tvalidation_0-logloss:0.079752\n",
      "[107]\tvalidation_0-logloss:0.079721\n",
      "[108]\tvalidation_0-logloss:0.079711\n",
      "[109]\tvalidation_0-logloss:0.079708\n",
      "[110]\tvalidation_0-logloss:0.079671\n",
      "[111]\tvalidation_0-logloss:0.079671\n",
      "[112]\tvalidation_0-logloss:0.07967\n",
      "[113]\tvalidation_0-logloss:0.079671\n",
      "[114]\tvalidation_0-logloss:0.079666\n",
      "[115]\tvalidation_0-logloss:0.079672\n",
      "[116]\tvalidation_0-logloss:0.07967\n",
      "[117]\tvalidation_0-logloss:0.079668\n",
      "[118]\tvalidation_0-logloss:0.079666\n",
      "[119]\tvalidation_0-logloss:0.079649\n",
      "[120]\tvalidation_0-logloss:0.079647\n",
      "[121]\tvalidation_0-logloss:0.079653\n",
      "[122]\tvalidation_0-logloss:0.07965\n",
      "[123]\tvalidation_0-logloss:0.079651\n",
      "[124]\tvalidation_0-logloss:0.079651\n",
      "[125]\tvalidation_0-logloss:0.079648\n",
      "[126]\tvalidation_0-logloss:0.079643\n",
      "[127]\tvalidation_0-logloss:0.079644\n",
      "[128]\tvalidation_0-logloss:0.079652\n",
      "[129]\tvalidation_0-logloss:0.07965\n",
      "[130]\tvalidation_0-logloss:0.079641\n",
      "[131]\tvalidation_0-logloss:0.079638\n",
      "[132]\tvalidation_0-logloss:0.079644\n",
      "[133]\tvalidation_0-logloss:0.079635\n",
      "[134]\tvalidation_0-logloss:0.079604\n",
      "[135]\tvalidation_0-logloss:0.079605\n",
      "[136]\tvalidation_0-logloss:0.079608\n",
      "[137]\tvalidation_0-logloss:0.079612\n",
      "[138]\tvalidation_0-logloss:0.079607\n",
      "[139]\tvalidation_0-logloss:0.079609\n",
      "[140]\tvalidation_0-logloss:0.07961\n",
      "[141]\tvalidation_0-logloss:0.079611\n",
      "[142]\tvalidation_0-logloss:0.079609\n",
      "[143]\tvalidation_0-logloss:0.079607\n",
      "[144]\tvalidation_0-logloss:0.079606\n",
      "[145]\tvalidation_0-logloss:0.079609\n",
      "[146]\tvalidation_0-logloss:0.079603\n",
      "[147]\tvalidation_0-logloss:0.079607\n",
      "[148]\tvalidation_0-logloss:0.079604\n",
      "[149]\tvalidation_0-logloss:0.07961\n",
      "[150]\tvalidation_0-logloss:0.07962\n",
      "[151]\tvalidation_0-logloss:0.079632\n",
      "[152]\tvalidation_0-logloss:0.079638\n",
      "[153]\tvalidation_0-logloss:0.079629\n",
      "[154]\tvalidation_0-logloss:0.079633\n",
      "[155]\tvalidation_0-logloss:0.079633\n",
      "[156]\tvalidation_0-logloss:0.079639\n",
      "[157]\tvalidation_0-logloss:0.079643\n",
      "[158]\tvalidation_0-logloss:0.079647\n",
      "[159]\tvalidation_0-logloss:0.079655\n",
      "[160]\tvalidation_0-logloss:0.079656\n",
      "[161]\tvalidation_0-logloss:0.079641\n",
      "[162]\tvalidation_0-logloss:0.079657\n",
      "[163]\tvalidation_0-logloss:0.079656\n",
      "[164]\tvalidation_0-logloss:0.079654\n",
      "[165]\tvalidation_0-logloss:0.079649\n",
      "[166]\tvalidation_0-logloss:0.079648\n",
      "[167]\tvalidation_0-logloss:0.079653\n",
      "[168]\tvalidation_0-logloss:0.079657\n",
      "[169]\tvalidation_0-logloss:0.079664\n",
      "[170]\tvalidation_0-logloss:0.079673\n",
      "[171]\tvalidation_0-logloss:0.079663\n",
      "[172]\tvalidation_0-logloss:0.079665\n",
      "[173]\tvalidation_0-logloss:0.079667\n",
      "[174]\tvalidation_0-logloss:0.079672\n",
      "[175]\tvalidation_0-logloss:0.079673\n",
      "[176]\tvalidation_0-logloss:0.079677\n",
      "[177]\tvalidation_0-logloss:0.079675\n",
      "[178]\tvalidation_0-logloss:0.079673\n",
      "[179]\tvalidation_0-logloss:0.079677\n",
      "[180]\tvalidation_0-logloss:0.079675\n",
      "[181]\tvalidation_0-logloss:0.079679\n",
      "[182]\tvalidation_0-logloss:0.079673\n",
      "[183]\tvalidation_0-logloss:0.079673\n",
      "[184]\tvalidation_0-logloss:0.079671\n",
      "[185]\tvalidation_0-logloss:0.079667\n",
      "[186]\tvalidation_0-logloss:0.079663\n",
      "[187]\tvalidation_0-logloss:0.079668\n",
      "[188]\tvalidation_0-logloss:0.079672\n",
      "[189]\tvalidation_0-logloss:0.079677\n",
      "[190]\tvalidation_0-logloss:0.079677\n",
      "[191]\tvalidation_0-logloss:0.07968\n",
      "[192]\tvalidation_0-logloss:0.079682\n",
      "[193]\tvalidation_0-logloss:0.079676\n",
      "[194]\tvalidation_0-logloss:0.079678\n",
      "[195]\tvalidation_0-logloss:0.079683\n",
      "[196]\tvalidation_0-logloss:0.079682\n",
      "Stopping. Best iteration:\n",
      "[146]\tvalidation_0-logloss:0.079603\n",
      "\n"
     ]
    },
    {
     "name": "stderr",
     "output_type": "stream",
     "text": [
      "/home/wangsun/anaconda3/lib/python3.5/site-packages/sklearn/preprocessing/label.py:151: DeprecationWarning: The truth value of an empty array is ambiguous. Returning False, but in future this will result in an error. Use `array.size > 0` to check that an array is not empty.\n",
      "  if diff:\n"
     ]
    },
    {
     "data": {
      "text/plain": [
       "0.9757823039220848"
      ]
     },
     "execution_count": 24,
     "metadata": {},
     "output_type": "execute_result"
    }
   ],
   "source": [
    "clf_xgb = XGBClassifier(    \n",
    "                        n_estimators=300,\n",
    "                        max_depth=4,\n",
    "                        booster='gbtree',\n",
    "                        objective=\"binary:logistic\",\n",
    "                        learning_rate=.2, \n",
    "                        subsample=.8,\n",
    "                        colsample_bytree=1,\n",
    "                        colsample_bylevel=1,\n",
    "                        gamma=0,\n",
    "                        random_state=0\n",
    "                     )\n",
    "clf_xgb.fit(X_train, y_train, eval_metric='logloss', eval_set=[(X_valid,y_valid)], early_stopping_rounds=50)\n",
    "y_pred = clf_xgb.predict(X)\n",
    "f1_score(y,y_pred)"
   ]
  },
  {
   "cell_type": "code",
   "execution_count": 25,
   "metadata": {},
   "outputs": [
    {
     "name": "stderr",
     "output_type": "stream",
     "text": [
      "/home/wangsun/anaconda3/lib/python3.5/site-packages/sklearn/preprocessing/label.py:151: DeprecationWarning: The truth value of an empty array is ambiguous. Returning False, but in future this will result in an error. Use `array.size > 0` to check that an array is not empty.\n",
      "  if diff:\n"
     ]
    }
   ],
   "source": [
    "test1 = pd.read_csv('data/test_treated.csv')\n",
    "test2 = pd.read_csv('data/test_nx_ig_v2.csv')\n",
    "X_test = pd.concat([test1.loc[:,['title_overlap','year_diff','common_authors','sim','cn','aai']], test2.loc[:,['tgt_citation']]], axis=1)\n",
    "X_test = scaler.transform(X_test)\n",
    "\n",
    "y_test_pred = clf_xgb.predict(X_test)\n",
    "df = pd.DataFrame(y_test_pred, columns=['category'])\n",
    "df.index.name = 'id'\n",
    "df.to_csv('result/xgb_6new+tgt.csv', index=True, header=True)"
   ]
  },
  {
   "cell_type": "markdown",
   "metadata": {
    "collapsed": true
   },
   "source": [
    "### 6 new features + tgt citation + rai"
   ]
  },
  {
   "cell_type": "code",
   "execution_count": null,
   "metadata": {
    "collapsed": true
   },
   "outputs": [],
   "source": [
    "train1 = pd.read_csv('data/train_treated.csv')\n",
    "train2 = pd.read_csv('data/train_nx_ig_v2.csv')\n",
    "X = pd.concat([train1.loc[:,['title_overlap', 'year_diff','common_authors','sim','cn','aai']], train2.loc[:,['res_allo_ind','tgt_citation']]], axis=1)\n",
    "y = train1.loc[:,'link']\n",
    "scaler = MinMaxScaler()\n",
    "X = scaler.fit_transform(X)\n",
    "X, y = shuffle(X, y, random_state=0)\n",
    "X_train, X_valid, y_train, y_valid = train_test_split(X, y, test_size=0.3, random_state=0, shuffle=True)"
   ]
  },
  {
   "cell_type": "code",
   "execution_count": null,
   "metadata": {
    "scrolled": true
   },
   "outputs": [
    {
     "name": "stderr",
     "output_type": "stream",
     "text": [
      "/home/wangsun/anaconda3/lib/python3.5/site-packages/sklearn/preprocessing/label.py:151: DeprecationWarning: The truth value of an empty array is ambiguous. Returning False, but in future this will result in an error. Use `array.size > 0` to check that an array is not empty.\n",
      "  if diff:\n",
      "/home/wangsun/anaconda3/lib/python3.5/site-packages/sklearn/preprocessing/label.py:151: DeprecationWarning: The truth value of an empty array is ambiguous. Returning False, but in future this will result in an error. Use `array.size > 0` to check that an array is not empty.\n",
      "  if diff:\n",
      "/home/wangsun/anaconda3/lib/python3.5/site-packages/sklearn/preprocessing/label.py:151: DeprecationWarning: The truth value of an empty array is ambiguous. Returning False, but in future this will result in an error. Use `array.size > 0` to check that an array is not empty.\n",
      "  if diff:\n",
      "/home/wangsun/anaconda3/lib/python3.5/site-packages/sklearn/preprocessing/label.py:151: DeprecationWarning: The truth value of an empty array is ambiguous. Returning False, but in future this will result in an error. Use `array.size > 0` to check that an array is not empty.\n",
      "  if diff:\n",
      "/home/wangsun/anaconda3/lib/python3.5/site-packages/sklearn/preprocessing/label.py:151: DeprecationWarning: The truth value of an empty array is ambiguous. Returning False, but in future this will result in an error. Use `array.size > 0` to check that an array is not empty.\n",
      "  if diff:\n"
     ]
    },
    {
     "name": "stdout",
     "output_type": "stream",
     "text": [
      "0.9751800782293341\n"
     ]
    },
    {
     "name": "stderr",
     "output_type": "stream",
     "text": [
      "/home/wangsun/anaconda3/lib/python3.5/site-packages/sklearn/preprocessing/label.py:151: DeprecationWarning: The truth value of an empty array is ambiguous. Returning False, but in future this will result in an error. Use `array.size > 0` to check that an array is not empty.\n",
      "  if diff:\n"
     ]
    }
   ],
   "source": [
    "clf_xgb = XGBClassifier(    \n",
    "                        n_estimators=500,\n",
    "                        max_depth=4,\n",
    "                        booster='gbtree',\n",
    "                        objective=\"binary:logistic\",\n",
    "                        learning_rate=.2, \n",
    "                        subsample=.8,\n",
    "                        colsample_bytree=1,\n",
    "                        colsample_bylevel=1,\n",
    "                        gamma=0,\n",
    "                        random_state=0\n",
    "                     )\n",
    "print (cross_val_score(clf_xgb, X_train, y_train, cv=5, scoring='f1').mean())\n",
    "print (cross_val_score(clf_xgb, X, y, cv=5, scoring='f1').mean())"
   ]
  },
  {
   "cell_type": "code",
   "execution_count": null,
   "metadata": {
    "collapsed": true
   },
   "outputs": [],
   "source": [
    "params_range = {'n_estimators':[100,200,300,400,500,600], 'max_depth':[3,4], 'learning_rate':[0.1,0.2,0.3,0.4], 'subsample':[0.6,0.7,0.8,0.9,1]}\n",
    "clf_xgb = XGBClassifier(booster='gbtree',objective=\"binary:logistic\",random_state=0)\n",
    "clf = GridSearchCV(clf_xgb, param_grid=params_range, scoring='f1',cv=5)\n",
    "clf.fit(X,y)"
   ]
  },
  {
   "cell_type": "code",
   "execution_count": null,
   "metadata": {
    "collapsed": true
   },
   "outputs": [],
   "source": []
  },
  {
   "cell_type": "code",
   "execution_count": null,
   "metadata": {
    "collapsed": true
   },
   "outputs": [],
   "source": []
  },
  {
   "cell_type": "code",
   "execution_count": null,
   "metadata": {
    "collapsed": true
   },
   "outputs": [],
   "source": []
  },
  {
   "cell_type": "code",
   "execution_count": null,
   "metadata": {
    "collapsed": true
   },
   "outputs": [],
   "source": []
  },
  {
   "cell_type": "code",
   "execution_count": null,
   "metadata": {
    "collapsed": true
   },
   "outputs": [],
   "source": []
  },
  {
   "cell_type": "code",
   "execution_count": null,
   "metadata": {
    "collapsed": true
   },
   "outputs": [],
   "source": []
  },
  {
   "cell_type": "code",
   "execution_count": null,
   "metadata": {
    "collapsed": true
   },
   "outputs": [],
   "source": []
  },
  {
   "cell_type": "code",
   "execution_count": null,
   "metadata": {
    "collapsed": true
   },
   "outputs": [],
   "source": []
  },
  {
   "cell_type": "code",
   "execution_count": null,
   "metadata": {
    "collapsed": true
   },
   "outputs": [],
   "source": []
  },
  {
   "cell_type": "code",
   "execution_count": null,
   "metadata": {
    "collapsed": true
   },
   "outputs": [],
   "source": []
  },
  {
   "cell_type": "code",
   "execution_count": null,
   "metadata": {
    "collapsed": true
   },
   "outputs": [],
   "source": []
  },
  {
   "cell_type": "code",
   "execution_count": null,
   "metadata": {
    "collapsed": true
   },
   "outputs": [],
   "source": []
  },
  {
   "cell_type": "code",
   "execution_count": null,
   "metadata": {
    "collapsed": true
   },
   "outputs": [],
   "source": []
  }
 ],
 "metadata": {
  "anaconda-cloud": {},
  "kernelspec": {
   "display_name": "Python [default]",
   "language": "python",
   "name": "python3"
  },
  "language_info": {
   "codemirror_mode": {
    "name": "ipython",
    "version": 3
   },
   "file_extension": ".py",
   "mimetype": "text/x-python",
   "name": "python",
   "nbconvert_exporter": "python",
   "pygments_lexer": "ipython3",
   "version": "3.5.4"
  }
 },
 "nbformat": 4,
 "nbformat_minor": 2
}
