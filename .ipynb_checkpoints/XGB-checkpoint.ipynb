{
 "cells": [
  {
   "cell_type": "code",
   "execution_count": 17,
   "metadata": {
    "collapsed": true
   },
   "outputs": [],
   "source": [
    "import pandas as pd\n",
    "import numpy as np\n",
    "import matplotlib.pyplot as plt\n",
    "\n",
    "from sklearn.model_selection import cross_val_score, train_test_split\n",
    "from sklearn.preprocessing import PolynomialFeatures, MinMaxScaler\n",
    "from sklearn.metrics import f1_score\n",
    "from xgboost import XGBClassifier"
   ]
  },
  {
   "cell_type": "markdown",
   "metadata": {},
   "source": [
    "### Prepare data"
   ]
  },
  {
   "cell_type": "code",
   "execution_count": 14,
   "metadata": {
    "collapsed": true
   },
   "outputs": [],
   "source": [
    "train_set = pd.read_csv('data/train_nx_ig_v3.csv')\n",
    "X = train_set.iloc[:,2:-1]\n",
    "y = train_set.iloc[:,-1]"
   ]
  },
  {
   "cell_type": "markdown",
   "metadata": {},
   "source": [
    "### CV"
   ]
  },
  {
   "cell_type": "code",
   "execution_count": 15,
   "metadata": {
    "collapsed": true
   },
   "outputs": [],
   "source": [
    "X_train, X_valid, y_train, y_valid = train_test_split(X, y, test_size=0.3, random_state=0, shuffle=True)"
   ]
  },
  {
   "cell_type": "code",
   "execution_count": 19,
   "metadata": {},
   "outputs": [
    {
     "name": "stderr",
     "output_type": "stream",
     "text": [
      "/home/wangsun/anaconda3/lib/python3.5/site-packages/sklearn/preprocessing/label.py:151: DeprecationWarning: The truth value of an empty array is ambiguous. Returning False, but in future this will result in an error. Use `array.size > 0` to check that an array is not empty.\n",
      "  if diff:\n",
      "/home/wangsun/anaconda3/lib/python3.5/site-packages/sklearn/preprocessing/label.py:151: DeprecationWarning: The truth value of an empty array is ambiguous. Returning False, but in future this will result in an error. Use `array.size > 0` to check that an array is not empty.\n",
      "  if diff:\n",
      "/home/wangsun/anaconda3/lib/python3.5/site-packages/sklearn/preprocessing/label.py:151: DeprecationWarning: The truth value of an empty array is ambiguous. Returning False, but in future this will result in an error. Use `array.size > 0` to check that an array is not empty.\n",
      "  if diff:\n",
      "/home/wangsun/anaconda3/lib/python3.5/site-packages/sklearn/preprocessing/label.py:151: DeprecationWarning: The truth value of an empty array is ambiguous. Returning False, but in future this will result in an error. Use `array.size > 0` to check that an array is not empty.\n",
      "  if diff:\n",
      "/home/wangsun/anaconda3/lib/python3.5/site-packages/sklearn/preprocessing/label.py:151: DeprecationWarning: The truth value of an empty array is ambiguous. Returning False, but in future this will result in an error. Use `array.size > 0` to check that an array is not empty.\n",
      "  if diff:\n"
     ]
    },
    {
     "data": {
      "text/plain": [
       "0.99532123013673"
      ]
     },
     "execution_count": 19,
     "metadata": {},
     "output_type": "execute_result"
    }
   ],
   "source": [
    "clf_xgb = XGBClassifier(    \n",
    "                        n_estimators=200,\n",
    "                        max_depth=3,\n",
    "                        objective=\"binary:logistic\",\n",
    "                        learning_rate=.3, \n",
    "                        subsample=.8,\n",
    "                        min_child_weight=6,\n",
    "                        colsample_bytree=.8,\n",
    "                        scale_pos_weight=1.6,\n",
    "                        gamma=5,\n",
    "                        reg_alpha=2,\n",
    "                        reg_lambda=500,\n",
    "                     )\n",
    "np.mean(cross_val_score(clf_xgb, X_train, y_train, cv=5, scoring='f1'))"
   ]
  },
  {
   "cell_type": "code",
   "execution_count": 20,
   "metadata": {
    "scrolled": true
   },
   "outputs": [
    {
     "name": "stdout",
     "output_type": "stream",
     "text": [
      "[0]\tvalidation_0-logloss:0.471532\n",
      "Will train until validation_0-logloss hasn't improved in 5 rounds.\n",
      "[1]\tvalidation_0-logloss:0.326991\n",
      "[2]\tvalidation_0-logloss:0.237644\n",
      "[3]\tvalidation_0-logloss:0.187202\n",
      "[4]\tvalidation_0-logloss:0.152868\n",
      "[5]\tvalidation_0-logloss:0.128762\n",
      "[6]\tvalidation_0-logloss:0.101147\n",
      "[7]\tvalidation_0-logloss:0.082165\n",
      "[8]\tvalidation_0-logloss:0.067896\n",
      "[9]\tvalidation_0-logloss:0.058138\n",
      "[10]\tvalidation_0-logloss:0.05059\n",
      "[11]\tvalidation_0-logloss:0.045376\n",
      "[12]\tvalidation_0-logloss:0.041136\n",
      "[13]\tvalidation_0-logloss:0.039062\n",
      "[14]\tvalidation_0-logloss:0.03721\n",
      "[15]\tvalidation_0-logloss:0.03402\n",
      "[16]\tvalidation_0-logloss:0.031813\n",
      "[17]\tvalidation_0-logloss:0.031123\n",
      "[18]\tvalidation_0-logloss:0.029569\n",
      "[19]\tvalidation_0-logloss:0.029001\n",
      "[20]\tvalidation_0-logloss:0.027655\n",
      "[21]\tvalidation_0-logloss:0.026595\n",
      "[22]\tvalidation_0-logloss:0.025749\n",
      "[23]\tvalidation_0-logloss:0.024974\n",
      "[24]\tvalidation_0-logloss:0.024335\n",
      "[25]\tvalidation_0-logloss:0.02364\n",
      "[26]\tvalidation_0-logloss:0.023218\n",
      "[27]\tvalidation_0-logloss:0.02303\n",
      "[28]\tvalidation_0-logloss:0.02254\n",
      "[29]\tvalidation_0-logloss:0.022425\n",
      "[30]\tvalidation_0-logloss:0.022261\n",
      "[31]\tvalidation_0-logloss:0.022028\n",
      "[32]\tvalidation_0-logloss:0.021717\n",
      "[33]\tvalidation_0-logloss:0.021572\n",
      "[34]\tvalidation_0-logloss:0.021391\n",
      "[35]\tvalidation_0-logloss:0.021153\n",
      "[36]\tvalidation_0-logloss:0.021119\n",
      "[37]\tvalidation_0-logloss:0.021031\n",
      "[38]\tvalidation_0-logloss:0.02095\n",
      "[39]\tvalidation_0-logloss:0.020683\n",
      "[40]\tvalidation_0-logloss:0.020461\n",
      "[41]\tvalidation_0-logloss:0.020423\n",
      "[42]\tvalidation_0-logloss:0.020281\n",
      "[43]\tvalidation_0-logloss:0.020108\n",
      "[44]\tvalidation_0-logloss:0.019958\n",
      "[45]\tvalidation_0-logloss:0.019931\n",
      "[46]\tvalidation_0-logloss:0.019787\n",
      "[47]\tvalidation_0-logloss:0.01976\n",
      "[48]\tvalidation_0-logloss:0.019655\n",
      "[49]\tvalidation_0-logloss:0.019559\n",
      "[50]\tvalidation_0-logloss:0.01957\n",
      "[51]\tvalidation_0-logloss:0.019533\n",
      "[52]\tvalidation_0-logloss:0.019447\n",
      "[53]\tvalidation_0-logloss:0.019461\n",
      "[54]\tvalidation_0-logloss:0.019391\n",
      "[55]\tvalidation_0-logloss:0.019297\n",
      "[56]\tvalidation_0-logloss:0.019277\n",
      "[57]\tvalidation_0-logloss:0.019192\n",
      "[58]\tvalidation_0-logloss:0.019119\n",
      "[59]\tvalidation_0-logloss:0.019057\n",
      "[60]\tvalidation_0-logloss:0.019023\n",
      "[61]\tvalidation_0-logloss:0.018995\n",
      "[62]\tvalidation_0-logloss:0.018915\n",
      "[63]\tvalidation_0-logloss:0.018895\n",
      "[64]\tvalidation_0-logloss:0.018916\n",
      "[65]\tvalidation_0-logloss:0.018851\n",
      "[66]\tvalidation_0-logloss:0.018872\n",
      "[67]\tvalidation_0-logloss:0.018867\n",
      "[68]\tvalidation_0-logloss:0.0188\n",
      "[69]\tvalidation_0-logloss:0.018817\n",
      "[70]\tvalidation_0-logloss:0.01878\n",
      "[71]\tvalidation_0-logloss:0.018798\n",
      "[72]\tvalidation_0-logloss:0.018694\n",
      "[73]\tvalidation_0-logloss:0.018608\n",
      "[74]\tvalidation_0-logloss:0.018601\n",
      "[75]\tvalidation_0-logloss:0.018555\n",
      "[76]\tvalidation_0-logloss:0.018543\n",
      "[77]\tvalidation_0-logloss:0.018529\n",
      "[78]\tvalidation_0-logloss:0.018551\n",
      "[79]\tvalidation_0-logloss:0.018511\n",
      "[80]\tvalidation_0-logloss:0.018489\n",
      "[81]\tvalidation_0-logloss:0.018467\n",
      "[82]\tvalidation_0-logloss:0.018448\n",
      "[83]\tvalidation_0-logloss:0.018409\n",
      "[84]\tvalidation_0-logloss:0.018373\n",
      "[85]\tvalidation_0-logloss:0.018386\n",
      "[86]\tvalidation_0-logloss:0.018335\n",
      "[87]\tvalidation_0-logloss:0.018312\n",
      "[88]\tvalidation_0-logloss:0.018329\n",
      "[89]\tvalidation_0-logloss:0.018272\n",
      "[90]\tvalidation_0-logloss:0.018253\n",
      "[91]\tvalidation_0-logloss:0.018245\n",
      "[92]\tvalidation_0-logloss:0.018218\n",
      "[93]\tvalidation_0-logloss:0.018207\n",
      "[94]\tvalidation_0-logloss:0.018231\n",
      "[95]\tvalidation_0-logloss:0.018192\n",
      "[96]\tvalidation_0-logloss:0.01816\n",
      "[97]\tvalidation_0-logloss:0.018176\n",
      "[98]\tvalidation_0-logloss:0.018187\n",
      "[99]\tvalidation_0-logloss:0.018187\n",
      "[100]\tvalidation_0-logloss:0.018165\n",
      "[101]\tvalidation_0-logloss:0.018162\n",
      "Stopping. Best iteration:\n",
      "[96]\tvalidation_0-logloss:0.01816\n",
      "\n"
     ]
    },
    {
     "data": {
      "text/plain": [
       "XGBClassifier(base_score=0.5, booster='gbtree', colsample_bylevel=1,\n",
       "       colsample_bytree=0.8, gamma=5, learning_rate=0.3, max_delta_step=0,\n",
       "       max_depth=3, min_child_weight=6, missing=None, n_estimators=200,\n",
       "       n_jobs=1, nthread=None, objective='binary:logistic', random_state=0,\n",
       "       reg_alpha=2, reg_lambda=500, scale_pos_weight=1.6, seed=None,\n",
       "       silent=True, subsample=0.8)"
      ]
     },
     "execution_count": 20,
     "metadata": {},
     "output_type": "execute_result"
    }
   ],
   "source": [
    "clf_xgb.fit(X_train, y_train, eval_metric='logloss', eval_set=[(X_valid,y_valid)], early_stopping_rounds=5)"
   ]
  },
  {
   "cell_type": "markdown",
   "metadata": {},
   "source": [
    "### Train, predict and output"
   ]
  },
  {
   "cell_type": "code",
   "execution_count": 21,
   "metadata": {},
   "outputs": [
    {
     "name": "stderr",
     "output_type": "stream",
     "text": [
      "/home/wangsun/anaconda3/lib/python3.5/site-packages/sklearn/preprocessing/label.py:151: DeprecationWarning: The truth value of an empty array is ambiguous. Returning False, but in future this will result in an error. Use `array.size > 0` to check that an array is not empty.\n",
      "  if diff:\n"
     ]
    }
   ],
   "source": [
    "test_set = pd.read_csv('data/test_nx_ig_v3.csv')\n",
    "X_test = test_set.iloc[:,2:]\n",
    "y_test = clf_xgb.predict(X_test)"
   ]
  },
  {
   "cell_type": "code",
   "execution_count": 5,
   "metadata": {},
   "outputs": [
    {
     "data": {
      "text/plain": [
       "XGBClassifier(base_score=0.5, booster='gbtree', colsample_bylevel=1,\n",
       "       colsample_bytree=0.8, gamma=10, learning_rate=0.5, max_delta_step=0,\n",
       "       max_depth=6, min_child_weight=6, missing=None, n_estimators=50,\n",
       "       n_jobs=1, nthread=None, objective='binary:logistic', random_state=0,\n",
       "       reg_alpha=8, reg_lambda=1.3, scale_pos_weight=1.6, seed=None,\n",
       "       silent=True, subsample=0.8)"
      ]
     },
     "execution_count": 5,
     "metadata": {},
     "output_type": "execute_result"
    }
   ],
   "source": [
    "clf_xgb = XGBClassifier(    \n",
    "                        n_estimators=50,\n",
    "                        max_depth=6,\n",
    "                        objective=\"binary:logistic\",\n",
    "                        learning_rate=.5, \n",
    "                        subsample=.8,\n",
    "                        min_child_weight=6,\n",
    "                        colsample_bytree=.8,\n",
    "                        scale_pos_weight=1.6,\n",
    "                        gamma=10,\n",
    "                        reg_alpha=8,\n",
    "                        reg_lambda=1.3,\n",
    "                     )"
   ]
  },
  {
   "cell_type": "code",
   "execution_count": 22,
   "metadata": {
    "collapsed": true
   },
   "outputs": [],
   "source": [
    "df = pd.DataFrame(y_test, columns=['category'])\n",
    "df.index.name = 'id'\n",
    "df.to_csv('result/xgb3.csv', index=True, header=True)"
   ]
  },
  {
   "cell_type": "code",
   "execution_count": null,
   "metadata": {
    "collapsed": true
   },
   "outputs": [],
   "source": []
  }
 ],
 "metadata": {
  "anaconda-cloud": {},
  "kernelspec": {
   "display_name": "Python [default]",
   "language": "python",
   "name": "python3"
  },
  "language_info": {
   "codemirror_mode": {
    "name": "ipython",
    "version": 3
   },
   "file_extension": ".py",
   "mimetype": "text/x-python",
   "name": "python",
   "nbconvert_exporter": "python",
   "pygments_lexer": "ipython3",
   "version": "3.5.4"
  }
 },
 "nbformat": 4,
 "nbformat_minor": 2
}
