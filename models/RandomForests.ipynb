{
 "cells": [
  {
   "cell_type": "code",
   "execution_count": 1,
   "metadata": {
    "collapsed": true
   },
   "outputs": [],
   "source": [
    "import pandas as pd\n",
    "import numpy as np\n",
    "\n",
    "from sklearn.model_selection import cross_val_score, GridSearchCV\n",
    "from sklearn.utils import shuffle\n",
    "from sklearn.preprocessing import PolynomialFeatures, MinMaxScaler\n",
    "from sklearn.ensemble import RandomForestClassifier, RandomForestRegressor"
   ]
  },
  {
   "cell_type": "markdown",
   "metadata": {},
   "source": [
    "### CV for old features"
   ]
  },
  {
   "cell_type": "code",
   "execution_count": 13,
   "metadata": {
    "collapsed": true
   },
   "outputs": [],
   "source": [
    "train_set = pd.read_csv('data/train_nx_ig_v3.csv')\n",
    "X_train = train_set.iloc[:,2:-1]\n",
    "y_train = train_set.iloc[:,-1]"
   ]
  },
  {
   "cell_type": "code",
   "execution_count": 14,
   "metadata": {
    "collapsed": true
   },
   "outputs": [],
   "source": [
    "X_train, y_train = shuffle(X_train, y_train, random_state=0)"
   ]
  },
  {
   "cell_type": "code",
   "execution_count": 16,
   "metadata": {
    "collapsed": true
   },
   "outputs": [],
   "source": [
    "clf_rf = RandomForestClassifier(n_estimators=50, max_depth=4, min_samples_split=60, min_samples_leaf=50, n_jobs=1)"
   ]
  },
  {
   "cell_type": "code",
   "execution_count": 17,
   "metadata": {},
   "outputs": [
    {
     "data": {
      "text/plain": [
       "0.9908574147073501"
      ]
     },
     "execution_count": 17,
     "metadata": {},
     "output_type": "execute_result"
    }
   ],
   "source": [
    "np.mean(cross_val_score(clf_rf, X_train, y_train, cv=5, scoring='f1'))"
   ]
  },
  {
   "cell_type": "code",
   "execution_count": 19,
   "metadata": {
    "collapsed": true
   },
   "outputs": [],
   "source": [
    "clf_rf = RandomForestClassifier(n_estimators=300, max_depth=3, min_samples_split=600, min_samples_leaf=300, n_jobs=1)"
   ]
  },
  {
   "cell_type": "code",
   "execution_count": 20,
   "metadata": {},
   "outputs": [
    {
     "data": {
      "text/plain": [
       "0.9896621490344097"
      ]
     },
     "execution_count": 20,
     "metadata": {},
     "output_type": "execute_result"
    }
   ],
   "source": [
    "np.mean(cross_val_score(clf_rf, X_train, y_train, cv=5, scoring='f1'))"
   ]
  },
  {
   "cell_type": "markdown",
   "metadata": {},
   "source": [
    "These results are overfitting."
   ]
  },
  {
   "cell_type": "code",
   "execution_count": 23,
   "metadata": {
    "scrolled": true
   },
   "outputs": [
    {
     "data": {
      "text/plain": [
       "RandomForestRegressor(bootstrap=True, criterion='mse', max_depth=3,\n",
       "           max_features='auto', max_leaf_nodes=None,\n",
       "           min_impurity_decrease=0.0, min_impurity_split=None,\n",
       "           min_samples_leaf=400, min_samples_split=600,\n",
       "           min_weight_fraction_leaf=0.0, n_estimators=300, n_jobs=1,\n",
       "           oob_score=False, random_state=None, verbose=0, warm_start=False)"
      ]
     },
     "execution_count": 23,
     "metadata": {},
     "output_type": "execute_result"
    }
   ],
   "source": [
    "reg_rf = RandomForestRegressor(n_estimators=300, max_depth=3, min_samples_split=600, min_samples_leaf=400, n_jobs=1)\n",
    "reg_rf.fit(X_train, y_train)"
   ]
  },
  {
   "cell_type": "code",
   "execution_count": 24,
   "metadata": {
    "collapsed": true
   },
   "outputs": [],
   "source": [
    "y_pred_train = reg_rf.predict(X_train)"
   ]
  },
  {
   "cell_type": "code",
   "execution_count": 25,
   "metadata": {},
   "outputs": [
    {
     "data": {
      "text/plain": [
       "array([[1.        , 0.99543574],\n",
       "       [1.        , 0.99543574],\n",
       "       [1.        , 0.99543574],\n",
       "       [1.        , 0.99543574],\n",
       "       [1.        , 0.99543574],\n",
       "       [1.        , 0.99543574],\n",
       "       [1.        , 0.99543574],\n",
       "       [1.        , 0.99543574],\n",
       "       [1.        , 0.99543574],\n",
       "       [1.        , 0.99543574]])"
      ]
     },
     "execution_count": 25,
     "metadata": {},
     "output_type": "execute_result"
    }
   ],
   "source": [
    "reg_train = np.zeros((len(y_train), 2))\n",
    "reg_train[:, 0] = np.array(y_train)\n",
    "reg_train[:, 1] = y_pred_train\n",
    "indice = np.argsort(reg_train[:,1])[::-1]\n",
    "reg_train = reg_train[indice]\n",
    "reg_train[:10]"
   ]
  },
  {
   "cell_type": "code",
   "execution_count": 26,
   "metadata": {},
   "outputs": [
    {
     "data": {
      "text/plain": [
       "(0.981732816413192,\n",
       " 0.9989108704084982,\n",
       " 0.9902473510776129,\n",
       " 0.24184651587323322)"
      ]
     },
     "execution_count": 26,
     "metadata": {},
     "output_type": "execute_result"
    }
   ],
   "source": [
    "p_best, r_best, f1_best, ts = 0, 0, 0, 0\n",
    "num_ones = sum(y_train)\n",
    "tp = 0\n",
    "for idx, row in enumerate(reg_train):\n",
    "    if row[0] == 1:\n",
    "        tp += 1\n",
    "    p = tp / (idx + 1)\n",
    "    r = tp / num_ones\n",
    "    f1 = 2 * p * r / (p + r)\n",
    "    if f1 > f1_best:\n",
    "        p_best, r_best, f1_best = p, r, f1\n",
    "        ts = row[1]\n",
    "p_best, r_best, f1_best, ts"
   ]
  },
  {
   "cell_type": "code",
   "execution_count": 27,
   "metadata": {},
   "outputs": [
    {
     "data": {
      "text/plain": [
       "array([0, 1, 1, ..., 0, 0, 1])"
      ]
     },
     "execution_count": 27,
     "metadata": {},
     "output_type": "execute_result"
    }
   ],
   "source": [
    "y_test_pred = reg_rf.predict(X_test)\n",
    "y_test_pred = y_test_pred > ts\n",
    "y_test_pred = y_test_pred.astype(int)\n",
    "y_test_pred"
   ]
  },
  {
   "cell_type": "markdown",
   "metadata": {},
   "source": [
    "### Train, predict and output"
   ]
  },
  {
   "cell_type": "code",
   "execution_count": 15,
   "metadata": {
    "collapsed": true
   },
   "outputs": [],
   "source": [
    "test_set = pd.read_csv('data/test_nx_ig_v3.csv')\n",
    "X_test = test_set.iloc[:,2:]"
   ]
  },
  {
   "cell_type": "code",
   "execution_count": 8,
   "metadata": {},
   "outputs": [
    {
     "data": {
      "text/plain": [
       "RandomForestClassifier(bootstrap=True, class_weight=None, criterion='gini',\n",
       "            max_depth=6, max_features='auto', max_leaf_nodes=None,\n",
       "            min_impurity_decrease=0.0, min_impurity_split=None,\n",
       "            min_samples_leaf=10, min_samples_split=30,\n",
       "            min_weight_fraction_leaf=0.0, n_estimators=15, n_jobs=1,\n",
       "            oob_score=False, random_state=None, verbose=0,\n",
       "            warm_start=False)"
      ]
     },
     "execution_count": 8,
     "metadata": {},
     "output_type": "execute_result"
    }
   ],
   "source": [
    "clf_rf = RandomForestClassifier(n_estimators=100, max_depth=6, min_samples_split=30, min_samples_leaf=10, n_jobs=1)\n",
    "# clf_rf.fit(X_train, y_train)"
   ]
  },
  {
   "cell_type": "code",
   "execution_count": null,
   "metadata": {
    "collapsed": true
   },
   "outputs": [],
   "source": [
    "# y_test = clf_rf.predict(X_test)"
   ]
  },
  {
   "cell_type": "code",
   "execution_count": 28,
   "metadata": {
    "collapsed": true
   },
   "outputs": [],
   "source": [
    "df = pd.DataFrame(y_test_pred, columns=['category'])\n",
    "df.index.name = 'id'\n",
    "df.to_csv('result/rf_reg3.csv', index=True, header=True)"
   ]
  },
  {
   "cell_type": "markdown",
   "metadata": {
    "collapsed": true
   },
   "source": [
    "### with new features of Shiwen"
   ]
  },
  {
   "cell_type": "code",
   "execution_count": 22,
   "metadata": {},
   "outputs": [
    {
     "data": {
      "text/html": [
       "<div>\n",
       "<style>\n",
       "    .dataframe thead tr:only-child th {\n",
       "        text-align: right;\n",
       "    }\n",
       "\n",
       "    .dataframe thead th {\n",
       "        text-align: left;\n",
       "    }\n",
       "\n",
       "    .dataframe tbody tr th {\n",
       "        vertical-align: top;\n",
       "    }\n",
       "</style>\n",
       "<table border=\"1\" class=\"dataframe\">\n",
       "  <thead>\n",
       "    <tr style=\"text-align: right;\">\n",
       "      <th></th>\n",
       "      <th>id1</th>\n",
       "      <th>id2</th>\n",
       "      <th>link</th>\n",
       "      <th>rno1</th>\n",
       "      <th>rno2</th>\n",
       "      <th>sim</th>\n",
       "      <th>year1</th>\n",
       "      <th>year2</th>\n",
       "      <th>year_diff</th>\n",
       "      <th>common_authors</th>\n",
       "      <th>cn</th>\n",
       "      <th>aai</th>\n",
       "      <th>title_overlap</th>\n",
       "    </tr>\n",
       "  </thead>\n",
       "  <tbody>\n",
       "    <tr>\n",
       "      <th>0</th>\n",
       "      <td>9510123</td>\n",
       "      <td>9502114</td>\n",
       "      <td>1</td>\n",
       "      <td>16827</td>\n",
       "      <td>15446</td>\n",
       "      <td>0.064373</td>\n",
       "      <td>1995</td>\n",
       "      <td>1995</td>\n",
       "      <td>0</td>\n",
       "      <td>0</td>\n",
       "      <td>1</td>\n",
       "      <td>0.513898</td>\n",
       "      <td>2</td>\n",
       "    </tr>\n",
       "    <tr>\n",
       "      <th>1</th>\n",
       "      <td>9707075</td>\n",
       "      <td>9604178</td>\n",
       "      <td>1</td>\n",
       "      <td>21154</td>\n",
       "      <td>18059</td>\n",
       "      <td>0.021211</td>\n",
       "      <td>1997</td>\n",
       "      <td>1996</td>\n",
       "      <td>1</td>\n",
       "      <td>0</td>\n",
       "      <td>20</td>\n",
       "      <td>4.320366</td>\n",
       "      <td>1</td>\n",
       "    </tr>\n",
       "    <tr>\n",
       "      <th>2</th>\n",
       "      <td>9312155</td>\n",
       "      <td>9506142</td>\n",
       "      <td>0</td>\n",
       "      <td>13074</td>\n",
       "      <td>16171</td>\n",
       "      <td>0.017202</td>\n",
       "      <td>1993</td>\n",
       "      <td>1995</td>\n",
       "      <td>-2</td>\n",
       "      <td>0</td>\n",
       "      <td>0</td>\n",
       "      <td>0.000000</td>\n",
       "      <td>0</td>\n",
       "    </tr>\n",
       "    <tr>\n",
       "      <th>3</th>\n",
       "      <td>9911255</td>\n",
       "      <td>302165</td>\n",
       "      <td>0</td>\n",
       "      <td>27486</td>\n",
       "      <td>9702</td>\n",
       "      <td>0.012634</td>\n",
       "      <td>1999</td>\n",
       "      <td>2003</td>\n",
       "      <td>-4</td>\n",
       "      <td>0</td>\n",
       "      <td>0</td>\n",
       "      <td>0.000000</td>\n",
       "      <td>0</td>\n",
       "    </tr>\n",
       "    <tr>\n",
       "      <th>4</th>\n",
       "      <td>9701033</td>\n",
       "      <td>209076</td>\n",
       "      <td>0</td>\n",
       "      <td>19856</td>\n",
       "      <td>8212</td>\n",
       "      <td>0.059588</td>\n",
       "      <td>1997</td>\n",
       "      <td>2002</td>\n",
       "      <td>-5</td>\n",
       "      <td>0</td>\n",
       "      <td>0</td>\n",
       "      <td>0.000000</td>\n",
       "      <td>0</td>\n",
       "    </tr>\n",
       "  </tbody>\n",
       "</table>\n",
       "</div>"
      ],
      "text/plain": [
       "       id1      id2  link   rno1   rno2       sim  year1  year2  year_diff  \\\n",
       "0  9510123  9502114     1  16827  15446  0.064373   1995   1995          0   \n",
       "1  9707075  9604178     1  21154  18059  0.021211   1997   1996          1   \n",
       "2  9312155  9506142     0  13074  16171  0.017202   1993   1995         -2   \n",
       "3  9911255   302165     0  27486   9702  0.012634   1999   2003         -4   \n",
       "4  9701033   209076     0  19856   8212  0.059588   1997   2002         -5   \n",
       "\n",
       "   common_authors  cn       aai  title_overlap  \n",
       "0               0   1  0.513898              2  \n",
       "1               0  20  4.320366              1  \n",
       "2               0   0  0.000000              0  \n",
       "3               0   0  0.000000              0  \n",
       "4               0   0  0.000000              0  "
      ]
     },
     "execution_count": 22,
     "metadata": {},
     "output_type": "execute_result"
    }
   ],
   "source": [
    "train_set = pd.read_csv('data/train_treated.csv')\n",
    "train_set.head()"
   ]
  },
  {
   "cell_type": "code",
   "execution_count": 23,
   "metadata": {},
   "outputs": [
    {
     "data": {
      "text/html": [
       "<div>\n",
       "<style>\n",
       "    .dataframe thead tr:only-child th {\n",
       "        text-align: right;\n",
       "    }\n",
       "\n",
       "    .dataframe thead th {\n",
       "        text-align: left;\n",
       "    }\n",
       "\n",
       "    .dataframe tbody tr th {\n",
       "        vertical-align: top;\n",
       "    }\n",
       "</style>\n",
       "<table border=\"1\" class=\"dataframe\">\n",
       "  <thead>\n",
       "    <tr style=\"text-align: right;\">\n",
       "      <th></th>\n",
       "      <th>sim</th>\n",
       "      <th>year_diff</th>\n",
       "      <th>common_authors</th>\n",
       "      <th>cn</th>\n",
       "      <th>aai</th>\n",
       "      <th>title_overlap</th>\n",
       "    </tr>\n",
       "  </thead>\n",
       "  <tbody>\n",
       "    <tr>\n",
       "      <th>0</th>\n",
       "      <td>0.064373</td>\n",
       "      <td>0</td>\n",
       "      <td>0</td>\n",
       "      <td>1</td>\n",
       "      <td>0.513898</td>\n",
       "      <td>2</td>\n",
       "    </tr>\n",
       "    <tr>\n",
       "      <th>1</th>\n",
       "      <td>0.021211</td>\n",
       "      <td>1</td>\n",
       "      <td>0</td>\n",
       "      <td>20</td>\n",
       "      <td>4.320366</td>\n",
       "      <td>1</td>\n",
       "    </tr>\n",
       "    <tr>\n",
       "      <th>2</th>\n",
       "      <td>0.017202</td>\n",
       "      <td>-2</td>\n",
       "      <td>0</td>\n",
       "      <td>0</td>\n",
       "      <td>0.000000</td>\n",
       "      <td>0</td>\n",
       "    </tr>\n",
       "    <tr>\n",
       "      <th>3</th>\n",
       "      <td>0.012634</td>\n",
       "      <td>-4</td>\n",
       "      <td>0</td>\n",
       "      <td>0</td>\n",
       "      <td>0.000000</td>\n",
       "      <td>0</td>\n",
       "    </tr>\n",
       "    <tr>\n",
       "      <th>4</th>\n",
       "      <td>0.059588</td>\n",
       "      <td>-5</td>\n",
       "      <td>0</td>\n",
       "      <td>0</td>\n",
       "      <td>0.000000</td>\n",
       "      <td>0</td>\n",
       "    </tr>\n",
       "  </tbody>\n",
       "</table>\n",
       "</div>"
      ],
      "text/plain": [
       "        sim  year_diff  common_authors  cn       aai  title_overlap\n",
       "0  0.064373          0               0   1  0.513898              2\n",
       "1  0.021211          1               0  20  4.320366              1\n",
       "2  0.017202         -2               0   0  0.000000              0\n",
       "3  0.012634         -4               0   0  0.000000              0\n",
       "4  0.059588         -5               0   0  0.000000              0"
      ]
     },
     "execution_count": 23,
     "metadata": {},
     "output_type": "execute_result"
    }
   ],
   "source": [
    "X_train = train_set.loc[:,['sim', 'year_diff', 'common_authors', 'cn', 'aai', 'title_overlap']]\n",
    "y_train = train_set.loc[:,'link']\n",
    "X_train.head()"
   ]
  },
  {
   "cell_type": "code",
   "execution_count": 24,
   "metadata": {},
   "outputs": [
    {
     "data": {
      "text/html": [
       "<div>\n",
       "<style>\n",
       "    .dataframe thead tr:only-child th {\n",
       "        text-align: right;\n",
       "    }\n",
       "\n",
       "    .dataframe thead th {\n",
       "        text-align: left;\n",
       "    }\n",
       "\n",
       "    .dataframe tbody tr th {\n",
       "        vertical-align: top;\n",
       "    }\n",
       "</style>\n",
       "<table border=\"1\" class=\"dataframe\">\n",
       "  <thead>\n",
       "    <tr style=\"text-align: right;\">\n",
       "      <th></th>\n",
       "      <th>sim</th>\n",
       "      <th>year_diff</th>\n",
       "      <th>common_authors</th>\n",
       "      <th>cn</th>\n",
       "      <th>aai</th>\n",
       "      <th>title_overlap</th>\n",
       "    </tr>\n",
       "  </thead>\n",
       "  <tbody>\n",
       "    <tr>\n",
       "      <th>206307</th>\n",
       "      <td>0.057576</td>\n",
       "      <td>-1</td>\n",
       "      <td>0</td>\n",
       "      <td>0</td>\n",
       "      <td>0.000000</td>\n",
       "      <td>1</td>\n",
       "    </tr>\n",
       "    <tr>\n",
       "      <th>545369</th>\n",
       "      <td>0.064932</td>\n",
       "      <td>6</td>\n",
       "      <td>0</td>\n",
       "      <td>15</td>\n",
       "      <td>3.795183</td>\n",
       "      <td>0</td>\n",
       "    </tr>\n",
       "    <tr>\n",
       "      <th>304493</th>\n",
       "      <td>0.009646</td>\n",
       "      <td>0</td>\n",
       "      <td>0</td>\n",
       "      <td>0</td>\n",
       "      <td>0.000000</td>\n",
       "      <td>0</td>\n",
       "    </tr>\n",
       "    <tr>\n",
       "      <th>42171</th>\n",
       "      <td>0.002130</td>\n",
       "      <td>-2</td>\n",
       "      <td>0</td>\n",
       "      <td>0</td>\n",
       "      <td>0.000000</td>\n",
       "      <td>0</td>\n",
       "    </tr>\n",
       "    <tr>\n",
       "      <th>268996</th>\n",
       "      <td>0.095356</td>\n",
       "      <td>0</td>\n",
       "      <td>0</td>\n",
       "      <td>0</td>\n",
       "      <td>0.000000</td>\n",
       "      <td>0</td>\n",
       "    </tr>\n",
       "  </tbody>\n",
       "</table>\n",
       "</div>"
      ],
      "text/plain": [
       "             sim  year_diff  common_authors  cn       aai  title_overlap\n",
       "206307  0.057576         -1               0   0  0.000000              1\n",
       "545369  0.064932          6               0  15  3.795183              0\n",
       "304493  0.009646          0               0   0  0.000000              0\n",
       "42171   0.002130         -2               0   0  0.000000              0\n",
       "268996  0.095356          0               0   0  0.000000              0"
      ]
     },
     "execution_count": 24,
     "metadata": {},
     "output_type": "execute_result"
    }
   ],
   "source": [
    "X_train, y_train = shuffle(X_train, y_train, random_state=0)\n",
    "X_train.head()"
   ]
  },
  {
   "cell_type": "code",
   "execution_count": 25,
   "metadata": {},
   "outputs": [
    {
     "data": {
      "text/plain": [
       "0.9725118397484275"
      ]
     },
     "execution_count": 25,
     "metadata": {},
     "output_type": "execute_result"
    }
   ],
   "source": [
    "clf_rf = RandomForestClassifier(n_estimators=100, max_depth=6, min_samples_split=30, min_samples_leaf=10, n_jobs=1)\n",
    "cross_val_score(clf_rf, X_train, y_train, cv=5, scoring='f1').mean()"
   ]
  },
  {
   "cell_type": "code",
   "execution_count": 26,
   "metadata": {},
   "outputs": [
    {
     "data": {
      "text/plain": [
       "0.9673684632518584"
      ]
     },
     "execution_count": 26,
     "metadata": {},
     "output_type": "execute_result"
    }
   ],
   "source": [
    "clf_rf = RandomForestClassifier(n_estimators=100, max_depth=3, min_samples_split=30, min_samples_leaf=10, n_jobs=1)\n",
    "cross_val_score(clf_rf, X_train, y_train, cv=5, scoring='f1').mean()"
   ]
  },
  {
   "cell_type": "code",
   "execution_count": 27,
   "metadata": {},
   "outputs": [
    {
     "data": {
      "text/plain": [
       "0.9674755951776779"
      ]
     },
     "execution_count": 27,
     "metadata": {},
     "output_type": "execute_result"
    }
   ],
   "source": [
    "clf_rf = RandomForestClassifier(n_estimators=100, max_depth=3, min_samples_split=300, min_samples_leaf=100, n_jobs=1)\n",
    "cross_val_score(clf_rf, X_train, y_train, cv=5, scoring='f1').mean()"
   ]
  },
  {
   "cell_type": "code",
   "execution_count": 28,
   "metadata": {},
   "outputs": [
    {
     "data": {
      "text/plain": [
       "0.9675669593503844"
      ]
     },
     "execution_count": 28,
     "metadata": {},
     "output_type": "execute_result"
    }
   ],
   "source": [
    "clf_rf = RandomForestClassifier(n_estimators=100, max_depth=3, min_samples_split=600, min_samples_leaf=200, n_jobs=1)\n",
    "cross_val_score(clf_rf, X_train, y_train, cv=5, scoring='f1').mean()"
   ]
  },
  {
   "cell_type": "code",
   "execution_count": 29,
   "metadata": {},
   "outputs": [
    {
     "data": {
      "text/plain": [
       "0.9681502188745899"
      ]
     },
     "execution_count": 29,
     "metadata": {},
     "output_type": "execute_result"
    }
   ],
   "source": [
    "clf_rf = RandomForestClassifier(n_estimators=300, max_depth=3, min_samples_split=600, min_samples_leaf=200, n_jobs=1)\n",
    "cross_val_score(clf_rf, X_train, y_train, cv=5, scoring='f1').mean()"
   ]
  },
  {
   "cell_type": "markdown",
   "metadata": {},
   "source": [
    "### replace 5 old features with 5 new ones"
   ]
  },
  {
   "cell_type": "code",
   "execution_count": 30,
   "metadata": {},
   "outputs": [
    {
     "data": {
      "text/html": [
       "<div>\n",
       "<style>\n",
       "    .dataframe thead tr:only-child th {\n",
       "        text-align: right;\n",
       "    }\n",
       "\n",
       "    .dataframe thead th {\n",
       "        text-align: left;\n",
       "    }\n",
       "\n",
       "    .dataframe tbody tr th {\n",
       "        vertical-align: top;\n",
       "    }\n",
       "</style>\n",
       "<table border=\"1\" class=\"dataframe\">\n",
       "  <thead>\n",
       "    <tr style=\"text-align: right;\">\n",
       "      <th></th>\n",
       "      <th>id1</th>\n",
       "      <th>id2</th>\n",
       "      <th>link</th>\n",
       "      <th>rno1</th>\n",
       "      <th>rno2</th>\n",
       "      <th>sim</th>\n",
       "      <th>year1</th>\n",
       "      <th>year2</th>\n",
       "      <th>year_diff</th>\n",
       "      <th>common_authors</th>\n",
       "      <th>cn</th>\n",
       "      <th>aai</th>\n",
       "      <th>title_overlap</th>\n",
       "    </tr>\n",
       "  </thead>\n",
       "  <tbody>\n",
       "    <tr>\n",
       "      <th>0</th>\n",
       "      <td>9510123</td>\n",
       "      <td>9502114</td>\n",
       "      <td>1</td>\n",
       "      <td>16827</td>\n",
       "      <td>15446</td>\n",
       "      <td>0.064373</td>\n",
       "      <td>1995</td>\n",
       "      <td>1995</td>\n",
       "      <td>0</td>\n",
       "      <td>0</td>\n",
       "      <td>1</td>\n",
       "      <td>0.513898</td>\n",
       "      <td>2</td>\n",
       "    </tr>\n",
       "    <tr>\n",
       "      <th>1</th>\n",
       "      <td>9707075</td>\n",
       "      <td>9604178</td>\n",
       "      <td>1</td>\n",
       "      <td>21154</td>\n",
       "      <td>18059</td>\n",
       "      <td>0.021211</td>\n",
       "      <td>1997</td>\n",
       "      <td>1996</td>\n",
       "      <td>1</td>\n",
       "      <td>0</td>\n",
       "      <td>20</td>\n",
       "      <td>4.320366</td>\n",
       "      <td>1</td>\n",
       "    </tr>\n",
       "    <tr>\n",
       "      <th>2</th>\n",
       "      <td>9312155</td>\n",
       "      <td>9506142</td>\n",
       "      <td>0</td>\n",
       "      <td>13074</td>\n",
       "      <td>16171</td>\n",
       "      <td>0.017202</td>\n",
       "      <td>1993</td>\n",
       "      <td>1995</td>\n",
       "      <td>-2</td>\n",
       "      <td>0</td>\n",
       "      <td>0</td>\n",
       "      <td>0.000000</td>\n",
       "      <td>0</td>\n",
       "    </tr>\n",
       "    <tr>\n",
       "      <th>3</th>\n",
       "      <td>9911255</td>\n",
       "      <td>302165</td>\n",
       "      <td>0</td>\n",
       "      <td>27486</td>\n",
       "      <td>9702</td>\n",
       "      <td>0.012634</td>\n",
       "      <td>1999</td>\n",
       "      <td>2003</td>\n",
       "      <td>-4</td>\n",
       "      <td>0</td>\n",
       "      <td>0</td>\n",
       "      <td>0.000000</td>\n",
       "      <td>0</td>\n",
       "    </tr>\n",
       "    <tr>\n",
       "      <th>4</th>\n",
       "      <td>9701033</td>\n",
       "      <td>209076</td>\n",
       "      <td>0</td>\n",
       "      <td>19856</td>\n",
       "      <td>8212</td>\n",
       "      <td>0.059588</td>\n",
       "      <td>1997</td>\n",
       "      <td>2002</td>\n",
       "      <td>-5</td>\n",
       "      <td>0</td>\n",
       "      <td>0</td>\n",
       "      <td>0.000000</td>\n",
       "      <td>0</td>\n",
       "    </tr>\n",
       "  </tbody>\n",
       "</table>\n",
       "</div>"
      ],
      "text/plain": [
       "       id1      id2  link   rno1   rno2       sim  year1  year2  year_diff  \\\n",
       "0  9510123  9502114     1  16827  15446  0.064373   1995   1995          0   \n",
       "1  9707075  9604178     1  21154  18059  0.021211   1997   1996          1   \n",
       "2  9312155  9506142     0  13074  16171  0.017202   1993   1995         -2   \n",
       "3  9911255   302165     0  27486   9702  0.012634   1999   2003         -4   \n",
       "4  9701033   209076     0  19856   8212  0.059588   1997   2002         -5   \n",
       "\n",
       "   common_authors  cn       aai  title_overlap  \n",
       "0               0   1  0.513898              2  \n",
       "1               0  20  4.320366              1  \n",
       "2               0   0  0.000000              0  \n",
       "3               0   0  0.000000              0  \n",
       "4               0   0  0.000000              0  "
      ]
     },
     "execution_count": 30,
     "metadata": {},
     "output_type": "execute_result"
    }
   ],
   "source": [
    "train1 = pd.read_csv('data/train_treated.csv')\n",
    "train1.head()"
   ]
  },
  {
   "cell_type": "code",
   "execution_count": 31,
   "metadata": {},
   "outputs": [
    {
     "data": {
      "text/html": [
       "<div>\n",
       "<style>\n",
       "    .dataframe thead tr:only-child th {\n",
       "        text-align: right;\n",
       "    }\n",
       "\n",
       "    .dataframe thead th {\n",
       "        text-align: left;\n",
       "    }\n",
       "\n",
       "    .dataframe tbody tr th {\n",
       "        vertical-align: top;\n",
       "    }\n",
       "</style>\n",
       "<table border=\"1\" class=\"dataframe\">\n",
       "  <thead>\n",
       "    <tr style=\"text-align: right;\">\n",
       "      <th></th>\n",
       "      <th>id1</th>\n",
       "      <th>id2</th>\n",
       "      <th>res_allo_ind</th>\n",
       "      <th>overlap_title</th>\n",
       "      <th>temp_diff</th>\n",
       "      <th>comm_auth</th>\n",
       "      <th>reduced_tfidf_sim</th>\n",
       "      <th>jaccard_coeff</th>\n",
       "      <th>tgt_citation</th>\n",
       "      <th>labels</th>\n",
       "    </tr>\n",
       "  </thead>\n",
       "  <tbody>\n",
       "    <tr>\n",
       "      <th>0</th>\n",
       "      <td>9510123</td>\n",
       "      <td>9502114</td>\n",
       "      <td>0.142857</td>\n",
       "      <td>2</td>\n",
       "      <td>0</td>\n",
       "      <td>0</td>\n",
       "      <td>0.242161</td>\n",
       "      <td>0.176471</td>\n",
       "      <td>8</td>\n",
       "      <td>1</td>\n",
       "    </tr>\n",
       "    <tr>\n",
       "      <th>1</th>\n",
       "      <td>9707075</td>\n",
       "      <td>9604178</td>\n",
       "      <td>0.226401</td>\n",
       "      <td>1</td>\n",
       "      <td>1</td>\n",
       "      <td>0</td>\n",
       "      <td>0.116740</td>\n",
       "      <td>0.106796</td>\n",
       "      <td>124</td>\n",
       "      <td>1</td>\n",
       "    </tr>\n",
       "    <tr>\n",
       "      <th>2</th>\n",
       "      <td>9312155</td>\n",
       "      <td>9506142</td>\n",
       "      <td>0.000000</td>\n",
       "      <td>0</td>\n",
       "      <td>-2</td>\n",
       "      <td>0</td>\n",
       "      <td>0.067705</td>\n",
       "      <td>0.000000</td>\n",
       "      <td>2</td>\n",
       "      <td>0</td>\n",
       "    </tr>\n",
       "    <tr>\n",
       "      <th>3</th>\n",
       "      <td>9911255</td>\n",
       "      <td>302165</td>\n",
       "      <td>0.000000</td>\n",
       "      <td>0</td>\n",
       "      <td>-4</td>\n",
       "      <td>0</td>\n",
       "      <td>0.054771</td>\n",
       "      <td>0.000000</td>\n",
       "      <td>2</td>\n",
       "      <td>0</td>\n",
       "    </tr>\n",
       "    <tr>\n",
       "      <th>4</th>\n",
       "      <td>9701033</td>\n",
       "      <td>209076</td>\n",
       "      <td>0.000000</td>\n",
       "      <td>0</td>\n",
       "      <td>-5</td>\n",
       "      <td>0</td>\n",
       "      <td>0.220903</td>\n",
       "      <td>0.000000</td>\n",
       "      <td>2</td>\n",
       "      <td>0</td>\n",
       "    </tr>\n",
       "  </tbody>\n",
       "</table>\n",
       "</div>"
      ],
      "text/plain": [
       "       id1      id2  res_allo_ind  overlap_title  temp_diff  comm_auth  \\\n",
       "0  9510123  9502114      0.142857              2          0          0   \n",
       "1  9707075  9604178      0.226401              1          1          0   \n",
       "2  9312155  9506142      0.000000              0         -2          0   \n",
       "3  9911255   302165      0.000000              0         -4          0   \n",
       "4  9701033   209076      0.000000              0         -5          0   \n",
       "\n",
       "   reduced_tfidf_sim  jaccard_coeff  tgt_citation  labels  \n",
       "0           0.242161       0.176471             8       1  \n",
       "1           0.116740       0.106796           124       1  \n",
       "2           0.067705       0.000000             2       0  \n",
       "3           0.054771       0.000000             2       0  \n",
       "4           0.220903       0.000000             2       0  "
      ]
     },
     "execution_count": 31,
     "metadata": {},
     "output_type": "execute_result"
    }
   ],
   "source": [
    "train2 = pd.read_csv('data/train_nx_ig_v3.csv')\n",
    "train2.head()"
   ]
  },
  {
   "cell_type": "code",
   "execution_count": 32,
   "metadata": {},
   "outputs": [
    {
     "data": {
      "text/html": [
       "<div>\n",
       "<style>\n",
       "    .dataframe thead tr:only-child th {\n",
       "        text-align: right;\n",
       "    }\n",
       "\n",
       "    .dataframe thead th {\n",
       "        text-align: left;\n",
       "    }\n",
       "\n",
       "    .dataframe tbody tr th {\n",
       "        vertical-align: top;\n",
       "    }\n",
       "</style>\n",
       "<table border=\"1\" class=\"dataframe\">\n",
       "  <thead>\n",
       "    <tr style=\"text-align: right;\">\n",
       "      <th></th>\n",
       "      <th>title_overlap</th>\n",
       "      <th>year_diff</th>\n",
       "      <th>common_authors</th>\n",
       "      <th>sim</th>\n",
       "      <th>cn</th>\n",
       "      <th>aai</th>\n",
       "      <th>jaccard_coeff</th>\n",
       "      <th>tgt_citation</th>\n",
       "    </tr>\n",
       "  </thead>\n",
       "  <tbody>\n",
       "    <tr>\n",
       "      <th>0</th>\n",
       "      <td>2</td>\n",
       "      <td>0</td>\n",
       "      <td>0</td>\n",
       "      <td>0.064373</td>\n",
       "      <td>1</td>\n",
       "      <td>0.513898</td>\n",
       "      <td>0.176471</td>\n",
       "      <td>8</td>\n",
       "    </tr>\n",
       "    <tr>\n",
       "      <th>1</th>\n",
       "      <td>1</td>\n",
       "      <td>1</td>\n",
       "      <td>0</td>\n",
       "      <td>0.021211</td>\n",
       "      <td>20</td>\n",
       "      <td>4.320366</td>\n",
       "      <td>0.106796</td>\n",
       "      <td>124</td>\n",
       "    </tr>\n",
       "    <tr>\n",
       "      <th>2</th>\n",
       "      <td>0</td>\n",
       "      <td>-2</td>\n",
       "      <td>0</td>\n",
       "      <td>0.017202</td>\n",
       "      <td>0</td>\n",
       "      <td>0.000000</td>\n",
       "      <td>0.000000</td>\n",
       "      <td>2</td>\n",
       "    </tr>\n",
       "    <tr>\n",
       "      <th>3</th>\n",
       "      <td>0</td>\n",
       "      <td>-4</td>\n",
       "      <td>0</td>\n",
       "      <td>0.012634</td>\n",
       "      <td>0</td>\n",
       "      <td>0.000000</td>\n",
       "      <td>0.000000</td>\n",
       "      <td>2</td>\n",
       "    </tr>\n",
       "    <tr>\n",
       "      <th>4</th>\n",
       "      <td>0</td>\n",
       "      <td>-5</td>\n",
       "      <td>0</td>\n",
       "      <td>0.059588</td>\n",
       "      <td>0</td>\n",
       "      <td>0.000000</td>\n",
       "      <td>0.000000</td>\n",
       "      <td>2</td>\n",
       "    </tr>\n",
       "  </tbody>\n",
       "</table>\n",
       "</div>"
      ],
      "text/plain": [
       "   title_overlap  year_diff  common_authors       sim  cn       aai  \\\n",
       "0              2          0               0  0.064373   1  0.513898   \n",
       "1              1          1               0  0.021211  20  4.320366   \n",
       "2              0         -2               0  0.017202   0  0.000000   \n",
       "3              0         -4               0  0.012634   0  0.000000   \n",
       "4              0         -5               0  0.059588   0  0.000000   \n",
       "\n",
       "   jaccard_coeff  tgt_citation  \n",
       "0       0.176471             8  \n",
       "1       0.106796           124  \n",
       "2       0.000000             2  \n",
       "3       0.000000             2  \n",
       "4       0.000000             2  "
      ]
     },
     "execution_count": 32,
     "metadata": {},
     "output_type": "execute_result"
    }
   ],
   "source": [
    "X_train = pd.concat([train1.loc[:,['title_overlap', 'year_diff','common_authors','sim','cn','aai']], train2.loc[:,['jaccard_coeff','tgt_citation']]], axis=1)\n",
    "y_train = train1.loc[:,'link']\n",
    "X_train.head()"
   ]
  },
  {
   "cell_type": "code",
   "execution_count": 33,
   "metadata": {},
   "outputs": [
    {
     "data": {
      "text/html": [
       "<div>\n",
       "<style>\n",
       "    .dataframe thead tr:only-child th {\n",
       "        text-align: right;\n",
       "    }\n",
       "\n",
       "    .dataframe thead th {\n",
       "        text-align: left;\n",
       "    }\n",
       "\n",
       "    .dataframe tbody tr th {\n",
       "        vertical-align: top;\n",
       "    }\n",
       "</style>\n",
       "<table border=\"1\" class=\"dataframe\">\n",
       "  <thead>\n",
       "    <tr style=\"text-align: right;\">\n",
       "      <th></th>\n",
       "      <th>title_overlap</th>\n",
       "      <th>year_diff</th>\n",
       "      <th>common_authors</th>\n",
       "      <th>sim</th>\n",
       "      <th>cn</th>\n",
       "      <th>aai</th>\n",
       "      <th>jaccard_coeff</th>\n",
       "      <th>tgt_citation</th>\n",
       "    </tr>\n",
       "  </thead>\n",
       "  <tbody>\n",
       "    <tr>\n",
       "      <th>206307</th>\n",
       "      <td>1</td>\n",
       "      <td>-1</td>\n",
       "      <td>0</td>\n",
       "      <td>0.057576</td>\n",
       "      <td>0</td>\n",
       "      <td>0.000000</td>\n",
       "      <td>0.000000</td>\n",
       "      <td>8</td>\n",
       "    </tr>\n",
       "    <tr>\n",
       "      <th>545369</th>\n",
       "      <td>0</td>\n",
       "      <td>6</td>\n",
       "      <td>0</td>\n",
       "      <td>0.064932</td>\n",
       "      <td>15</td>\n",
       "      <td>3.795183</td>\n",
       "      <td>0.079439</td>\n",
       "      <td>164</td>\n",
       "    </tr>\n",
       "    <tr>\n",
       "      <th>304493</th>\n",
       "      <td>0</td>\n",
       "      <td>0</td>\n",
       "      <td>0</td>\n",
       "      <td>0.009646</td>\n",
       "      <td>0</td>\n",
       "      <td>0.000000</td>\n",
       "      <td>0.000000</td>\n",
       "      <td>0</td>\n",
       "    </tr>\n",
       "    <tr>\n",
       "      <th>42171</th>\n",
       "      <td>0</td>\n",
       "      <td>-2</td>\n",
       "      <td>0</td>\n",
       "      <td>0.002130</td>\n",
       "      <td>0</td>\n",
       "      <td>0.000000</td>\n",
       "      <td>0.000000</td>\n",
       "      <td>2</td>\n",
       "    </tr>\n",
       "    <tr>\n",
       "      <th>268996</th>\n",
       "      <td>0</td>\n",
       "      <td>0</td>\n",
       "      <td>0</td>\n",
       "      <td>0.095356</td>\n",
       "      <td>0</td>\n",
       "      <td>0.000000</td>\n",
       "      <td>0.030303</td>\n",
       "      <td>14</td>\n",
       "    </tr>\n",
       "  </tbody>\n",
       "</table>\n",
       "</div>"
      ],
      "text/plain": [
       "        title_overlap  year_diff  common_authors       sim  cn       aai  \\\n",
       "206307              1         -1               0  0.057576   0  0.000000   \n",
       "545369              0          6               0  0.064932  15  3.795183   \n",
       "304493              0          0               0  0.009646   0  0.000000   \n",
       "42171               0         -2               0  0.002130   0  0.000000   \n",
       "268996              0          0               0  0.095356   0  0.000000   \n",
       "\n",
       "        jaccard_coeff  tgt_citation  \n",
       "206307       0.000000             8  \n",
       "545369       0.079439           164  \n",
       "304493       0.000000             0  \n",
       "42171        0.000000             2  \n",
       "268996       0.030303            14  "
      ]
     },
     "execution_count": 33,
     "metadata": {},
     "output_type": "execute_result"
    }
   ],
   "source": [
    "X_train, y_train = shuffle(X_train, y_train, random_state=0)\n",
    "X_train.head()"
   ]
  },
  {
   "cell_type": "code",
   "execution_count": 34,
   "metadata": {},
   "outputs": [
    {
     "data": {
      "text/plain": [
       "0.992933903795711"
      ]
     },
     "execution_count": 34,
     "metadata": {},
     "output_type": "execute_result"
    }
   ],
   "source": [
    "clf_rf = RandomForestClassifier(n_estimators=100, max_depth=6, min_samples_split=30, min_samples_leaf=10, n_jobs=1)\n",
    "cross_val_score(clf_rf, X_train, y_train, cv=5, scoring='f1').mean()"
   ]
  },
  {
   "cell_type": "code",
   "execution_count": 35,
   "metadata": {},
   "outputs": [
    {
     "data": {
      "text/plain": [
       "0.9884021101290539"
      ]
     },
     "execution_count": 35,
     "metadata": {},
     "output_type": "execute_result"
    }
   ],
   "source": [
    "clf_rf = RandomForestClassifier(n_estimators=100, max_depth=3, min_samples_split=30, min_samples_leaf=10, n_jobs=1)\n",
    "cross_val_score(clf_rf, X_train, y_train, cv=5, scoring='f1').mean()"
   ]
  },
  {
   "cell_type": "code",
   "execution_count": 36,
   "metadata": {},
   "outputs": [
    {
     "data": {
      "text/plain": [
       "0.9880748876882601"
      ]
     },
     "execution_count": 36,
     "metadata": {},
     "output_type": "execute_result"
    }
   ],
   "source": [
    "clf_rf = RandomForestClassifier(n_estimators=100, max_depth=3, min_samples_split=300, min_samples_leaf=100, n_jobs=1)\n",
    "cross_val_score(clf_rf, X_train, y_train, cv=5, scoring='f1').mean()"
   ]
  },
  {
   "cell_type": "code",
   "execution_count": 37,
   "metadata": {},
   "outputs": [
    {
     "data": {
      "text/plain": [
       "0.9871544415795503"
      ]
     },
     "execution_count": 37,
     "metadata": {},
     "output_type": "execute_result"
    }
   ],
   "source": [
    "clf_rf = RandomForestClassifier(n_estimators=100, max_depth=3, min_samples_split=600, min_samples_leaf=200, n_jobs=1)\n",
    "cross_val_score(clf_rf, X_train, y_train, cv=5, scoring='f1').mean()"
   ]
  },
  {
   "cell_type": "code",
   "execution_count": 38,
   "metadata": {},
   "outputs": [
    {
     "data": {
      "text/plain": [
       "0.9880966772338258"
      ]
     },
     "execution_count": 38,
     "metadata": {},
     "output_type": "execute_result"
    }
   ],
   "source": [
    "clf_rf = RandomForestClassifier(n_estimators=300, max_depth=3, min_samples_split=600, min_samples_leaf=200, n_jobs=1)\n",
    "cross_val_score(clf_rf, X_train, y_train, cv=5, scoring='f1').mean()"
   ]
  },
  {
   "cell_type": "markdown",
   "metadata": {
    "collapsed": true
   },
   "source": [
    "These results are overfitting."
   ]
  },
  {
   "cell_type": "markdown",
   "metadata": {
    "collapsed": true
   },
   "source": [
    "### Trials of features"
   ]
  },
  {
   "cell_type": "markdown",
   "metadata": {
    "collapsed": true
   },
   "source": [
    "#### 6 new features + tgt citation"
   ]
  },
  {
   "cell_type": "code",
   "execution_count": 2,
   "metadata": {
    "collapsed": true
   },
   "outputs": [],
   "source": [
    "train1 = pd.read_csv('data/train_treated.csv')\n",
    "train2 = pd.read_csv('data/train_nx_ig_v2.csv')\n",
    "X_train = pd.concat([train1.loc[:,['title_overlap', 'year_diff','common_authors','sim','cn','aai']], train2.loc[:,['tgt_citation']]], axis=1)\n",
    "y_train = train1.loc[:,'link']\n",
    "X_train, y_train = shuffle(X_train, y_train, random_state=0)"
   ]
  },
  {
   "cell_type": "code",
   "execution_count": 4,
   "metadata": {},
   "outputs": [
    {
     "data": {
      "text/plain": [
       "GridSearchCV(cv=5, error_score='raise',\n",
       "       estimator=RandomForestClassifier(bootstrap=True, class_weight=None, criterion='gini',\n",
       "            max_depth=None, max_features='auto', max_leaf_nodes=None,\n",
       "            min_impurity_decrease=0.0, min_impurity_split=None,\n",
       "            min_samples_leaf=1, min_samples_split=2,\n",
       "            min_weight_fraction_leaf=0.0, n_estimators=10, n_jobs=2,\n",
       "            oob_score=False, random_state=0, verbose=0, warm_start=True),\n",
       "       fit_params=None, iid=True, n_jobs=1,\n",
       "       param_grid={'n_estimators': [100, 200, 300, 400, 500, 600], 'min_samples_split': [50, 100, 200, 300, 400], 'max_depth': [3, 4]},\n",
       "       pre_dispatch='2*n_jobs', refit=True, return_train_score=True,\n",
       "       scoring='f1', verbose=0)"
      ]
     },
     "execution_count": 4,
     "metadata": {},
     "output_type": "execute_result"
    }
   ],
   "source": [
    "params_range = {'n_estimators':[100,200,300,400,500,600], 'max_depth':[3,4], 'min_samples_split':[50,100,200,300,400]}\n",
    "clf_rf = RandomForestClassifier(warm_start=True, n_jobs=2, random_state=0)\n",
    "clf = GridSearchCV(clf_rf, param_grid=params_range, scoring='f1', cv=5)\n",
    "clf.fit(X_train,y_train)"
   ]
  },
  {
   "cell_type": "code",
   "execution_count": 7,
   "metadata": {},
   "outputs": [
    {
     "name": "stdout",
     "output_type": "stream",
     "text": [
      "0.9698362327686516\n",
      "RandomForestClassifier(bootstrap=True, class_weight=None, criterion='gini',\n",
      "            max_depth=4, max_features='auto', max_leaf_nodes=None,\n",
      "            min_impurity_decrease=0.0, min_impurity_split=None,\n",
      "            min_samples_leaf=1, min_samples_split=200,\n",
      "            min_weight_fraction_leaf=0.0, n_estimators=100, n_jobs=2,\n",
      "            oob_score=False, random_state=0, verbose=0, warm_start=True)\n"
     ]
    }
   ],
   "source": [
    "print (clf.best_score_)\n",
    "print (clf.best_estimator_)"
   ]
  },
  {
   "cell_type": "code",
   "execution_count": 10,
   "metadata": {},
   "outputs": [
    {
     "data": {
      "text/plain": [
       "0.972397257457392"
      ]
     },
     "execution_count": 10,
     "metadata": {},
     "output_type": "execute_result"
    }
   ],
   "source": [
    "clf_rf = RandomForestClassifier(n_estimators=100, max_depth=5, min_samples_split=200, min_samples_leaf=50, n_jobs=1)\n",
    "cross_val_score(clf_rf, X_train, y_train, cv=5, scoring='f1').mean()"
   ]
  },
  {
   "cell_type": "code",
   "execution_count": 12,
   "metadata": {},
   "outputs": [
    {
     "data": {
      "text/plain": [
       "0.972594618211903"
      ]
     },
     "execution_count": 12,
     "metadata": {},
     "output_type": "execute_result"
    }
   ],
   "source": [
    "clf_rf = RandomForestClassifier(n_estimators=100, max_depth=5, n_jobs=-1)\n",
    "cross_val_score(clf_rf, X_train, y_train, cv=5, scoring='f1').mean()"
   ]
  },
  {
   "cell_type": "code",
   "execution_count": 14,
   "metadata": {},
   "outputs": [
    {
     "data": {
      "text/plain": [
       "0.9733753835889626"
      ]
     },
     "execution_count": 14,
     "metadata": {},
     "output_type": "execute_result"
    }
   ],
   "source": [
    "clf_rf = RandomForestClassifier(n_estimators=100, max_depth=6, n_jobs=-1)\n",
    "cross_val_score(clf_rf, X_train, y_train, cv=5, scoring='f1').mean()"
   ]
  },
  {
   "cell_type": "code",
   "execution_count": 15,
   "metadata": {},
   "outputs": [
    {
     "data": {
      "text/plain": [
       "0.9745350779254398"
      ]
     },
     "execution_count": 15,
     "metadata": {},
     "output_type": "execute_result"
    }
   ],
   "source": [
    "clf_rf = RandomForestClassifier(n_estimators=100, max_depth=10, n_jobs=-1)\n",
    "cross_val_score(clf_rf, X_train, y_train, cv=5, scoring='f1').mean()"
   ]
  },
  {
   "cell_type": "markdown",
   "metadata": {},
   "source": [
    "The results above which has max_depth > 4 are more overfitting than the best parameter."
   ]
  },
  {
   "cell_type": "code",
   "execution_count": 16,
   "metadata": {
    "collapsed": true
   },
   "outputs": [],
   "source": [
    "clf_rf = RandomForestClassifier(n_estimators=100, max_depth=5, n_jobs=-1)\n",
    "clf_rf.fit(X_train, y_train)\n",
    "\n",
    "test1 = pd.read_csv('data/test_treated.csv')\n",
    "test2 = pd.read_csv('data/test_nx_ig_v2.csv')\n",
    "X_test = pd.concat([test1.loc[:,['title_overlap','year_diff','common_authors','sim','cn','aai']], test2.loc[:,['tgt_citation']]], axis=1)\n",
    "\n",
    "y_test_pred = clf_rf.predict(X_test)\n",
    "df = pd.DataFrame(y_test_pred, columns=['category'])\n",
    "df.index.name = 'id'\n",
    "df.to_csv('result/rf_6new+tgt_1.csv', index=True, header=True)"
   ]
  },
  {
   "cell_type": "code",
   "execution_count": 17,
   "metadata": {},
   "outputs": [
    {
     "name": "stdout",
     "output_type": "stream",
     "text": [
      "0.9819538281421498 0.9610389997911258 0.9713838479193875 0.5407360871850211\n"
     ]
    }
   ],
   "source": [
    "reg_rf = RandomForestRegressor(n_estimators=100, max_depth=4, min_samples_split=200, n_jobs=1)\n",
    "reg_rf.fit(X_train, y_train)\n",
    "y_train_pred = reg_rf.predict(X_train)\n",
    "reg_train = np.zeros((len(y_train), 2))\n",
    "reg_train[:, 0] = np.array(y_train)\n",
    "reg_train[:, 1] = y_train_pred\n",
    "indice = np.argsort(reg_train[:,1])[::-1]\n",
    "reg_train = reg_train[indice]\n",
    "p_best, r_best, f1_best, ts = 0, 0, 0, 0\n",
    "num_ones = sum(y_train)\n",
    "tp = 0\n",
    "for idx, row in enumerate(reg_train):\n",
    "    if row[0] == 1:\n",
    "        tp += 1\n",
    "    p = tp / (idx + 1)\n",
    "    r = tp / num_ones\n",
    "    f1 = 2 * p * r / (p + r)\n",
    "    if f1 > f1_best:\n",
    "        p_best, r_best, f1_best = p, r, f1\n",
    "        ts = row[1]\n",
    "print (p_best, r_best, f1_best, ts)\n",
    "\n",
    "test1 = pd.read_csv('data/test_treated.csv')\n",
    "test2 = pd.read_csv('data/test_nx_ig_v2.csv')\n",
    "X_test = pd.concat([test1.loc[:,['title_overlap','year_diff','common_authors','sim','cn','aai']], test2.loc[:,['tgt_citation']]], axis=1)\n",
    "\n",
    "y_test_pred = reg_rf.predict(X_test)\n",
    "y_test_pred = y_test_pred > ts\n",
    "y_test_pred = y_test_pred.astype(int)\n",
    "\n",
    "df = pd.DataFrame(y_test_pred, columns=['category'])\n",
    "df.index.name = 'id'\n",
    "df.to_csv('result/rf_6new+tgt_reg.csv', index=True, header=True)"
   ]
  },
  {
   "cell_type": "markdown",
   "metadata": {
    "collapsed": true
   },
   "source": [
    "#### new new features"
   ]
  },
  {
   "cell_type": "code",
   "execution_count": 4,
   "metadata": {
    "collapsed": true
   },
   "outputs": [],
   "source": [
    "train1 = pd.read_csv('../data/train_treated_with_journal_w2v.csv')\n",
    "train2 = pd.read_csv('../data/train_nx_ig_v2.csv')\n",
    "X_train = pd.concat([train1.loc[:,['sim','cn','aai','year_diff','common_authors','title_overlap','journal_overlap','wmd']], train2.loc[:,['res_allo_ind','tgt_citation','jaccard_nx']]], axis=1)\n",
    "y_train = train1.loc[:,'link']\n",
    "X_train_cv, y_train_cv = shuffle(X_train, y_train, random_state=0)"
   ]
  },
  {
   "cell_type": "code",
   "execution_count": 5,
   "metadata": {},
   "outputs": [
    {
     "data": {
      "text/plain": [
       "0.9727744696757761"
      ]
     },
     "execution_count": 5,
     "metadata": {},
     "output_type": "execute_result"
    }
   ],
   "source": [
    "clf_rf = RandomForestClassifier(n_estimators=100, max_depth=5, n_jobs=2)\n",
    "cross_val_score(clf_rf, X_train_cv, y_train+cv, cv=5, scoring='f1').mean()"
   ]
  },
  {
   "cell_type": "code",
   "execution_count": 6,
   "metadata": {},
   "outputs": [
    {
     "name": "stdout",
     "output_type": "stream",
     "text": [
      "0.9801911701619871 0.9681526571778116 0.9741347216217514 0.28222400492706284\n"
     ]
    }
   ],
   "source": [
    "reg_rf = RandomForestRegressor(n_estimators=100, max_depth=5, min_samples_split=200, n_jobs=2)\n",
    "reg_rf.fit(X_train, y_train)\n",
    "y_train_pred = reg_rf.predict(X_train)\n",
    "reg_train = np.zeros((len(y_train), 2))\n",
    "reg_train[:, 0] = np.array(y_train)\n",
    "reg_train[:, 1] = y_train_pred\n",
    "indice = np.argsort(reg_train[:,1])[::-1]\n",
    "reg_train = reg_train[indice]\n",
    "p_best, r_best, f1_best, ts = 0, 0, 0, 0\n",
    "num_ones = sum(y_train)\n",
    "tp = 0\n",
    "for idx, row in enumerate(reg_train):\n",
    "    if row[0] == 1:\n",
    "        tp += 1\n",
    "    p = tp / (idx + 1)\n",
    "    r = tp / num_ones\n",
    "    f1 = 2 * p * r / (p + r)\n",
    "    if f1 > f1_best:\n",
    "        p_best, r_best, f1_best = p, r, f1\n",
    "        ts = row[1]\n",
    "print (p_best, r_best, f1_best, ts)"
   ]
  },
  {
   "cell_type": "markdown",
   "metadata": {},
   "source": [
    "### to stack"
   ]
  },
  {
   "cell_type": "code",
   "execution_count": 7,
   "metadata": {
    "collapsed": true
   },
   "outputs": [],
   "source": [
    "train1 = pd.read_csv('../data/train_treated_with_journal_w2v.csv')\n",
    "train2 = pd.read_csv('../data/train_nx_ig_v2.csv')\n",
    "X_train = pd.concat([train1.loc[:,['sim','cn','aai','year_diff','common_authors','title_overlap','journal_overlap','wmd']], train2.loc[:,['res_allo_ind','tgt_citation','jaccard_nx']]], axis=1)\n",
    "y_train = train1.loc[:,'link']"
   ]
  },
  {
   "cell_type": "code",
   "execution_count": 8,
   "metadata": {},
   "outputs": [
    {
     "name": "stdout",
     "output_type": "stream",
     "text": [
      "0.9803432080706483 0.9679049920926208 0.9740843953826381 0.29781174511414493\n"
     ]
    }
   ],
   "source": [
    "reg_rf = RandomForestRegressor(n_estimators=100, max_depth=5, min_samples_split=200, n_jobs=2)\n",
    "reg_rf.fit(X_train, y_train)\n",
    "y_train_pred = reg_rf.predict(X_train)\n",
    "reg_train = np.zeros((len(y_train), 2))\n",
    "reg_train[:, 0] = np.array(y_train)\n",
    "reg_train[:, 1] = y_train_pred\n",
    "indice = np.argsort(reg_train[:,1])[::-1]\n",
    "reg_train = reg_train[indice]\n",
    "p_best, r_best, f1_best, ts = 0, 0, 0, 0\n",
    "num_ones = sum(y_train)\n",
    "tp = 0\n",
    "for idx, row in enumerate(reg_train):\n",
    "    if row[0] == 1:\n",
    "        tp += 1\n",
    "    p = tp / (idx + 1)\n",
    "    r = tp / num_ones\n",
    "    f1 = 2 * p * r / (p + r)\n",
    "    if f1 > f1_best:\n",
    "        p_best, r_best, f1_best = p, r, f1\n",
    "        ts = row[1]\n",
    "print (p_best, r_best, f1_best, ts)"
   ]
  },
  {
   "cell_type": "code",
   "execution_count": 9,
   "metadata": {
    "collapsed": true
   },
   "outputs": [],
   "source": [
    "y_train_pred = y_train_pred > ts\n",
    "y_train_pred = y_train_pred.astype(int)\n",
    "train1['rf_stack'] = y_train_pred\n",
    "train1.to_csv('../data/train_stacked.csv', index=False)"
   ]
  },
  {
   "cell_type": "code",
   "execution_count": 10,
   "metadata": {
    "collapsed": true
   },
   "outputs": [],
   "source": [
    "test1 = pd.read_csv('../data/test_treated_with_journal_w2v.csv')\n",
    "test2 = pd.read_csv('../data/test_nx_ig_v2.csv')\n",
    "X_test = pd.concat([test1.loc[:,['sim','cn','aai','year_diff','common_authors','title_overlap','journal_overlap','wmd']], test2.loc[:,['res_allo_ind','tgt_citation','jaccard_nx']]], axis=1)"
   ]
  },
  {
   "cell_type": "code",
   "execution_count": 11,
   "metadata": {
    "collapsed": true
   },
   "outputs": [],
   "source": [
    "y_test_pred = reg_rf.predict(X_test)\n",
    "y_test_pred = y_test_pred > ts\n",
    "y_test_pred = y_test_pred.astype(int)\n",
    "test1['rf_stack'] = y_test_pred\n",
    "test1.to_csv('../data/test_stacked.csv', index=False)\n",
    "\n",
    "df = pd.DataFrame(y_test_pred, columns=['category'])\n",
    "df.index.name = 'id'\n",
    "df.to_csv('../result/rf_new_reg.csv', index=True, header=True)"
   ]
  },
  {
   "cell_type": "code",
   "execution_count": null,
   "metadata": {
    "collapsed": true
   },
   "outputs": [],
   "source": []
  }
 ],
 "metadata": {
  "anaconda-cloud": {},
  "kernelspec": {
   "display_name": "Python [default]",
   "language": "python",
   "name": "python3"
  },
  "language_info": {
   "codemirror_mode": {
    "name": "ipython",
    "version": 3
   },
   "file_extension": ".py",
   "mimetype": "text/x-python",
   "name": "python",
   "nbconvert_exporter": "python",
   "pygments_lexer": "ipython3",
   "version": "3.5.4"
  }
 },
 "nbformat": 4,
 "nbformat_minor": 2
}
