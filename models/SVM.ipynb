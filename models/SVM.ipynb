{
 "cells": [
  {
   "cell_type": "code",
   "execution_count": 1,
   "metadata": {
    "collapsed": true
   },
   "outputs": [],
   "source": [
    "import pandas as pd\n",
    "import numpy as np\n",
    "import matplotlib.pyplot as plt\n",
    "\n",
    "from sklearn.model_selection import cross_val_score\n",
    "from sklearn.utils import shuffle\n",
    "from sklearn.preprocessing import PolynomialFeatures, MinMaxScaler\n",
    "from sklearn import svm"
   ]
  },
  {
   "cell_type": "markdown",
   "metadata": {},
   "source": [
    "### CV for old features"
   ]
  },
  {
   "cell_type": "code",
   "execution_count": 5,
   "metadata": {},
   "outputs": [
    {
     "data": {
      "text/html": [
       "<div>\n",
       "<style>\n",
       "    .dataframe thead tr:only-child th {\n",
       "        text-align: right;\n",
       "    }\n",
       "\n",
       "    .dataframe thead th {\n",
       "        text-align: left;\n",
       "    }\n",
       "\n",
       "    .dataframe tbody tr th {\n",
       "        vertical-align: top;\n",
       "    }\n",
       "</style>\n",
       "<table border=\"1\" class=\"dataframe\">\n",
       "  <thead>\n",
       "    <tr style=\"text-align: right;\">\n",
       "      <th></th>\n",
       "      <th>id1</th>\n",
       "      <th>id2</th>\n",
       "      <th>res_allo_ind</th>\n",
       "      <th>overlap_title</th>\n",
       "      <th>temp_diff</th>\n",
       "      <th>comm_auth</th>\n",
       "      <th>reduced_tfidf_sim</th>\n",
       "      <th>jaccard_coeff</th>\n",
       "      <th>tgt_citation</th>\n",
       "      <th>labels</th>\n",
       "    </tr>\n",
       "  </thead>\n",
       "  <tbody>\n",
       "    <tr>\n",
       "      <th>0</th>\n",
       "      <td>9510123</td>\n",
       "      <td>9502114</td>\n",
       "      <td>0.142857</td>\n",
       "      <td>2</td>\n",
       "      <td>0</td>\n",
       "      <td>0</td>\n",
       "      <td>0.242161</td>\n",
       "      <td>0.176471</td>\n",
       "      <td>8</td>\n",
       "      <td>1</td>\n",
       "    </tr>\n",
       "    <tr>\n",
       "      <th>1</th>\n",
       "      <td>9707075</td>\n",
       "      <td>9604178</td>\n",
       "      <td>0.226401</td>\n",
       "      <td>1</td>\n",
       "      <td>1</td>\n",
       "      <td>0</td>\n",
       "      <td>0.116740</td>\n",
       "      <td>0.106796</td>\n",
       "      <td>124</td>\n",
       "      <td>1</td>\n",
       "    </tr>\n",
       "    <tr>\n",
       "      <th>2</th>\n",
       "      <td>9312155</td>\n",
       "      <td>9506142</td>\n",
       "      <td>0.000000</td>\n",
       "      <td>0</td>\n",
       "      <td>-2</td>\n",
       "      <td>0</td>\n",
       "      <td>0.067705</td>\n",
       "      <td>0.000000</td>\n",
       "      <td>2</td>\n",
       "      <td>0</td>\n",
       "    </tr>\n",
       "    <tr>\n",
       "      <th>3</th>\n",
       "      <td>9911255</td>\n",
       "      <td>302165</td>\n",
       "      <td>0.000000</td>\n",
       "      <td>0</td>\n",
       "      <td>-4</td>\n",
       "      <td>0</td>\n",
       "      <td>0.054771</td>\n",
       "      <td>0.000000</td>\n",
       "      <td>2</td>\n",
       "      <td>0</td>\n",
       "    </tr>\n",
       "    <tr>\n",
       "      <th>4</th>\n",
       "      <td>9701033</td>\n",
       "      <td>209076</td>\n",
       "      <td>0.000000</td>\n",
       "      <td>0</td>\n",
       "      <td>-5</td>\n",
       "      <td>0</td>\n",
       "      <td>0.220903</td>\n",
       "      <td>0.000000</td>\n",
       "      <td>2</td>\n",
       "      <td>0</td>\n",
       "    </tr>\n",
       "  </tbody>\n",
       "</table>\n",
       "</div>"
      ],
      "text/plain": [
       "       id1      id2  res_allo_ind  overlap_title  temp_diff  comm_auth  \\\n",
       "0  9510123  9502114      0.142857              2          0          0   \n",
       "1  9707075  9604178      0.226401              1          1          0   \n",
       "2  9312155  9506142      0.000000              0         -2          0   \n",
       "3  9911255   302165      0.000000              0         -4          0   \n",
       "4  9701033   209076      0.000000              0         -5          0   \n",
       "\n",
       "   reduced_tfidf_sim  jaccard_coeff  tgt_citation  labels  \n",
       "0           0.242161       0.176471             8       1  \n",
       "1           0.116740       0.106796           124       1  \n",
       "2           0.067705       0.000000             2       0  \n",
       "3           0.054771       0.000000             2       0  \n",
       "4           0.220903       0.000000             2       0  "
      ]
     },
     "execution_count": 5,
     "metadata": {},
     "output_type": "execute_result"
    }
   ],
   "source": [
    "train_set = pd.read_csv('data/train_nx_ig_v3.csv')\n",
    "train_set.head()"
   ]
  },
  {
   "cell_type": "code",
   "execution_count": 6,
   "metadata": {
    "collapsed": true
   },
   "outputs": [],
   "source": [
    "X_train = train_set.iloc[:,2:-1]\n",
    "y_train = train_set.iloc[:,-1]\n",
    "scaler = MinMaxScaler()\n",
    "X_train = scaler.fit_transform(X_train)\n",
    "X_train, y_train = shuffle(X_train, y_train, random_state=0)"
   ]
  },
  {
   "cell_type": "code",
   "execution_count": 7,
   "metadata": {
    "collapsed": true
   },
   "outputs": [],
   "source": [
    "c_range = list(np.arange(0.1,1,0.1))+list(np.arange(1,10))+list(np.arange(10,1000,20))\n",
    "f1_scores_old7f = []\n",
    "for c in c_range:\n",
    "    clf_svc = svm.LinearSVC(penalty='l2', C=c)\n",
    "    scores_svc = cross_val_score(clf_svc, X_train, y_train, cv=5, scoring='f1')\n",
    "    f1_scores_old7f.append(np.mean(scores_svc))"
   ]
  },
  {
   "cell_type": "code",
   "execution_count": 8,
   "metadata": {},
   "outputs": [
    {
     "name": "stderr",
     "output_type": "stream",
     "text": [
      "/home/wangsun/anaconda3/lib/python3.5/site-packages/matplotlib/axes/_axes.py:545: UserWarning: No labelled objects found. Use label='...' kwarg on individual plots.\n",
      "  warnings.warn(\"No labelled objects found. \"\n"
     ]
    },
    {
     "data": {
      "image/png": "[encoded data removed]",
      "text/plain": [
       "<matplotlib.figure.Figure at 0x7fe4a1229ac8>"
      ]
     },
     "metadata": {},
     "output_type": "display_data"
    }
   ],
   "source": [
    "plt.plot(c_range, f1_scores_old7f)\n",
    "plt.xlabel('Value of C')\n",
    "plt.ylabel('Cross validation f1 score')\n",
    "plt.title('LR')\n",
    "plt.legend()\n",
    "plt.show()"
   ]
  },
  {
   "cell_type": "markdown",
   "metadata": {},
   "source": [
    "This result is overfitting because of jaccard coefficient"
   ]
  },
  {
   "cell_type": "markdown",
   "metadata": {},
   "source": [
    "### with new features of Shiwen"
   ]
  },
  {
   "cell_type": "code",
   "execution_count": 9,
   "metadata": {},
   "outputs": [
    {
     "data": {
      "text/html": [
       "<div>\n",
       "<style>\n",
       "    .dataframe thead tr:only-child th {\n",
       "        text-align: right;\n",
       "    }\n",
       "\n",
       "    .dataframe thead th {\n",
       "        text-align: left;\n",
       "    }\n",
       "\n",
       "    .dataframe tbody tr th {\n",
       "        vertical-align: top;\n",
       "    }\n",
       "</style>\n",
       "<table border=\"1\" class=\"dataframe\">\n",
       "  <thead>\n",
       "    <tr style=\"text-align: right;\">\n",
       "      <th></th>\n",
       "      <th>id1</th>\n",
       "      <th>id2</th>\n",
       "      <th>link</th>\n",
       "      <th>rno1</th>\n",
       "      <th>rno2</th>\n",
       "      <th>sim</th>\n",
       "      <th>year1</th>\n",
       "      <th>year2</th>\n",
       "      <th>year_diff</th>\n",
       "      <th>common_authors</th>\n",
       "      <th>cn</th>\n",
       "      <th>aai</th>\n",
       "      <th>title_overlap</th>\n",
       "    </tr>\n",
       "  </thead>\n",
       "  <tbody>\n",
       "    <tr>\n",
       "      <th>0</th>\n",
       "      <td>9510123</td>\n",
       "      <td>9502114</td>\n",
       "      <td>1</td>\n",
       "      <td>16827</td>\n",
       "      <td>15446</td>\n",
       "      <td>0.064373</td>\n",
       "      <td>1995</td>\n",
       "      <td>1995</td>\n",
       "      <td>0</td>\n",
       "      <td>0</td>\n",
       "      <td>1</td>\n",
       "      <td>0.513898</td>\n",
       "      <td>2</td>\n",
       "    </tr>\n",
       "    <tr>\n",
       "      <th>1</th>\n",
       "      <td>9707075</td>\n",
       "      <td>9604178</td>\n",
       "      <td>1</td>\n",
       "      <td>21154</td>\n",
       "      <td>18059</td>\n",
       "      <td>0.021211</td>\n",
       "      <td>1997</td>\n",
       "      <td>1996</td>\n",
       "      <td>1</td>\n",
       "      <td>0</td>\n",
       "      <td>20</td>\n",
       "      <td>4.320366</td>\n",
       "      <td>1</td>\n",
       "    </tr>\n",
       "    <tr>\n",
       "      <th>2</th>\n",
       "      <td>9312155</td>\n",
       "      <td>9506142</td>\n",
       "      <td>0</td>\n",
       "      <td>13074</td>\n",
       "      <td>16171</td>\n",
       "      <td>0.017202</td>\n",
       "      <td>1993</td>\n",
       "      <td>1995</td>\n",
       "      <td>-2</td>\n",
       "      <td>0</td>\n",
       "      <td>0</td>\n",
       "      <td>0.000000</td>\n",
       "      <td>0</td>\n",
       "    </tr>\n",
       "    <tr>\n",
       "      <th>3</th>\n",
       "      <td>9911255</td>\n",
       "      <td>302165</td>\n",
       "      <td>0</td>\n",
       "      <td>27486</td>\n",
       "      <td>9702</td>\n",
       "      <td>0.012634</td>\n",
       "      <td>1999</td>\n",
       "      <td>2003</td>\n",
       "      <td>-4</td>\n",
       "      <td>0</td>\n",
       "      <td>0</td>\n",
       "      <td>0.000000</td>\n",
       "      <td>0</td>\n",
       "    </tr>\n",
       "    <tr>\n",
       "      <th>4</th>\n",
       "      <td>9701033</td>\n",
       "      <td>209076</td>\n",
       "      <td>0</td>\n",
       "      <td>19856</td>\n",
       "      <td>8212</td>\n",
       "      <td>0.059588</td>\n",
       "      <td>1997</td>\n",
       "      <td>2002</td>\n",
       "      <td>-5</td>\n",
       "      <td>0</td>\n",
       "      <td>0</td>\n",
       "      <td>0.000000</td>\n",
       "      <td>0</td>\n",
       "    </tr>\n",
       "  </tbody>\n",
       "</table>\n",
       "</div>"
      ],
      "text/plain": [
       "       id1      id2  link   rno1   rno2       sim  year1  year2  year_diff  \\\n",
       "0  9510123  9502114     1  16827  15446  0.064373   1995   1995          0   \n",
       "1  9707075  9604178     1  21154  18059  0.021211   1997   1996          1   \n",
       "2  9312155  9506142     0  13074  16171  0.017202   1993   1995         -2   \n",
       "3  9911255   302165     0  27486   9702  0.012634   1999   2003         -4   \n",
       "4  9701033   209076     0  19856   8212  0.059588   1997   2002         -5   \n",
       "\n",
       "   common_authors  cn       aai  title_overlap  \n",
       "0               0   1  0.513898              2  \n",
       "1               0  20  4.320366              1  \n",
       "2               0   0  0.000000              0  \n",
       "3               0   0  0.000000              0  \n",
       "4               0   0  0.000000              0  "
      ]
     },
     "execution_count": 9,
     "metadata": {},
     "output_type": "execute_result"
    }
   ],
   "source": [
    "train_set = pd.read_csv('data/train_treated.csv')\n",
    "train_set.head()"
   ]
  },
  {
   "cell_type": "code",
   "execution_count": 10,
   "metadata": {
    "collapsed": true
   },
   "outputs": [],
   "source": [
    "X_train = train_set.loc[:,['sim', 'year_diff', 'common_authors', 'cn', 'aai', 'title_overlap']]\n",
    "y_train = train_set.loc[:,'link']\n",
    "scaler = MinMaxScaler()\n",
    "X_train = scaler.fit_transform(X_train)\n",
    "X_train, y_train = shuffle(X_train, y_train, random_state=0)"
   ]
  },
  {
   "cell_type": "code",
   "execution_count": 11,
   "metadata": {
    "collapsed": true
   },
   "outputs": [],
   "source": [
    "c_range = list(np.arange(0.1,1,0.1))+list(np.arange(1,10))+list(np.arange(10,1000,20))\n",
    "f1_scores_new5f = []\n",
    "for c in c_range:\n",
    "    clf_svc = svm.LinearSVC(penalty='l2', C=c)\n",
    "    scores_svc = cross_val_score(clf_svc, X_train, y_train, cv=5, scoring='f1')\n",
    "    f1_scores_new5f.append(np.mean(scores_svc))"
   ]
  },
  {
   "cell_type": "code",
   "execution_count": 12,
   "metadata": {},
   "outputs": [
    {
     "name": "stderr",
     "output_type": "stream",
     "text": [
      "/home/wangsun/anaconda3/lib/python3.5/site-packages/matplotlib/axes/_axes.py:545: UserWarning: No labelled objects found. Use label='...' kwarg on individual plots.\n",
      "  warnings.warn(\"No labelled objects found. \"\n"
     ]
    },
    {
     "data": {
      "image/png": "[encoded data removed]",
      "text/plain": [
       "<matplotlib.figure.Figure at 0x7fe49d865ba8>"
      ]
     },
     "metadata": {},
     "output_type": "display_data"
    }
   ],
   "source": [
    "plt.plot(c_range, f1_scores_new5f)\n",
    "plt.xlabel('Value of C')\n",
    "plt.ylabel('Cross validation f1 score')\n",
    "plt.title('LR')\n",
    "plt.legend()\n",
    "plt.show()"
   ]
  },
  {
   "cell_type": "code",
   "execution_count": 18,
   "metadata": {
    "scrolled": true
   },
   "outputs": [
    {
     "data": {
      "text/plain": [
       "[(0.1, 0.9076774451683134),\n",
       " (0.2, 0.9214110638256525),\n",
       " (0.30000000000000004, 0.928209224805264),\n",
       " (0.4, 0.9324409263092166),\n",
       " (0.5, 0.9356139615630802),\n",
       " (0.6, 0.9378887444408285),\n",
       " (0.7000000000000001, 0.9397064449379595),\n",
       " (0.8, 0.9411429721735536),\n",
       " (0.9, 0.9424023907849577),\n",
       " (1, 0.9434546385314269),\n",
       " (2, 0.9494095519589578),\n",
       " (3, 0.9520244517457643),\n",
       " (4, 0.9536030785551082),\n",
       " (5, 0.9546096368854202),\n",
       " (6, 0.9553140025816635),\n",
       " (7, 0.9558491902087265),\n",
       " (8, 0.956275607999404),\n",
       " (9, 0.9565391964180071),\n",
       " (10, 0.956866292006114),\n",
       " (30, 0.9590609609247277),\n",
       " (50, 0.9597925216343807),\n",
       " (70, 0.96028197504288),\n",
       " (90, 0.9603747693478928),\n",
       " (110, 0.9606018290273296),\n",
       " (130, 0.96062562198744),\n",
       " (150, 0.9605728413552226),\n",
       " (170, 0.960035805205734),\n",
       " (190, 0.9602416909114553),\n",
       " (210, 0.9629301998230588),\n",
       " (230, 0.9612220161638616),\n",
       " (250, 0.9617927137319988),\n",
       " (270, 0.9612220291472349),\n",
       " (290, 0.9587044294547875),\n",
       " (310, 0.9577086475958753),\n",
       " (330, 0.9610897562076758),\n",
       " (350, 0.9607363701935657),\n",
       " (370, 0.9565737828512055),\n",
       " (390, 0.9603765904483106),\n",
       " (410, 0.9557378491948884),\n",
       " (430, 0.9598435217309648),\n",
       " (450, 0.9610368804459004),\n",
       " (470, 0.9631062805627902),\n",
       " (490, 0.9585408256538079),\n",
       " (510, 0.95920005761547),\n",
       " (530, 0.9586622170362137),\n",
       " (550, 0.9580986797802368),\n",
       " (570, 0.9590111108622752),\n",
       " (590, 0.9490269351511976),\n",
       " (610, 0.9550870037217949),\n",
       " (630, 0.9517723283949868),\n",
       " (650, 0.9584811980181387),\n",
       " (670, 0.960273276884004),\n",
       " (690, 0.9591758475107686),\n",
       " (710, 0.9569958815693418),\n",
       " (730, 0.962344412356656),\n",
       " (750, 0.9512195334386544),\n",
       " (770, 0.9567318169717313),\n",
       " (790, 0.9577334805145721),\n",
       " (810, 0.9461507341795599),\n",
       " (830, 0.9442981250386262),\n",
       " (850, 0.8988741023443216),\n",
       " (870, 0.9580879854343565),\n",
       " (890, 0.9398100124533999),\n",
       " (910, 0.9530607275339698),\n",
       " (930, 0.9580493143371092),\n",
       " (950, 0.9586380729971713),\n",
       " (970, 0.9227308878904182),\n",
       " (990, 0.9576620189332052)]"
      ]
     },
     "execution_count": 18,
     "metadata": {},
     "output_type": "execute_result"
    }
   ],
   "source": [
    "list(zip(c_range,f1_scores_new5f))"
   ]
  },
  {
   "cell_type": "markdown",
   "metadata": {},
   "source": [
    "This result is not overfitting."
   ]
  },
  {
   "cell_type": "markdown",
   "metadata": {},
   "source": [
    "### replace 5 old features with 5 new ones"
   ]
  },
  {
   "cell_type": "code",
   "execution_count": 13,
   "metadata": {},
   "outputs": [
    {
     "data": {
      "text/html": [
       "<div>\n",
       "<style>\n",
       "    .dataframe thead tr:only-child th {\n",
       "        text-align: right;\n",
       "    }\n",
       "\n",
       "    .dataframe thead th {\n",
       "        text-align: left;\n",
       "    }\n",
       "\n",
       "    .dataframe tbody tr th {\n",
       "        vertical-align: top;\n",
       "    }\n",
       "</style>\n",
       "<table border=\"1\" class=\"dataframe\">\n",
       "  <thead>\n",
       "    <tr style=\"text-align: right;\">\n",
       "      <th></th>\n",
       "      <th>id1</th>\n",
       "      <th>id2</th>\n",
       "      <th>link</th>\n",
       "      <th>rno1</th>\n",
       "      <th>rno2</th>\n",
       "      <th>sim</th>\n",
       "      <th>year1</th>\n",
       "      <th>year2</th>\n",
       "      <th>year_diff</th>\n",
       "      <th>common_authors</th>\n",
       "      <th>cn</th>\n",
       "      <th>aai</th>\n",
       "      <th>title_overlap</th>\n",
       "    </tr>\n",
       "  </thead>\n",
       "  <tbody>\n",
       "    <tr>\n",
       "      <th>0</th>\n",
       "      <td>9510123</td>\n",
       "      <td>9502114</td>\n",
       "      <td>1</td>\n",
       "      <td>16827</td>\n",
       "      <td>15446</td>\n",
       "      <td>0.064373</td>\n",
       "      <td>1995</td>\n",
       "      <td>1995</td>\n",
       "      <td>0</td>\n",
       "      <td>0</td>\n",
       "      <td>1</td>\n",
       "      <td>0.513898</td>\n",
       "      <td>2</td>\n",
       "    </tr>\n",
       "    <tr>\n",
       "      <th>1</th>\n",
       "      <td>9707075</td>\n",
       "      <td>9604178</td>\n",
       "      <td>1</td>\n",
       "      <td>21154</td>\n",
       "      <td>18059</td>\n",
       "      <td>0.021211</td>\n",
       "      <td>1997</td>\n",
       "      <td>1996</td>\n",
       "      <td>1</td>\n",
       "      <td>0</td>\n",
       "      <td>20</td>\n",
       "      <td>4.320366</td>\n",
       "      <td>1</td>\n",
       "    </tr>\n",
       "    <tr>\n",
       "      <th>2</th>\n",
       "      <td>9312155</td>\n",
       "      <td>9506142</td>\n",
       "      <td>0</td>\n",
       "      <td>13074</td>\n",
       "      <td>16171</td>\n",
       "      <td>0.017202</td>\n",
       "      <td>1993</td>\n",
       "      <td>1995</td>\n",
       "      <td>-2</td>\n",
       "      <td>0</td>\n",
       "      <td>0</td>\n",
       "      <td>0.000000</td>\n",
       "      <td>0</td>\n",
       "    </tr>\n",
       "    <tr>\n",
       "      <th>3</th>\n",
       "      <td>9911255</td>\n",
       "      <td>302165</td>\n",
       "      <td>0</td>\n",
       "      <td>27486</td>\n",
       "      <td>9702</td>\n",
       "      <td>0.012634</td>\n",
       "      <td>1999</td>\n",
       "      <td>2003</td>\n",
       "      <td>-4</td>\n",
       "      <td>0</td>\n",
       "      <td>0</td>\n",
       "      <td>0.000000</td>\n",
       "      <td>0</td>\n",
       "    </tr>\n",
       "    <tr>\n",
       "      <th>4</th>\n",
       "      <td>9701033</td>\n",
       "      <td>209076</td>\n",
       "      <td>0</td>\n",
       "      <td>19856</td>\n",
       "      <td>8212</td>\n",
       "      <td>0.059588</td>\n",
       "      <td>1997</td>\n",
       "      <td>2002</td>\n",
       "      <td>-5</td>\n",
       "      <td>0</td>\n",
       "      <td>0</td>\n",
       "      <td>0.000000</td>\n",
       "      <td>0</td>\n",
       "    </tr>\n",
       "  </tbody>\n",
       "</table>\n",
       "</div>"
      ],
      "text/plain": [
       "       id1      id2  link   rno1   rno2       sim  year1  year2  year_diff  \\\n",
       "0  9510123  9502114     1  16827  15446  0.064373   1995   1995          0   \n",
       "1  9707075  9604178     1  21154  18059  0.021211   1997   1996          1   \n",
       "2  9312155  9506142     0  13074  16171  0.017202   1993   1995         -2   \n",
       "3  9911255   302165     0  27486   9702  0.012634   1999   2003         -4   \n",
       "4  9701033   209076     0  19856   8212  0.059588   1997   2002         -5   \n",
       "\n",
       "   common_authors  cn       aai  title_overlap  \n",
       "0               0   1  0.513898              2  \n",
       "1               0  20  4.320366              1  \n",
       "2               0   0  0.000000              0  \n",
       "3               0   0  0.000000              0  \n",
       "4               0   0  0.000000              0  "
      ]
     },
     "execution_count": 13,
     "metadata": {},
     "output_type": "execute_result"
    }
   ],
   "source": [
    "train1 = pd.read_csv('data/train_treated.csv')\n",
    "train1.head()"
   ]
  },
  {
   "cell_type": "code",
   "execution_count": 14,
   "metadata": {},
   "outputs": [
    {
     "data": {
      "text/html": [
       "<div>\n",
       "<style>\n",
       "    .dataframe thead tr:only-child th {\n",
       "        text-align: right;\n",
       "    }\n",
       "\n",
       "    .dataframe thead th {\n",
       "        text-align: left;\n",
       "    }\n",
       "\n",
       "    .dataframe tbody tr th {\n",
       "        vertical-align: top;\n",
       "    }\n",
       "</style>\n",
       "<table border=\"1\" class=\"dataframe\">\n",
       "  <thead>\n",
       "    <tr style=\"text-align: right;\">\n",
       "      <th></th>\n",
       "      <th>id1</th>\n",
       "      <th>id2</th>\n",
       "      <th>res_allo_ind</th>\n",
       "      <th>overlap_title</th>\n",
       "      <th>temp_diff</th>\n",
       "      <th>comm_auth</th>\n",
       "      <th>reduced_tfidf_sim</th>\n",
       "      <th>jaccard_coeff</th>\n",
       "      <th>tgt_citation</th>\n",
       "      <th>labels</th>\n",
       "    </tr>\n",
       "  </thead>\n",
       "  <tbody>\n",
       "    <tr>\n",
       "      <th>0</th>\n",
       "      <td>9510123</td>\n",
       "      <td>9502114</td>\n",
       "      <td>0.142857</td>\n",
       "      <td>2</td>\n",
       "      <td>0</td>\n",
       "      <td>0</td>\n",
       "      <td>0.242161</td>\n",
       "      <td>0.176471</td>\n",
       "      <td>8</td>\n",
       "      <td>1</td>\n",
       "    </tr>\n",
       "    <tr>\n",
       "      <th>1</th>\n",
       "      <td>9707075</td>\n",
       "      <td>9604178</td>\n",
       "      <td>0.226401</td>\n",
       "      <td>1</td>\n",
       "      <td>1</td>\n",
       "      <td>0</td>\n",
       "      <td>0.116740</td>\n",
       "      <td>0.106796</td>\n",
       "      <td>124</td>\n",
       "      <td>1</td>\n",
       "    </tr>\n",
       "    <tr>\n",
       "      <th>2</th>\n",
       "      <td>9312155</td>\n",
       "      <td>9506142</td>\n",
       "      <td>0.000000</td>\n",
       "      <td>0</td>\n",
       "      <td>-2</td>\n",
       "      <td>0</td>\n",
       "      <td>0.067705</td>\n",
       "      <td>0.000000</td>\n",
       "      <td>2</td>\n",
       "      <td>0</td>\n",
       "    </tr>\n",
       "    <tr>\n",
       "      <th>3</th>\n",
       "      <td>9911255</td>\n",
       "      <td>302165</td>\n",
       "      <td>0.000000</td>\n",
       "      <td>0</td>\n",
       "      <td>-4</td>\n",
       "      <td>0</td>\n",
       "      <td>0.054771</td>\n",
       "      <td>0.000000</td>\n",
       "      <td>2</td>\n",
       "      <td>0</td>\n",
       "    </tr>\n",
       "    <tr>\n",
       "      <th>4</th>\n",
       "      <td>9701033</td>\n",
       "      <td>209076</td>\n",
       "      <td>0.000000</td>\n",
       "      <td>0</td>\n",
       "      <td>-5</td>\n",
       "      <td>0</td>\n",
       "      <td>0.220903</td>\n",
       "      <td>0.000000</td>\n",
       "      <td>2</td>\n",
       "      <td>0</td>\n",
       "    </tr>\n",
       "  </tbody>\n",
       "</table>\n",
       "</div>"
      ],
      "text/plain": [
       "       id1      id2  res_allo_ind  overlap_title  temp_diff  comm_auth  \\\n",
       "0  9510123  9502114      0.142857              2          0          0   \n",
       "1  9707075  9604178      0.226401              1          1          0   \n",
       "2  9312155  9506142      0.000000              0         -2          0   \n",
       "3  9911255   302165      0.000000              0         -4          0   \n",
       "4  9701033   209076      0.000000              0         -5          0   \n",
       "\n",
       "   reduced_tfidf_sim  jaccard_coeff  tgt_citation  labels  \n",
       "0           0.242161       0.176471             8       1  \n",
       "1           0.116740       0.106796           124       1  \n",
       "2           0.067705       0.000000             2       0  \n",
       "3           0.054771       0.000000             2       0  \n",
       "4           0.220903       0.000000             2       0  "
      ]
     },
     "execution_count": 14,
     "metadata": {},
     "output_type": "execute_result"
    }
   ],
   "source": [
    "train2 = pd.read_csv('data/train_nx_ig_v3.csv')\n",
    "train2.head()"
   ]
  },
  {
   "cell_type": "code",
   "execution_count": 15,
   "metadata": {
    "collapsed": true
   },
   "outputs": [],
   "source": [
    "X_train = pd.concat([train1.loc[:,['title_overlap', 'year_diff','common_authors','sim','cn','aai']], train2.loc[:,['jaccard_coeff','tgt_citation']]], axis=1)\n",
    "y_train = train1.loc[:,'link']\n",
    "scaler = MinMaxScaler()\n",
    "X_train = scaler.fit_transform(X_train)\n",
    "X_train, y_train = shuffle(X_train, y_train, random_state=0)"
   ]
  },
  {
   "cell_type": "code",
   "execution_count": 16,
   "metadata": {
    "collapsed": true
   },
   "outputs": [],
   "source": [
    "c_range = list(np.arange(0.1,1,0.1))+list(np.arange(1,10))+list(np.arange(10,1000,20))\n",
    "f1_scores_new7f = []\n",
    "for c in c_range:\n",
    "    clf_svc = svm.LinearSVC(penalty='l2', C=c)\n",
    "    scores_svc = cross_val_score(clf_svc, X_train, y_train, cv=5, scoring='f1')\n",
    "    f1_scores_new7f.append(np.mean(scores_svc))"
   ]
  },
  {
   "cell_type": "code",
   "execution_count": 17,
   "metadata": {},
   "outputs": [
    {
     "name": "stderr",
     "output_type": "stream",
     "text": [
      "/home/wangsun/anaconda3/lib/python3.5/site-packages/matplotlib/axes/_axes.py:545: UserWarning: No labelled objects found. Use label='...' kwarg on individual plots.\n",
      "  warnings.warn(\"No labelled objects found. \"\n"
     ]
    },
    {
     "data": {
      "image/png": "[encoded data removed]",
      "text/plain": [
       "<matplotlib.figure.Figure at 0x7fe49887ad68>"
      ]
     },
     "metadata": {},
     "output_type": "display_data"
    }
   ],
   "source": [
    "plt.plot(c_range, f1_scores_new7f)\n",
    "plt.xlabel('Value of C')\n",
    "plt.ylabel('Cross validation f1 score')\n",
    "plt.title('LR')\n",
    "plt.legend()\n",
    "plt.show()"
   ]
  },
  {
   "cell_type": "markdown",
   "metadata": {},
   "source": [
    "This result is overfitting because of jaccard coefficient"
   ]
  },
  {
   "cell_type": "markdown",
   "metadata": {},
   "source": [
    "### Trials of features"
   ]
  },
  {
   "cell_type": "markdown",
   "metadata": {},
   "source": [
    "#### 6 new features + tgt citation"
   ]
  },
  {
   "cell_type": "code",
   "execution_count": 2,
   "metadata": {
    "collapsed": true
   },
   "outputs": [],
   "source": [
    "train1 = pd.read_csv('data/train_treated.csv')\n",
    "train2 = pd.read_csv('data/train_nx_ig_v2.csv')\n",
    "X_train = pd.concat([train1.loc[:,['title_overlap', 'year_diff','common_authors','sim','cn','aai']], train2.loc[:,['tgt_citation']]], axis=1)\n",
    "y_train = train1.loc[:,'link']\n",
    "scaler = MinMaxScaler()\n",
    "X_train = scaler.fit_transform(X_train)\n",
    "X_train, y_train = shuffle(X_train, y_train, random_state=0)"
   ]
  },
  {
   "cell_type": "code",
   "execution_count": 3,
   "metadata": {
    "collapsed": true
   },
   "outputs": [],
   "source": [
    "c_range = list(np.arange(0.1,1,0.1))+list(np.arange(1,10))+list(np.arange(10,1000,20))\n",
    "f1_scores_new6f_tgt = []\n",
    "for c in c_range:\n",
    "    clf_svc = svm.LinearSVC(penalty='l2', C=c)\n",
    "    scores_svc = cross_val_score(clf_svc, X_train, y_train, cv=5, scoring='f1')\n",
    "    f1_scores_new6f_tgt.append(np.mean(scores_svc))"
   ]
  },
  {
   "cell_type": "code",
   "execution_count": 4,
   "metadata": {},
   "outputs": [
    {
     "name": "stderr",
     "output_type": "stream",
     "text": [
      "/home/wangsun/anaconda3/lib/python3.5/site-packages/matplotlib/axes/_axes.py:545: UserWarning: No labelled objects found. Use label='...' kwarg on individual plots.\n",
      "  warnings.warn(\"No labelled objects found. \"\n"
     ]
    },
    {
     "data": {
      "image/png": "[encoded data removed]",
      "text/plain": [
       "<matplotlib.figure.Figure at 0x7ff402416a20>"
      ]
     },
     "metadata": {},
     "output_type": "display_data"
    }
   ],
   "source": [
    "plt.plot(c_range, f1_scores_new6f_tgt)\n",
    "plt.xlabel('Value of C')\n",
    "plt.ylabel('Cross validation f1 score')\n",
    "plt.title('LR')\n",
    "plt.legend()\n",
    "plt.show()"
   ]
  },
  {
   "cell_type": "markdown",
   "metadata": {
    "collapsed": true
   },
   "source": [
    "#### 6 new features + tgt citation + rai"
   ]
  },
  {
   "cell_type": "code",
   "execution_count": 5,
   "metadata": {
    "collapsed": true
   },
   "outputs": [],
   "source": [
    "train1 = pd.read_csv('data/train_treated.csv')\n",
    "train2 = pd.read_csv('data/train_nx_ig_v2.csv')\n",
    "X_train = pd.concat([train1.loc[:,['title_overlap', 'year_diff','common_authors','sim','cn','aai']], train2.loc[:,['res_allo_ind','tgt_citation']]], axis=1)\n",
    "y_train = train1.loc[:,'link']\n",
    "scaler = MinMaxScaler()\n",
    "X_train = scaler.fit_transform(X_train)\n",
    "X_train, y_train = shuffle(X_train, y_train, random_state=0)"
   ]
  },
  {
   "cell_type": "code",
   "execution_count": 6,
   "metadata": {
    "collapsed": true
   },
   "outputs": [],
   "source": [
    "c_range = list(np.arange(0.1,1,0.1))+list(np.arange(1,10))+list(np.arange(10,1000,20))\n",
    "f1_scores_new6f_tgt_rai = []\n",
    "for c in c_range:\n",
    "    clf_svc = svm.LinearSVC(penalty='l2', C=c)\n",
    "    scores_svc = cross_val_score(clf_svc, X_train, y_train, cv=5, scoring='f1')\n",
    "    f1_scores_new6f_tgt_rai.append(np.mean(scores_svc))"
   ]
  },
  {
   "cell_type": "code",
   "execution_count": 7,
   "metadata": {},
   "outputs": [
    {
     "name": "stderr",
     "output_type": "stream",
     "text": [
      "/home/wangsun/anaconda3/lib/python3.5/site-packages/matplotlib/axes/_axes.py:545: UserWarning: No labelled objects found. Use label='...' kwarg on individual plots.\n",
      "  warnings.warn(\"No labelled objects found. \"\n"
     ]
    },
    {
     "data": {
      "image/png": "[encoded data removed]",
      "text/plain": [
       "<matplotlib.figure.Figure at 0x7ff4023de828>"
      ]
     },
     "metadata": {},
     "output_type": "display_data"
    }
   ],
   "source": [
    "plt.plot(c_range, f1_scores_new6f_tgt_rai)\n",
    "plt.xlabel('Value of C')\n",
    "plt.ylabel('Cross validation f1 score')\n",
    "plt.title('LR')\n",
    "plt.legend()\n",
    "plt.show()"
   ]
  },
  {
   "cell_type": "markdown",
   "metadata": {},
   "source": [
    "#### 6 new features + tgt citation + rai + jaccard_nx"
   ]
  },
  {
   "cell_type": "code",
   "execution_count": 8,
   "metadata": {
    "collapsed": true
   },
   "outputs": [],
   "source": [
    "train1 = pd.read_csv('data/train_treated.csv')\n",
    "train2 = pd.read_csv('data/train_nx_ig_v2.csv')\n",
    "X_train = pd.concat([train1.loc[:,['title_overlap', 'year_diff','common_authors','sim','cn','aai']], train2.loc[:,['res_allo_ind','tgt_citation', 'jaccard_nx']]], axis=1)\n",
    "y_train = train1.loc[:,'link']\n",
    "scaler = MinMaxScaler()\n",
    "X_train = scaler.fit_transform(X_train)\n",
    "X_train, y_train = shuffle(X_train, y_train, random_state=0)"
   ]
  },
  {
   "cell_type": "code",
   "execution_count": 9,
   "metadata": {
    "collapsed": true
   },
   "outputs": [],
   "source": [
    "c_range = list(np.arange(0.1,1,0.1))+list(np.arange(1,10))+list(np.arange(10,1000,20))\n",
    "f1_scores_new6f_tgt_rai_jnx = []\n",
    "for c in c_range:\n",
    "    clf_svc = svm.LinearSVC(penalty='l2', C=c)\n",
    "    scores_svc = cross_val_score(clf_svc, X_train, y_train, cv=5, scoring='f1')\n",
    "    f1_scores_new6f_tgt_rai_jnx.append(np.mean(scores_svc))"
   ]
  },
  {
   "cell_type": "code",
   "execution_count": 10,
   "metadata": {},
   "outputs": [
    {
     "name": "stderr",
     "output_type": "stream",
     "text": [
      "/home/wangsun/anaconda3/lib/python3.5/site-packages/matplotlib/axes/_axes.py:545: UserWarning: No labelled objects found. Use label='...' kwarg on individual plots.\n",
      "  warnings.warn(\"No labelled objects found. \"\n"
     ]
    },
    {
     "data": {
      "image/png": "[encoded data removed]",
      "text/plain": [
       "<matplotlib.figure.Figure at 0x7ff3fea1bd30>"
      ]
     },
     "metadata": {},
     "output_type": "display_data"
    }
   ],
   "source": [
    "plt.plot(c_range, f1_scores_new6f_tgt_rai_jnx)\n",
    "plt.xlabel('Value of C')\n",
    "plt.ylabel('Cross validation f1 score')\n",
    "plt.title('LR')\n",
    "plt.legend()\n",
    "plt.show()"
   ]
  },
  {
   "cell_type": "markdown",
   "metadata": {
    "collapsed": true
   },
   "source": [
    "### Train, predict and output"
   ]
  },
  {
   "cell_type": "code",
   "execution_count": null,
   "metadata": {
    "collapsed": true
   },
   "outputs": [],
   "source": [
    "clf_svc = svm.LinearSVC(penalty='l2', C=)\n",
    "# clf_svc_poly = svm.SVC(C=, kernel='poly', degree=2)\n",
    "clf_svc.fit(X_train, y_train)"
   ]
  },
  {
   "cell_type": "code",
   "execution_count": null,
   "metadata": {
    "collapsed": true
   },
   "outputs": [],
   "source": [
    "test_set = pd.read_csv('data/test_nx_ig_v3.csv')\n",
    "X_test = test_set.iloc[:,2:]\n",
    "y_test = clf_svc.predict(X_test)\n",
    "# y_test = clf_svc_poly.predict(X_test)"
   ]
  },
  {
   "cell_type": "code",
   "execution_count": null,
   "metadata": {
    "collapsed": true
   },
   "outputs": [],
   "source": [
    "df = pd.DataFrame(y_test, columns=['category'])\n",
    "df.index.name = 'id'\n",
    "df.to_csv('result/svm1.csv', index=True, header=True)\n",
    "# df.to_csv('result/svm2.csv', index=True, header=False)"
   ]
  },
  {
   "cell_type": "code",
   "execution_count": null,
   "metadata": {
    "collapsed": true
   },
   "outputs": [],
   "source": []
  },
  {
   "cell_type": "markdown",
   "metadata": {},
   "source": [
    "#### new new features"
   ]
  },
  {
   "cell_type": "code",
   "execution_count": null,
   "metadata": {
    "collapsed": true
   },
   "outputs": [],
   "source": []
  },
  {
   "cell_type": "code",
   "execution_count": null,
   "metadata": {
    "collapsed": true
   },
   "outputs": [],
   "source": []
  },
  {
   "cell_type": "code",
   "execution_count": null,
   "metadata": {
    "collapsed": true
   },
   "outputs": [],
   "source": []
  },
  {
   "cell_type": "markdown",
   "metadata": {},
   "source": [
    "### to stack"
   ]
  },
  {
   "cell_type": "code",
   "execution_count": 2,
   "metadata": {
    "collapsed": true
   },
   "outputs": [],
   "source": [
    "train1 = pd.read_csv('../data/train_stacked.csv')\n",
    "train2 = pd.read_csv('../data/train_nx_ig_v2.csv')\n",
    "X_train = pd.concat([train1.loc[:,['sim','cn','year_diff','common_authors','title_overlap','journal_overlap','centroid_sim','wmd']], train2.loc[:,['tgt_citation','jaccard_nx']]], axis=1)\n",
    "y_train = train1.loc[:,'link']\n",
    "scaler = MinMaxScaler()\n",
    "X_train = scaler.fit_transform(X_train)\n",
    "\n",
    "# X_train_cv, y_train_cv = shuffle(X_train, y_train, random_state=0)\n",
    "# clf_svc = svm.LinearSVC(penalty='l2', C=200)\n",
    "# print (cross_val_score(clf_svc, X_train_cv, y_train_cv, cv=5, scoring='f1'))"
   ]
  },
  {
   "cell_type": "code",
   "execution_count": 3,
   "metadata": {
    "collapsed": true
   },
   "outputs": [],
   "source": [
    "clf_svc = svm.LinearSVC(penalty='l2', C=200)\n",
    "clf_svc.fit(X_train, y_train)\n",
    "# y_train_pred = clf_svc.predict(X_train)\n",
    "# train1['svc_stack'] = y_train_pred\n",
    "# train1.to_csv('../data/train_stacked.csv', index=False)\n",
    "\n",
    "test1 = pd.read_csv('../data/test_stacked.csv')\n",
    "test2 = pd.read_csv('../data/test_nx_ig_v2.csv')\n",
    "X_test = pd.concat([test1.loc[:,['sim','cn','year_diff','common_authors','title_overlap','journal_overlap','centroid_sim','wmd']], test2.loc[:,['tgt_citation','jaccard_nx']]], axis=1)\n",
    "X_test = scaler.transform(X_test)\n",
    "y_test_pred = clf_svc.predict(X_test)\n",
    "# test1['svc_stack'] = y_test_pred\n",
    "# test1.to_csv('../data/test_stacked.csv', index=False)"
   ]
  },
  {
   "cell_type": "code",
   "execution_count": 4,
   "metadata": {
    "collapsed": true
   },
   "outputs": [],
   "source": [
    "df = pd.DataFrame(y_test_pred, columns=['category'])\n",
    "df.index.name = 'id'\n",
    "df.to_csv('../result/svc_new3.csv', index=True, header=True)"
   ]
  },
  {
   "cell_type": "code",
   "execution_count": null,
   "metadata": {
    "collapsed": true
   },
   "outputs": [],
   "source": []
  }
 ],
 "metadata": {
  "anaconda-cloud": {},
  "kernelspec": {
   "display_name": "Python [default]",
   "language": "python",
   "name": "python3"
  },
  "language_info": {
   "codemirror_mode": {
    "name": "ipython",
    "version": 3
   },
   "file_extension": ".py",
   "mimetype": "text/x-python",
   "name": "python",
   "nbconvert_exporter": "python",
   "pygments_lexer": "ipython3",
   "version": "3.5.4"
  }
 },
 "nbformat": 4,
 "nbformat_minor": 2
}
