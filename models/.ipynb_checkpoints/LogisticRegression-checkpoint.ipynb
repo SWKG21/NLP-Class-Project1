{
 "cells": [
  {
   "cell_type": "code",
   "execution_count": 2,
   "metadata": {
    "collapsed": true
   },
   "outputs": [],
   "source": [
    "import pandas as pd\n",
    "import numpy as np\n",
    "import matplotlib.pyplot as plt\n",
    "\n",
    "from sklearn.model_selection import cross_val_score\n",
    "from sklearn.utils import shuffle\n",
    "from sklearn.preprocessing import PolynomialFeatures, MinMaxScaler\n",
    "from sklearn.linear_model import LogisticRegression"
   ]
  },
  {
   "cell_type": "markdown",
   "metadata": {},
   "source": [
    "### CV for Old features"
   ]
  },
  {
   "cell_type": "code",
   "execution_count": 94,
   "metadata": {},
   "outputs": [
    {
     "data": {
      "text/html": [
       "<div>\n",
       "<style>\n",
       "    .dataframe thead tr:only-child th {\n",
       "        text-align: right;\n",
       "    }\n",
       "\n",
       "    .dataframe thead th {\n",
       "        text-align: left;\n",
       "    }\n",
       "\n",
       "    .dataframe tbody tr th {\n",
       "        vertical-align: top;\n",
       "    }\n",
       "</style>\n",
       "<table border=\"1\" class=\"dataframe\">\n",
       "  <thead>\n",
       "    <tr style=\"text-align: right;\">\n",
       "      <th></th>\n",
       "      <th>id1</th>\n",
       "      <th>id2</th>\n",
       "      <th>res_allo_ind</th>\n",
       "      <th>overlap_title</th>\n",
       "      <th>temp_diff</th>\n",
       "      <th>comm_auth</th>\n",
       "      <th>reduced_tfidf_sim</th>\n",
       "      <th>jaccard_coeff</th>\n",
       "      <th>tgt_citation</th>\n",
       "      <th>labels</th>\n",
       "    </tr>\n",
       "  </thead>\n",
       "  <tbody>\n",
       "    <tr>\n",
       "      <th>0</th>\n",
       "      <td>9510123</td>\n",
       "      <td>9502114</td>\n",
       "      <td>0.142857</td>\n",
       "      <td>2</td>\n",
       "      <td>0</td>\n",
       "      <td>0</td>\n",
       "      <td>0.242161</td>\n",
       "      <td>0.176471</td>\n",
       "      <td>8</td>\n",
       "      <td>1</td>\n",
       "    </tr>\n",
       "    <tr>\n",
       "      <th>1</th>\n",
       "      <td>9707075</td>\n",
       "      <td>9604178</td>\n",
       "      <td>0.226401</td>\n",
       "      <td>1</td>\n",
       "      <td>1</td>\n",
       "      <td>0</td>\n",
       "      <td>0.116740</td>\n",
       "      <td>0.106796</td>\n",
       "      <td>124</td>\n",
       "      <td>1</td>\n",
       "    </tr>\n",
       "    <tr>\n",
       "      <th>2</th>\n",
       "      <td>9312155</td>\n",
       "      <td>9506142</td>\n",
       "      <td>0.000000</td>\n",
       "      <td>0</td>\n",
       "      <td>-2</td>\n",
       "      <td>0</td>\n",
       "      <td>0.067705</td>\n",
       "      <td>0.000000</td>\n",
       "      <td>2</td>\n",
       "      <td>0</td>\n",
       "    </tr>\n",
       "    <tr>\n",
       "      <th>3</th>\n",
       "      <td>9911255</td>\n",
       "      <td>302165</td>\n",
       "      <td>0.000000</td>\n",
       "      <td>0</td>\n",
       "      <td>-4</td>\n",
       "      <td>0</td>\n",
       "      <td>0.054771</td>\n",
       "      <td>0.000000</td>\n",
       "      <td>2</td>\n",
       "      <td>0</td>\n",
       "    </tr>\n",
       "    <tr>\n",
       "      <th>4</th>\n",
       "      <td>9701033</td>\n",
       "      <td>209076</td>\n",
       "      <td>0.000000</td>\n",
       "      <td>0</td>\n",
       "      <td>-5</td>\n",
       "      <td>0</td>\n",
       "      <td>0.220903</td>\n",
       "      <td>0.000000</td>\n",
       "      <td>2</td>\n",
       "      <td>0</td>\n",
       "    </tr>\n",
       "  </tbody>\n",
       "</table>\n",
       "</div>"
      ],
      "text/plain": [
       "       id1      id2  res_allo_ind  overlap_title  temp_diff  comm_auth  \\\n",
       "0  9510123  9502114      0.142857              2          0          0   \n",
       "1  9707075  9604178      0.226401              1          1          0   \n",
       "2  9312155  9506142      0.000000              0         -2          0   \n",
       "3  9911255   302165      0.000000              0         -4          0   \n",
       "4  9701033   209076      0.000000              0         -5          0   \n",
       "\n",
       "   reduced_tfidf_sim  jaccard_coeff  tgt_citation  labels  \n",
       "0           0.242161       0.176471             8       1  \n",
       "1           0.116740       0.106796           124       1  \n",
       "2           0.067705       0.000000             2       0  \n",
       "3           0.054771       0.000000             2       0  \n",
       "4           0.220903       0.000000             2       0  "
      ]
     },
     "execution_count": 94,
     "metadata": {},
     "output_type": "execute_result"
    }
   ],
   "source": [
    "train_set = pd.read_csv('data/train_nx_ig_v3.csv')\n",
    "train_set.head()"
   ]
  },
  {
   "cell_type": "code",
   "execution_count": 95,
   "metadata": {
    "collapsed": true
   },
   "outputs": [],
   "source": [
    "X_train = train_set.iloc[:,2:-1]\n",
    "y_train = train_set.iloc[:,-1]\n",
    "scaler = MinMaxScaler()\n",
    "X_train = scaler.fit_transform(X_train)"
   ]
  },
  {
   "cell_type": "code",
   "execution_count": 96,
   "metadata": {
    "collapsed": true
   },
   "outputs": [],
   "source": [
    "X_train, y_train = shuffle(X_train, y_train, random_state=0)"
   ]
  },
  {
   "cell_type": "code",
   "execution_count": 97,
   "metadata": {
    "collapsed": true
   },
   "outputs": [],
   "source": [
    "c_range = list(np.arange(0.1,1,0.1))+list(np.arange(1,10))+list(np.arange(10,1000,20))\n",
    "f1_scores_old7f = []\n",
    "for c in c_range:\n",
    "    clf_lr = LogisticRegression(C=c)\n",
    "    scores_lr = cross_val_score(clf_lr, X_train, y_train, cv=5, scoring='f1')\n",
    "    f1_scores_old7f.append(np.mean(scores_lr))"
   ]
  },
  {
   "cell_type": "code",
   "execution_count": 98,
   "metadata": {},
   "outputs": [
    {
     "name": "stderr",
     "output_type": "stream",
     "text": [
      "/home/wangsun/anaconda3/lib/python3.5/site-packages/matplotlib/axes/_axes.py:545: UserWarning: No labelled objects found. Use label='...' kwarg on individual plots.\n",
      "  warnings.warn(\"No labelled objects found. \"\n"
     ]
    },
    {
     "data": {
      "image/png": "[encoded data removed]",
      "text/plain": [
       "<matplotlib.figure.Figure at 0x7fd7b0dad588>"
      ]
     },
     "metadata": {},
     "output_type": "display_data"
    }
   ],
   "source": [
    "plt.plot(c_range, f1_scores_old7f)\n",
    "plt.xlabel('Value of C')\n",
    "plt.ylabel('Cross validation f1 score')\n",
    "plt.title('LR')\n",
    "plt.legend()\n",
    "plt.show()"
   ]
  },
  {
   "cell_type": "code",
   "execution_count": 118,
   "metadata": {
    "scrolled": true
   },
   "outputs": [
    {
     "data": {
      "text/plain": [
       "[(0.1, 0.979711650917762),\n",
       " (0.2, 0.9828053423223089),\n",
       " (0.30000000000000004, 0.9841496461299112),\n",
       " (0.4, 0.9849476993893529),\n",
       " (0.5, 0.9854236461906615),\n",
       " (0.6, 0.98575914475832),\n",
       " (0.7000000000000001, 0.986024581507509),\n",
       " (0.8, 0.9862256991152254),\n",
       " (0.9, 0.9863872329360757),\n",
       " (1, 0.9865134500281243),\n",
       " (2, 0.9873613181053692),\n",
       " (3, 0.9876669327747803),\n",
       " (4, 0.987808472360968),\n",
       " (5, 0.9878624350399712),\n",
       " (6, 0.9879487420204869),\n",
       " (7, 0.9880094801158172),\n",
       " (8, 0.9880397146141071),\n",
       " (9, 0.9880580667512433),\n",
       " (10, 0.9880746993906687),\n",
       " (30, 0.9882635483921941),\n",
       " (50, 0.9883568535582088),\n",
       " (70, 0.9883839834537008),\n",
       " (90, 0.9884137450641773),\n",
       " (110, 0.9884169322586589),\n",
       " (130, 0.9884153196176086),\n",
       " (150, 0.9884225906876223),\n",
       " (170, 0.9884417167392598),\n",
       " (190, 0.9884461137724221),\n",
       " (210, 0.9884551099799121),\n",
       " (230, 0.9884744733414271),\n",
       " (250, 0.9884638001751608),\n",
       " (270, 0.9884784898031042),\n",
       " (290, 0.9884861098739266),\n",
       " (310, 0.9884817313963975),\n",
       " (330, 0.9884963472809163),\n",
       " (350, 0.9884887553861293),\n",
       " (370, 0.9884976833002597),\n",
       " (390, 0.9884946644952475),\n",
       " (410, 0.9885081217666588),\n",
       " (430, 0.988493506291196),\n",
       " (450, 0.9885096315116939),\n",
       " (470, 0.9884918939648861),\n",
       " (490, 0.9884960348064811),\n",
       " (510, 0.9885169410202261),\n",
       " (530, 0.9885094192058723),\n",
       " (550, 0.9885048856098674),\n",
       " (570, 0.9885078428266443),\n",
       " (590, 0.9884902430503606),\n",
       " (610, 0.9884783657854163),\n",
       " (630, 0.9884919270248023),\n",
       " (650, 0.9885063635625269),\n",
       " (670, 0.9885078065532935),\n",
       " (690, 0.9885033474260403),\n",
       " (710, 0.9884917203644349),\n",
       " (730, 0.9884797387124712),\n",
       " (750, 0.9884768175250667),\n",
       " (770, 0.988500257854381),\n",
       " (790, 0.9884945528385213),\n",
       " (810, 0.988493076177997),\n",
       " (830, 0.9885107997895901),\n",
       " (850, 0.9884897145755225),\n",
       " (870, 0.9884806192519513),\n",
       " (890, 0.9884882035543517),\n",
       " (910, 0.9884972352466225),\n",
       " (930, 0.9884821301792123),\n",
       " (950, 0.9884974728950677),\n",
       " (970, 0.9884867323704729),\n",
       " (990, 0.9885004627732868)]"
      ]
     },
     "execution_count": 118,
     "metadata": {},
     "output_type": "execute_result"
    }
   ],
   "source": [
    "list(zip(c_range,f1_scores_old7f))"
   ]
  },
  {
   "cell_type": "markdown",
   "metadata": {
    "collapsed": true
   },
   "source": [
    "### with new features of Shiwen"
   ]
  },
  {
   "cell_type": "code",
   "execution_count": 120,
   "metadata": {},
   "outputs": [
    {
     "data": {
      "text/html": [
       "<div>\n",
       "<style>\n",
       "    .dataframe thead tr:only-child th {\n",
       "        text-align: right;\n",
       "    }\n",
       "\n",
       "    .dataframe thead th {\n",
       "        text-align: left;\n",
       "    }\n",
       "\n",
       "    .dataframe tbody tr th {\n",
       "        vertical-align: top;\n",
       "    }\n",
       "</style>\n",
       "<table border=\"1\" class=\"dataframe\">\n",
       "  <thead>\n",
       "    <tr style=\"text-align: right;\">\n",
       "      <th></th>\n",
       "      <th>id1</th>\n",
       "      <th>id2</th>\n",
       "      <th>link</th>\n",
       "      <th>rno1</th>\n",
       "      <th>rno2</th>\n",
       "      <th>sim</th>\n",
       "      <th>year1</th>\n",
       "      <th>year2</th>\n",
       "      <th>year_diff</th>\n",
       "      <th>common_authors</th>\n",
       "      <th>cn</th>\n",
       "      <th>aai</th>\n",
       "      <th>title_overlap</th>\n",
       "    </tr>\n",
       "  </thead>\n",
       "  <tbody>\n",
       "    <tr>\n",
       "      <th>0</th>\n",
       "      <td>9510123</td>\n",
       "      <td>9502114</td>\n",
       "      <td>1</td>\n",
       "      <td>16827</td>\n",
       "      <td>15446</td>\n",
       "      <td>0.064373</td>\n",
       "      <td>1995</td>\n",
       "      <td>1995</td>\n",
       "      <td>0</td>\n",
       "      <td>0</td>\n",
       "      <td>1</td>\n",
       "      <td>0.513898</td>\n",
       "      <td>2</td>\n",
       "    </tr>\n",
       "    <tr>\n",
       "      <th>1</th>\n",
       "      <td>9707075</td>\n",
       "      <td>9604178</td>\n",
       "      <td>1</td>\n",
       "      <td>21154</td>\n",
       "      <td>18059</td>\n",
       "      <td>0.021211</td>\n",
       "      <td>1997</td>\n",
       "      <td>1996</td>\n",
       "      <td>1</td>\n",
       "      <td>0</td>\n",
       "      <td>20</td>\n",
       "      <td>4.320366</td>\n",
       "      <td>1</td>\n",
       "    </tr>\n",
       "    <tr>\n",
       "      <th>2</th>\n",
       "      <td>9312155</td>\n",
       "      <td>9506142</td>\n",
       "      <td>0</td>\n",
       "      <td>13074</td>\n",
       "      <td>16171</td>\n",
       "      <td>0.017202</td>\n",
       "      <td>1993</td>\n",
       "      <td>1995</td>\n",
       "      <td>-2</td>\n",
       "      <td>0</td>\n",
       "      <td>0</td>\n",
       "      <td>0.000000</td>\n",
       "      <td>0</td>\n",
       "    </tr>\n",
       "    <tr>\n",
       "      <th>3</th>\n",
       "      <td>9911255</td>\n",
       "      <td>302165</td>\n",
       "      <td>0</td>\n",
       "      <td>27486</td>\n",
       "      <td>9702</td>\n",
       "      <td>0.012634</td>\n",
       "      <td>1999</td>\n",
       "      <td>2003</td>\n",
       "      <td>-4</td>\n",
       "      <td>0</td>\n",
       "      <td>0</td>\n",
       "      <td>0.000000</td>\n",
       "      <td>0</td>\n",
       "    </tr>\n",
       "    <tr>\n",
       "      <th>4</th>\n",
       "      <td>9701033</td>\n",
       "      <td>209076</td>\n",
       "      <td>0</td>\n",
       "      <td>19856</td>\n",
       "      <td>8212</td>\n",
       "      <td>0.059588</td>\n",
       "      <td>1997</td>\n",
       "      <td>2002</td>\n",
       "      <td>-5</td>\n",
       "      <td>0</td>\n",
       "      <td>0</td>\n",
       "      <td>0.000000</td>\n",
       "      <td>0</td>\n",
       "    </tr>\n",
       "  </tbody>\n",
       "</table>\n",
       "</div>"
      ],
      "text/plain": [
       "       id1      id2  link   rno1   rno2       sim  year1  year2  year_diff  \\\n",
       "0  9510123  9502114     1  16827  15446  0.064373   1995   1995          0   \n",
       "1  9707075  9604178     1  21154  18059  0.021211   1997   1996          1   \n",
       "2  9312155  9506142     0  13074  16171  0.017202   1993   1995         -2   \n",
       "3  9911255   302165     0  27486   9702  0.012634   1999   2003         -4   \n",
       "4  9701033   209076     0  19856   8212  0.059588   1997   2002         -5   \n",
       "\n",
       "   common_authors  cn       aai  title_overlap  \n",
       "0               0   1  0.513898              2  \n",
       "1               0  20  4.320366              1  \n",
       "2               0   0  0.000000              0  \n",
       "3               0   0  0.000000              0  \n",
       "4               0   0  0.000000              0  "
      ]
     },
     "execution_count": 120,
     "metadata": {},
     "output_type": "execute_result"
    }
   ],
   "source": [
    "train_set = pd.read_csv('data/train_treated.csv')\n",
    "train_set.head()"
   ]
  },
  {
   "cell_type": "code",
   "execution_count": 121,
   "metadata": {
    "collapsed": true
   },
   "outputs": [],
   "source": [
    "X_train = train_set.loc[:,['sim', 'year_diff', 'common_authors', 'cn', 'aai', 'title_overlap']]\n",
    "y_train = train_set.loc[:,'link']\n",
    "scaler = MinMaxScaler()\n",
    "X_train = scaler.fit_transform(X_train)"
   ]
  },
  {
   "cell_type": "code",
   "execution_count": 122,
   "metadata": {
    "collapsed": true
   },
   "outputs": [],
   "source": [
    "X_train, y_train = shuffle(X_train, y_train, random_state=0)"
   ]
  },
  {
   "cell_type": "code",
   "execution_count": 105,
   "metadata": {
    "collapsed": true
   },
   "outputs": [],
   "source": [
    "c_range = list(np.arange(0.1,1,0.1))+list(np.arange(1,10))+list(np.arange(10,1000,20))\n",
    "f1_scores_new5f = []\n",
    "for c in c_range:\n",
    "    clf_lr = LogisticRegression(C=c)\n",
    "    scores_lr = cross_val_score(clf_lr, X_train, y_train, cv=5, scoring='f1')\n",
    "    f1_scores_new5f.append(np.mean(scores_lr))"
   ]
  },
  {
   "cell_type": "code",
   "execution_count": 106,
   "metadata": {},
   "outputs": [
    {
     "name": "stderr",
     "output_type": "stream",
     "text": [
      "/home/wangsun/anaconda3/lib/python3.5/site-packages/matplotlib/axes/_axes.py:545: UserWarning: No labelled objects found. Use label='...' kwarg on individual plots.\n",
      "  warnings.warn(\"No labelled objects found. \"\n"
     ]
    },
    {
     "data": {
      "image/png": "[encoded data removed]",
      "text/plain": [
       "<matplotlib.figure.Figure at 0x7fd7b0cfdba8>"
      ]
     },
     "metadata": {},
     "output_type": "display_data"
    }
   ],
   "source": [
    "plt.plot(c_range, f1_scores_new5f)\n",
    "plt.xlabel('Value of C')\n",
    "plt.ylabel('Cross validation f1 score')\n",
    "plt.title('LR')\n",
    "plt.legend()\n",
    "plt.show()"
   ]
  },
  {
   "cell_type": "code",
   "execution_count": 117,
   "metadata": {
    "scrolled": true
   },
   "outputs": [
    {
     "data": {
      "text/plain": [
       "[(0.1, 0.8534453223989471),\n",
       " (0.2, 0.8681162377209262),\n",
       " (0.30000000000000004, 0.8775883940518104),\n",
       " (0.4, 0.8844167669061587),\n",
       " (0.5, 0.8897357713829155),\n",
       " (0.6, 0.8940241262608319),\n",
       " (0.7000000000000001, 0.8977472002067618),\n",
       " (0.8, 0.9007651987209933),\n",
       " (0.9, 0.9034044596495308),\n",
       " (1, 0.9056668868231125),\n",
       " (2, 0.9196415912445662),\n",
       " (3, 0.9265828616429312),\n",
       " (4, 0.9310368033175809),\n",
       " (5, 0.9342804900558651),\n",
       " (6, 0.9367623769603549),\n",
       " (7, 0.9386623217827452),\n",
       " (8, 0.9402942561952621),\n",
       " (9, 0.9415240936101827),\n",
       " (10, 0.9427455916960413),\n",
       " (30, 0.9522918839558786),\n",
       " (50, 0.9552792078025405),\n",
       " (70, 0.9568656633408874),\n",
       " (90, 0.957878814879218),\n",
       " (110, 0.9586456079916964),\n",
       " (130, 0.9591590322809396),\n",
       " (150, 0.9596805405983654),\n",
       " (170, 0.9600142085315756),\n",
       " (190, 0.9602941286619314),\n",
       " (210, 0.9605144033344526),\n",
       " (230, 0.9607418051210749),\n",
       " (250, 0.9608963443165782),\n",
       " (270, 0.9610356326021176),\n",
       " (290, 0.9611977677840425),\n",
       " (310, 0.9613023631466364),\n",
       " (330, 0.961416962004896),\n",
       " (350, 0.9615243392808848),\n",
       " (370, 0.961619253466273),\n",
       " (390, 0.9617173163641052),\n",
       " (410, 0.9617825356154898),\n",
       " (430, 0.9618599146917101),\n",
       " (450, 0.9619457069166367),\n",
       " (470, 0.9620335649637992),\n",
       " (490, 0.9621016348405489),\n",
       " (510, 0.9621821218859481),\n",
       " (530, 0.9622417281675018),\n",
       " (550, 0.9622798858599968),\n",
       " (570, 0.9623614728030649),\n",
       " (590, 0.9624087590660519),\n",
       " (610, 0.9624619967918806),\n",
       " (630, 0.9625365552954172),\n",
       " (650, 0.9625605973178102),\n",
       " (670, 0.962604587207205),\n",
       " (690, 0.9626687521791535),\n",
       " (710, 0.9627134169513651),\n",
       " (730, 0.9627739526076832),\n",
       " (750, 0.9628118310628064),\n",
       " (770, 0.9628354221494344),\n",
       " (790, 0.9628587746852985),\n",
       " (810, 0.9628978015727988),\n",
       " (830, 0.9629089752334397),\n",
       " (850, 0.9629530524065114),\n",
       " (870, 0.9629794671648219),\n",
       " (890, 0.9630254599180436),\n",
       " (910, 0.9630166745550375),\n",
       " (930, 0.9630873340535697),\n",
       " (950, 0.9631135962965687),\n",
       " (970, 0.9631463898833486),\n",
       " (990, 0.963163516370868)]"
      ]
     },
     "execution_count": 117,
     "metadata": {},
     "output_type": "execute_result"
    }
   ],
   "source": [
    "list(zip(c_range,f1_scores_new5f))"
   ]
  },
  {
   "cell_type": "code",
   "execution_count": 123,
   "metadata": {
    "collapsed": true
   },
   "outputs": [],
   "source": [
    "test_set = pd.read_csv('data/test_treated.csv')\n",
    "X_test = test_set.loc[:,['sim', 'year_diff', 'common_authors', 'cn', 'aai', 'title_overlap']]\n",
    "X_test = scaler.transform(X_test)\n",
    "\n",
    "clf_lr = LogisticRegression(C=990)\n",
    "clf_lr.fit(X_train, y_train)\n",
    "y_test_pred = clf_lr.predict(X_test)\n",
    "\n",
    "df = pd.DataFrame(y_test_pred, columns=['category'])\n",
    "df.index.name = 'id'\n",
    "df.to_csv('result/lr_new5f.csv', index=True, header=True)"
   ]
  },
  {
   "cell_type": "code",
   "execution_count": null,
   "metadata": {
    "collapsed": true
   },
   "outputs": [],
   "source": []
  },
  {
   "cell_type": "code",
   "execution_count": null,
   "metadata": {
    "collapsed": true
   },
   "outputs": [],
   "source": []
  },
  {
   "cell_type": "markdown",
   "metadata": {},
   "source": [
    "### replace 5 old features with 5 new ones"
   ]
  },
  {
   "cell_type": "code",
   "execution_count": 124,
   "metadata": {},
   "outputs": [
    {
     "data": {
      "text/html": [
       "<div>\n",
       "<style>\n",
       "    .dataframe thead tr:only-child th {\n",
       "        text-align: right;\n",
       "    }\n",
       "\n",
       "    .dataframe thead th {\n",
       "        text-align: left;\n",
       "    }\n",
       "\n",
       "    .dataframe tbody tr th {\n",
       "        vertical-align: top;\n",
       "    }\n",
       "</style>\n",
       "<table border=\"1\" class=\"dataframe\">\n",
       "  <thead>\n",
       "    <tr style=\"text-align: right;\">\n",
       "      <th></th>\n",
       "      <th>id1</th>\n",
       "      <th>id2</th>\n",
       "      <th>link</th>\n",
       "      <th>rno1</th>\n",
       "      <th>rno2</th>\n",
       "      <th>sim</th>\n",
       "      <th>year1</th>\n",
       "      <th>year2</th>\n",
       "      <th>year_diff</th>\n",
       "      <th>common_authors</th>\n",
       "      <th>cn</th>\n",
       "      <th>aai</th>\n",
       "      <th>title_overlap</th>\n",
       "    </tr>\n",
       "  </thead>\n",
       "  <tbody>\n",
       "    <tr>\n",
       "      <th>0</th>\n",
       "      <td>9510123</td>\n",
       "      <td>9502114</td>\n",
       "      <td>1</td>\n",
       "      <td>16827</td>\n",
       "      <td>15446</td>\n",
       "      <td>0.064373</td>\n",
       "      <td>1995</td>\n",
       "      <td>1995</td>\n",
       "      <td>0</td>\n",
       "      <td>0</td>\n",
       "      <td>1</td>\n",
       "      <td>0.513898</td>\n",
       "      <td>2</td>\n",
       "    </tr>\n",
       "    <tr>\n",
       "      <th>1</th>\n",
       "      <td>9707075</td>\n",
       "      <td>9604178</td>\n",
       "      <td>1</td>\n",
       "      <td>21154</td>\n",
       "      <td>18059</td>\n",
       "      <td>0.021211</td>\n",
       "      <td>1997</td>\n",
       "      <td>1996</td>\n",
       "      <td>1</td>\n",
       "      <td>0</td>\n",
       "      <td>20</td>\n",
       "      <td>4.320366</td>\n",
       "      <td>1</td>\n",
       "    </tr>\n",
       "    <tr>\n",
       "      <th>2</th>\n",
       "      <td>9312155</td>\n",
       "      <td>9506142</td>\n",
       "      <td>0</td>\n",
       "      <td>13074</td>\n",
       "      <td>16171</td>\n",
       "      <td>0.017202</td>\n",
       "      <td>1993</td>\n",
       "      <td>1995</td>\n",
       "      <td>-2</td>\n",
       "      <td>0</td>\n",
       "      <td>0</td>\n",
       "      <td>0.000000</td>\n",
       "      <td>0</td>\n",
       "    </tr>\n",
       "    <tr>\n",
       "      <th>3</th>\n",
       "      <td>9911255</td>\n",
       "      <td>302165</td>\n",
       "      <td>0</td>\n",
       "      <td>27486</td>\n",
       "      <td>9702</td>\n",
       "      <td>0.012634</td>\n",
       "      <td>1999</td>\n",
       "      <td>2003</td>\n",
       "      <td>-4</td>\n",
       "      <td>0</td>\n",
       "      <td>0</td>\n",
       "      <td>0.000000</td>\n",
       "      <td>0</td>\n",
       "    </tr>\n",
       "    <tr>\n",
       "      <th>4</th>\n",
       "      <td>9701033</td>\n",
       "      <td>209076</td>\n",
       "      <td>0</td>\n",
       "      <td>19856</td>\n",
       "      <td>8212</td>\n",
       "      <td>0.059588</td>\n",
       "      <td>1997</td>\n",
       "      <td>2002</td>\n",
       "      <td>-5</td>\n",
       "      <td>0</td>\n",
       "      <td>0</td>\n",
       "      <td>0.000000</td>\n",
       "      <td>0</td>\n",
       "    </tr>\n",
       "  </tbody>\n",
       "</table>\n",
       "</div>"
      ],
      "text/plain": [
       "       id1      id2  link   rno1   rno2       sim  year1  year2  year_diff  \\\n",
       "0  9510123  9502114     1  16827  15446  0.064373   1995   1995          0   \n",
       "1  9707075  9604178     1  21154  18059  0.021211   1997   1996          1   \n",
       "2  9312155  9506142     0  13074  16171  0.017202   1993   1995         -2   \n",
       "3  9911255   302165     0  27486   9702  0.012634   1999   2003         -4   \n",
       "4  9701033   209076     0  19856   8212  0.059588   1997   2002         -5   \n",
       "\n",
       "   common_authors  cn       aai  title_overlap  \n",
       "0               0   1  0.513898              2  \n",
       "1               0  20  4.320366              1  \n",
       "2               0   0  0.000000              0  \n",
       "3               0   0  0.000000              0  \n",
       "4               0   0  0.000000              0  "
      ]
     },
     "execution_count": 124,
     "metadata": {},
     "output_type": "execute_result"
    }
   ],
   "source": [
    "train1 = pd.read_csv('data/train_treated.csv')\n",
    "train1.head()"
   ]
  },
  {
   "cell_type": "code",
   "execution_count": 125,
   "metadata": {},
   "outputs": [
    {
     "data": {
      "text/html": [
       "<div>\n",
       "<style>\n",
       "    .dataframe thead tr:only-child th {\n",
       "        text-align: right;\n",
       "    }\n",
       "\n",
       "    .dataframe thead th {\n",
       "        text-align: left;\n",
       "    }\n",
       "\n",
       "    .dataframe tbody tr th {\n",
       "        vertical-align: top;\n",
       "    }\n",
       "</style>\n",
       "<table border=\"1\" class=\"dataframe\">\n",
       "  <thead>\n",
       "    <tr style=\"text-align: right;\">\n",
       "      <th></th>\n",
       "      <th>id1</th>\n",
       "      <th>id2</th>\n",
       "      <th>res_allo_ind</th>\n",
       "      <th>overlap_title</th>\n",
       "      <th>temp_diff</th>\n",
       "      <th>comm_auth</th>\n",
       "      <th>reduced_tfidf_sim</th>\n",
       "      <th>jaccard_coeff</th>\n",
       "      <th>tgt_citation</th>\n",
       "      <th>labels</th>\n",
       "    </tr>\n",
       "  </thead>\n",
       "  <tbody>\n",
       "    <tr>\n",
       "      <th>0</th>\n",
       "      <td>9510123</td>\n",
       "      <td>9502114</td>\n",
       "      <td>0.142857</td>\n",
       "      <td>2</td>\n",
       "      <td>0</td>\n",
       "      <td>0</td>\n",
       "      <td>0.242161</td>\n",
       "      <td>0.176471</td>\n",
       "      <td>8</td>\n",
       "      <td>1</td>\n",
       "    </tr>\n",
       "    <tr>\n",
       "      <th>1</th>\n",
       "      <td>9707075</td>\n",
       "      <td>9604178</td>\n",
       "      <td>0.226401</td>\n",
       "      <td>1</td>\n",
       "      <td>1</td>\n",
       "      <td>0</td>\n",
       "      <td>0.116740</td>\n",
       "      <td>0.106796</td>\n",
       "      <td>124</td>\n",
       "      <td>1</td>\n",
       "    </tr>\n",
       "    <tr>\n",
       "      <th>2</th>\n",
       "      <td>9312155</td>\n",
       "      <td>9506142</td>\n",
       "      <td>0.000000</td>\n",
       "      <td>0</td>\n",
       "      <td>-2</td>\n",
       "      <td>0</td>\n",
       "      <td>0.067705</td>\n",
       "      <td>0.000000</td>\n",
       "      <td>2</td>\n",
       "      <td>0</td>\n",
       "    </tr>\n",
       "    <tr>\n",
       "      <th>3</th>\n",
       "      <td>9911255</td>\n",
       "      <td>302165</td>\n",
       "      <td>0.000000</td>\n",
       "      <td>0</td>\n",
       "      <td>-4</td>\n",
       "      <td>0</td>\n",
       "      <td>0.054771</td>\n",
       "      <td>0.000000</td>\n",
       "      <td>2</td>\n",
       "      <td>0</td>\n",
       "    </tr>\n",
       "    <tr>\n",
       "      <th>4</th>\n",
       "      <td>9701033</td>\n",
       "      <td>209076</td>\n",
       "      <td>0.000000</td>\n",
       "      <td>0</td>\n",
       "      <td>-5</td>\n",
       "      <td>0</td>\n",
       "      <td>0.220903</td>\n",
       "      <td>0.000000</td>\n",
       "      <td>2</td>\n",
       "      <td>0</td>\n",
       "    </tr>\n",
       "  </tbody>\n",
       "</table>\n",
       "</div>"
      ],
      "text/plain": [
       "       id1      id2  res_allo_ind  overlap_title  temp_diff  comm_auth  \\\n",
       "0  9510123  9502114      0.142857              2          0          0   \n",
       "1  9707075  9604178      0.226401              1          1          0   \n",
       "2  9312155  9506142      0.000000              0         -2          0   \n",
       "3  9911255   302165      0.000000              0         -4          0   \n",
       "4  9701033   209076      0.000000              0         -5          0   \n",
       "\n",
       "   reduced_tfidf_sim  jaccard_coeff  tgt_citation  labels  \n",
       "0           0.242161       0.176471             8       1  \n",
       "1           0.116740       0.106796           124       1  \n",
       "2           0.067705       0.000000             2       0  \n",
       "3           0.054771       0.000000             2       0  \n",
       "4           0.220903       0.000000             2       0  "
      ]
     },
     "execution_count": 125,
     "metadata": {},
     "output_type": "execute_result"
    }
   ],
   "source": [
    "train2 = pd.read_csv('data/train_nx_ig_v3.csv')\n",
    "train2.head()"
   ]
  },
  {
   "cell_type": "code",
   "execution_count": 126,
   "metadata": {
    "collapsed": true
   },
   "outputs": [],
   "source": [
    "X_train = pd.concat([train1.loc[:,['title_overlap', 'year_diff','common_authors','sim','cn','aai']], train2.loc[:,['jaccard_coeff','tgt_citation']]], axis=1)\n",
    "y_train = train1.loc[:,'link']\n",
    "scaler = MinMaxScaler()\n",
    "X_train = scaler.fit_transform(X_train)"
   ]
  },
  {
   "cell_type": "code",
   "execution_count": 127,
   "metadata": {
    "collapsed": true
   },
   "outputs": [],
   "source": [
    "X_train, y_train = shuffle(X_train, y_train, random_state=0)"
   ]
  },
  {
   "cell_type": "code",
   "execution_count": 111,
   "metadata": {
    "collapsed": true
   },
   "outputs": [],
   "source": [
    "c_range = list(np.arange(0.1,1,0.1))+list(np.arange(1,10))+list(np.arange(10,1000,20))\n",
    "f1_scores_new7f = []\n",
    "for c in c_range:\n",
    "    clf_lr = LogisticRegression(C=c)\n",
    "    scores_lr = cross_val_score(clf_lr, X_train, y_train, cv=5, scoring='f1')\n",
    "    f1_scores_new7f.append(np.mean(scores_lr))"
   ]
  },
  {
   "cell_type": "code",
   "execution_count": 112,
   "metadata": {},
   "outputs": [
    {
     "name": "stderr",
     "output_type": "stream",
     "text": [
      "/home/wangsun/anaconda3/lib/python3.5/site-packages/matplotlib/axes/_axes.py:545: UserWarning: No labelled objects found. Use label='...' kwarg on individual plots.\n",
      "  warnings.warn(\"No labelled objects found. \"\n"
     ]
    },
    {
     "data": {
      "image/png": "[encoded data removed]",
      "text/plain": [
       "<matplotlib.figure.Figure at 0x7fd7b0d51cf8>"
      ]
     },
     "metadata": {},
     "output_type": "display_data"
    }
   ],
   "source": [
    "plt.plot(c_range, f1_scores_new7f)\n",
    "plt.xlabel('Value of C')\n",
    "plt.ylabel('Cross validation f1 score')\n",
    "plt.title('LR')\n",
    "plt.legend()\n",
    "plt.show()"
   ]
  },
  {
   "cell_type": "code",
   "execution_count": 119,
   "metadata": {
    "scrolled": true
   },
   "outputs": [
    {
     "data": {
      "text/plain": [
       "[(0.1, 0.9801848758295494),\n",
       " (0.2, 0.9828572984277756),\n",
       " (0.30000000000000004, 0.9840914956263778),\n",
       " (0.4, 0.9848492218102265),\n",
       " (0.5, 0.9853293492446225),\n",
       " (0.6, 0.985684773629972),\n",
       " (0.7000000000000001, 0.9859518981399276),\n",
       " (0.8, 0.9862001936620615),\n",
       " (0.9, 0.9864071466413351),\n",
       " (1, 0.9865259261521636),\n",
       " (2, 0.9872001892391967),\n",
       " (3, 0.9875372760091258),\n",
       " (4, 0.9876882485113629),\n",
       " (5, 0.9877938126625339),\n",
       " (6, 0.9878682282897199),\n",
       " (7, 0.9879139665774881),\n",
       " (8, 0.9879458267710296),\n",
       " (9, 0.9879538175469987),\n",
       " (10, 0.9879870818187682),\n",
       " (30, 0.9881722161718276),\n",
       " (50, 0.9882128064820777),\n",
       " (70, 0.988224717755452),\n",
       " (90, 0.9882352587978586),\n",
       " (110, 0.9882305848183197),\n",
       " (130, 0.9882305146679187),\n",
       " (150, 0.9882455546427812),\n",
       " (170, 0.9882455538996908),\n",
       " (190, 0.9882425316058491),\n",
       " (210, 0.9882423250233586),\n",
       " (230, 0.9882560983566808),\n",
       " (250, 0.9882531112883669),\n",
       " (270, 0.9882485429448439),\n",
       " (290, 0.988248505062099),\n",
       " (310, 0.9882783752267461),\n",
       " (330, 0.9882724712072474),\n",
       " (350, 0.9882693095883536),\n",
       " (370, 0.9882634403092169),\n",
       " (390, 0.9882692724396754),\n",
       " (410, 0.9882692733803505),\n",
       " (430, 0.9882722959121875),\n",
       " (450, 0.9882797461398404),\n",
       " (470, 0.9882632278935762),\n",
       " (490, 0.9882828734290884),\n",
       " (510, 0.9882812568591653),\n",
       " (530, 0.9882587642558341),\n",
       " (550, 0.9882692033170564),\n",
       " (570, 0.9882633670339722),\n",
       " (590, 0.9882738398824371),\n",
       " (610, 0.9882723630969561),\n",
       " (630, 0.9882647748322146),\n",
       " (650, 0.9882692709862365),\n",
       " (670, 0.9882859969475526),\n",
       " (690, 0.9882664208841074),\n",
       " (710, 0.9882874048704512),\n",
       " (730, 0.9882813582855705),\n",
       " (750, 0.9882466035565765),\n",
       " (770, 0.9882705408246523),\n",
       " (790, 0.9882643911513149),\n",
       " (810, 0.9882840758254717),\n",
       " (830, 0.9882842474450714),\n",
       " (850, 0.9882631918929092),\n",
       " (870, 0.9882555294112848),\n",
       " (890, 0.988257040485663),\n",
       " (910, 0.9882689914045338),\n",
       " (930, 0.9882539836614151),\n",
       " (950, 0.9882841096610274),\n",
       " (970, 0.988263186299198),\n",
       " (990, 0.9882659990207514)]"
      ]
     },
     "execution_count": 119,
     "metadata": {},
     "output_type": "execute_result"
    }
   ],
   "source": [
    "list(zip(c_range,f1_scores_new7f))"
   ]
  },
  {
   "cell_type": "code",
   "execution_count": 128,
   "metadata": {
    "collapsed": true
   },
   "outputs": [],
   "source": [
    "test1 = pd.read_csv('data/test_treated.csv')\n",
    "test2 = pd.read_csv('data/test_nx_ig_v3.csv')\n",
    "X_test = pd.concat([test1.loc[:,['title_overlap', 'year_diff','common_authors','sim','cn','aai']], test2.loc[:,['jaccard_coeff','tgt_citation']]], axis=1)\n",
    "X_test = scaler.transform(X_test)\n",
    "\n",
    "clf_lr = LogisticRegression(C=100)\n",
    "clf_lr.fit(X_train, y_train)\n",
    "y_test_pred = clf_lr.predict(X_test)\n",
    "\n",
    "df = pd.DataFrame(y_test_pred, columns=['category'])\n",
    "df.index.name = 'id'\n",
    "df.to_csv('result/lr_7f5new.csv', index=True, header=True)"
   ]
  },
  {
   "cell_type": "markdown",
   "metadata": {},
   "source": [
    "## trials of features"
   ]
  },
  {
   "cell_type": "markdown",
   "metadata": {},
   "source": [
    "#### 6 new features + tgt citation"
   ]
  },
  {
   "cell_type": "code",
   "execution_count": 129,
   "metadata": {
    "collapsed": true
   },
   "outputs": [],
   "source": [
    "train1 = pd.read_csv('data/train_treated.csv')\n",
    "train2 = pd.read_csv('data/train_nx_ig_v2.csv')\n",
    "X_train = pd.concat([train1.loc[:,['title_overlap', 'year_diff','common_authors','sim','cn','aai']], train2.loc[:,['tgt_citation']]], axis=1)\n",
    "y_train = train1.loc[:,'link']\n",
    "scaler = MinMaxScaler()\n",
    "X_train = scaler.fit_transform(X_train)\n",
    "X_train, y_train = shuffle(X_train, y_train, random_state=0)"
   ]
  },
  {
   "cell_type": "code",
   "execution_count": 140,
   "metadata": {
    "scrolled": true
   },
   "outputs": [
    {
     "name": "stdout",
     "output_type": "stream",
     "text": [
      "0.8901178118341502\n",
      "0.9188770153572893\n",
      "0.9463361064248981\n",
      "0.9600773781417937\n",
      "0.964451604703535\n",
      "0.9667201999174108\n",
      "0.9674091807053443\n",
      "0.9670299790532587\n",
      "0.9671904149461922\n",
      "0.9671608480593055\n",
      "0.9675765524328552\n",
      "0.9672224007828889\n",
      "0.9673140726469379\n",
      "0.9669716651079392\n",
      "0.967305372938678\n",
      "0.9671044937970491\n"
     ]
    }
   ],
   "source": [
    "for c in [1e-1,1,1e1,1e2,1e3,1e4,1e5,1e6,1e7,1e8,1e9,1e10,1e11,1e12,1e13,1e14]:\n",
    "    clf_lr = LogisticRegression(C=c,tol=1e-4)\n",
    "    print (cross_val_score(clf_lr, X_train, y_train, cv=5, scoring='f1').mean())"
   ]
  },
  {
   "cell_type": "markdown",
   "metadata": {},
   "source": [
    "##### Adding tgt citation has some improvements!!!"
   ]
  },
  {
   "cell_type": "markdown",
   "metadata": {},
   "source": [
    "#### 6 new features + tgt citation + rai"
   ]
  },
  {
   "cell_type": "code",
   "execution_count": 147,
   "metadata": {
    "collapsed": true
   },
   "outputs": [],
   "source": [
    "train1 = pd.read_csv('data/train_treated.csv')\n",
    "train2 = pd.read_csv('data/train_nx_ig_v2.csv')\n",
    "X_train = pd.concat([train1.loc[:,['title_overlap', 'year_diff','common_authors','sim','cn','aai']], train2.loc[:,['res_allo_ind','tgt_citation']]], axis=1)\n",
    "y_train = train1.loc[:,'link']\n",
    "scaler = MinMaxScaler()\n",
    "X_train = scaler.fit_transform(X_train)\n",
    "X_train, y_train = shuffle(X_train, y_train, random_state=0)"
   ]
  },
  {
   "cell_type": "code",
   "execution_count": 148,
   "metadata": {},
   "outputs": [
    {
     "name": "stdout",
     "output_type": "stream",
     "text": [
      "0.892273012954847\n",
      "0.9233489176460473\n",
      "0.950280548967851\n",
      "0.9624838354606396\n",
      "0.9662269796321548\n",
      "0.9671852372090062\n",
      "0.9673052846150518\n",
      "0.9672894558789885\n",
      "0.9673070734321815\n",
      "0.967331864841068\n",
      "0.9673129776989464\n",
      "0.9673318673373336\n",
      "0.9672353104117093\n",
      "0.9673348020840529\n",
      "0.9673448134600507\n",
      "0.9673390221478136\n"
     ]
    }
   ],
   "source": [
    "for c in [1e-1,1,1e1,1e2,1e3,1e4,1e5,1e6,1e7,1e8,1e9,1e10,1e11,1e12,1e13,1e14]:\n",
    "    clf_lr = LogisticRegression(C=c, tol=1e-4)\n",
    "    print (cross_val_score(clf_lr, X_train, y_train, cv=5, scoring='f1').mean())"
   ]
  },
  {
   "cell_type": "markdown",
   "metadata": {},
   "source": [
    "Adding rai has no improvements."
   ]
  },
  {
   "cell_type": "markdown",
   "metadata": {},
   "source": [
    "#### 6 new features + tgt citation + rai + jacc_nx"
   ]
  },
  {
   "cell_type": "code",
   "execution_count": 145,
   "metadata": {
    "collapsed": true
   },
   "outputs": [],
   "source": [
    "train1 = pd.read_csv('data/train_treated.csv')\n",
    "train2 = pd.read_csv('data/train_nx_ig_v2.csv')\n",
    "X_train = pd.concat([train1.loc[:,['title_overlap', 'year_diff','common_authors','sim','cn','aai']], train2.loc[:,['res_allo_ind','tgt_citation', 'jaccard_nx']]], axis=1)\n",
    "y_train = train1.loc[:,'link']\n",
    "scaler = MinMaxScaler()\n",
    "X_train = scaler.fit_transform(X_train)\n",
    "X_train, y_train = shuffle(X_train, y_train, random_state=0)"
   ]
  },
  {
   "cell_type": "code",
   "execution_count": 146,
   "metadata": {},
   "outputs": [
    {
     "name": "stdout",
     "output_type": "stream",
     "text": [
      "0.9553189427545347\n",
      "0.9617666934307587\n",
      "0.9635865868009184\n",
      "0.9649990957463768\n",
      "0.9666445529994073\n",
      "0.9673764194352724\n",
      "0.9674674607317068\n",
      "0.9675486954395147\n",
      "0.9674714179366213\n",
      "0.9674714087587244\n",
      "0.9674192034772829\n",
      "0.9674228532803177\n",
      "0.9674598364822131\n",
      "0.9674953783119689\n",
      "0.9674179618717964\n",
      "0.967423330203208\n"
     ]
    }
   ],
   "source": [
    "for c in [1e-1,1,1e1,1e2,1e3,1e4,1e5,1e6,1e7,1e8,1e9,1e10,1e11,1e12,1e13,1e14]:\n",
    "    clf_lr = LogisticRegression(C=c, tol=1e-4)\n",
    "    print (cross_val_score(clf_lr, X_train, y_train, cv=5, scoring='f1').mean())"
   ]
  },
  {
   "cell_type": "markdown",
   "metadata": {},
   "source": [
    "Adding jacc_nx has no side effects nor improvements."
   ]
  },
  {
   "cell_type": "markdown",
   "metadata": {
    "collapsed": true
   },
   "source": [
    "#### new new features"
   ]
  },
  {
   "cell_type": "code",
   "execution_count": 3,
   "metadata": {
    "collapsed": true
   },
   "outputs": [],
   "source": [
    "train1 = pd.read_csv('../data/train_stacked.csv')\n",
    "train2 = pd.read_csv('../data/train_nx_ig_v2.csv')\n",
    "X_train = pd.concat([train1.loc[:,['sim','cn','year_diff','common_authors','title_overlap','journal_overlap','centroid_sim','wmd']], train2.loc[:,['tgt_citation','jaccard_nx']]], axis=1)\n",
    "y_train = train1.loc[:,'link']\n",
    "scaler = MinMaxScaler()\n",
    "X_train = scaler.fit_transform(X_train)\n",
    "X_train_cv, y_train_cv = shuffle(X_train, y_train, random_state=0)"
   ]
  },
  {
   "cell_type": "code",
   "execution_count": 4,
   "metadata": {},
   "outputs": [
    {
     "name": "stdout",
     "output_type": "stream",
     "text": [
      "0.9560253488946223\n"
     ]
    }
   ],
   "source": [
    "clf_lr = LogisticRegression(C=1e-1, tol=1e-4)\n",
    "print (cross_val_score(clf_lr, X_train_cv, y_train_cv, cv=5, scoring='f1').mean())"
   ]
  },
  {
   "cell_type": "code",
   "execution_count": 5,
   "metadata": {},
   "outputs": [
    {
     "name": "stdout",
     "output_type": "stream",
     "text": [
      "0.9644858728728034\n"
     ]
    }
   ],
   "source": [
    "clf_lr = LogisticRegression(C=1e2, tol=1e-4)\n",
    "print (cross_val_score(clf_lr, X_train_cv, y_train_cv, cv=5, scoring='f1').mean())"
   ]
  },
  {
   "cell_type": "code",
   "execution_count": 6,
   "metadata": {},
   "outputs": [
    {
     "name": "stdout",
     "output_type": "stream",
     "text": [
      "0.9649019027864171\n"
     ]
    }
   ],
   "source": [
    "clf_lr = LogisticRegression(C=1e7, tol=1e-4)\n",
    "print (cross_val_score(clf_lr, X_train_cv, y_train_cv, cv=5, scoring='f1').mean())"
   ]
  },
  {
   "cell_type": "code",
   "execution_count": 7,
   "metadata": {},
   "outputs": [
    {
     "name": "stdout",
     "output_type": "stream",
     "text": [
      "0.964899192454834\n"
     ]
    }
   ],
   "source": [
    "clf_lr = LogisticRegression(C=1e12, tol=1e-4)\n",
    "print (cross_val_score(clf_lr, X_train_cv, y_train_cv, cv=5, scoring='f1').mean())"
   ]
  },
  {
   "cell_type": "code",
   "execution_count": 8,
   "metadata": {
    "collapsed": true
   },
   "outputs": [],
   "source": [
    "test1 = pd.read_csv('../data/test_stacked.csv')\n",
    "test2 = pd.read_csv('../data/test_nx_ig_v2.csv')\n",
    "X_test = pd.concat([test1.loc[:,['sim','cn','year_diff','common_authors','title_overlap','journal_overlap','centroid_sim','wmd']], test2.loc[:,['tgt_citation','jaccard_nx']]], axis=1)\n",
    "X_test = scaler.transform(X_test)\n",
    "\n",
    "clf_lr = LogisticRegression(C=1e5, tol=1e-4)\n",
    "clf_lr.fit(X_train, y_train)\n",
    "y_test_pred = clf_lr.predict(X_test)\n",
    "\n",
    "df = pd.DataFrame(y_test_pred, columns=['category'])\n",
    "df.index.name = 'id'\n",
    "df.to_csv('../result/lr_new.csv', index=True, header=True)"
   ]
  },
  {
   "cell_type": "markdown",
   "metadata": {
    "collapsed": true
   },
   "source": [
    "### to stack"
   ]
  },
  {
   "cell_type": "code",
   "execution_count": 6,
   "metadata": {
    "collapsed": true
   },
   "outputs": [],
   "source": [
    "# train1 = pd.read_csv('../data/train_stacked.csv')\n",
    "# train2 = pd.read_csv('../data/train_nx_ig_v2.csv')\n",
    "# X_train = pd.concat([train1.loc[:,['sim','cn','year_diff','common_authors','title_overlap','journal_overlap','centroid_sim','wmd']], train2.loc[:,['tgt_citation','jaccard_nx']]], axis=1)\n",
    "# y_train = train1.loc[:,'link']\n",
    "# scaler = MinMaxScaler()\n",
    "# X_train = scaler.fit_transform(X_train)\n",
    "\n",
    "clf_lr = LogisticRegression(C=1e5, tol=1e-4)\n",
    "clf_lr.fit(X_train, y_train)\n",
    "y_train_pred = clf_lr.predict(X_train)\n",
    "train1['lr_stack'] = y_train_pred\n",
    "train1.to_csv('../data/train_stacked.csv', index=False)\n",
    "\n",
    "test1 = pd.read_csv('../data/test_stacked.csv')\n",
    "test2 = pd.read_csv('../data/test_nx_ig_v2.csv')\n",
    "X_test = pd.concat([test1.loc[:,['sim','cn','year_diff','common_authors','title_overlap','journal_overlap','centroid_sim','wmd']], test2.loc[:,['tgt_citation','jaccard_nx']]], axis=1)\n",
    "X_test = scaler.transform(X_test)\n",
    "y_test_pred = clf_lr.predict(X_test)\n",
    "test1['lr_stack'] = y_test_pred\n",
    "test1.to_csv('../data/test_stacked.csv', index=False)"
   ]
  },
  {
   "cell_type": "code",
   "execution_count": 7,
   "metadata": {
    "collapsed": true
   },
   "outputs": [],
   "source": [
    "df = pd.DataFrame(y_test_pred, columns=['category'])\n",
    "df.index.name = 'id'\n",
    "df.to_csv('../result/lr_new2.csv', index=True, header=True)"
   ]
  },
  {
   "cell_type": "code",
   "execution_count": null,
   "metadata": {
    "collapsed": true
   },
   "outputs": [],
   "source": []
  },
  {
   "cell_type": "code",
   "execution_count": null,
   "metadata": {
    "collapsed": true
   },
   "outputs": [],
   "source": []
  },
  {
   "cell_type": "code",
   "execution_count": null,
   "metadata": {
    "collapsed": true
   },
   "outputs": [],
   "source": []
  },
  {
   "cell_type": "code",
   "execution_count": null,
   "metadata": {
    "collapsed": true
   },
   "outputs": [],
   "source": []
  }
 ],
 "metadata": {
  "anaconda-cloud": {},
  "kernelspec": {
   "display_name": "Python [default]",
   "language": "python",
   "name": "python3"
  },
  "language_info": {
   "codemirror_mode": {
    "name": "ipython",
    "version": 3
   },
   "file_extension": ".py",
   "mimetype": "text/x-python",
   "name": "python",
   "nbconvert_exporter": "python",
   "pygments_lexer": "ipython3",
   "version": "3.5.4"
  }
 },
 "nbformat": 4,
 "nbformat_minor": 2
}
